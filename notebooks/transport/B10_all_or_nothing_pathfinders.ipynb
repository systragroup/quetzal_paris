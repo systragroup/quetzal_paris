{
 "cells": [
  {
   "cell_type": "markdown",
   "metadata": {
    "tags": [
     "instruction"
    ]
   },
   "source": [
    "# All or nothing pathfinders\n",
    "1. Modify supply information in `sm.links` and `sm.road_links`\n",
    "2. Run two possible all or nothing PT pathfinders:\n",
    "    - one allowing walking on the road network\n",
    "    - one allowing walking only on dedicated footpaths\n",
    "3. Run on all or nothing road pathfinder"
   ]
  },
  {
   "cell_type": "code",
   "execution_count": 16,
   "metadata": {},
   "outputs": [],
   "source": [
    "import sys # for automation and parallelization: set manual to false when run by a launcher\n",
    "manual, scenario = (True, 'base') if 'ipykernel' in sys.argv[0] else (False, sys.argv[1])"
   ]
  },
  {
   "cell_type": "markdown",
   "metadata": {},
   "source": [
    "# START"
   ]
  },
  {
   "cell_type": "code",
   "execution_count": 17,
   "metadata": {},
   "outputs": [],
   "source": [
    "import sys\n",
    "sys.path.insert(0, r'../../../quetzal')\n",
    "\n",
    "from quetzal.model import stepmodel\n",
    "import os\n",
    "import pandas as pd\n",
    "if manual:\n",
    "    %matplotlib inline"
   ]
  },
  {
   "cell_type": "code",
   "execution_count": 18,
   "metadata": {},
   "outputs": [],
   "source": [
    "training_folder = '../../'"
   ]
  },
  {
   "cell_type": "markdown",
   "metadata": {
    "tags": [
     "instruction"
    ]
   },
   "source": [
    "Load the model `base/walk_model.zip`."
   ]
  },
  {
   "cell_type": "markdown",
   "metadata": {},
   "source": [
    "# Additional supply data\n",
    "- links length\n",
    "- road_links time and walk_time"
   ]
  },
  {
   "cell_type": "markdown",
   "metadata": {
    "tags": [
     "instruction"
    ]
   },
   "source": [
    "1. Compute the mean bus commercial speed from `sm.links` dataframe.\n",
    "2. Set `road_links['time']` based on a `car_speed` 25% higher than bus commercial speed\n",
    "3. Set `road_links['walk_time']` based on a walking speed three times slower than car."
   ]
  },
  {
   "cell_type": "markdown",
   "metadata": {},
   "source": [
    "# PT PATHFINDER\n",
    "## walk on road\n",
    "People walk on the road network, slow computation.  \n",
    "Requires `'walk_time'` in `road_links` columns."
   ]
  },
  {
   "cell_type": "code",
   "execution_count": 36,
   "metadata": {
    "scrolled": true
   },
   "outputs": [
    {
     "name": "stderr",
     "output_type": "stream",
     "text": [
      "zone_77 : 100%|██████████████████████████████████████████████████████████████████████| 110/110 [00:25<00:00,  4.28it/s]\n",
      "path_analysis: 100%|██████████████████████████████████████████████████████████| 12100/12100 [00:00<00:00, 16777.14it/s]\n"
     ]
    }
   ],
   "source": [
    "wor = sm.copy()\n",
    "wor.step_pt_pathfinder(broken_modes=False, broken_routes=False, walk_on_road=True)"
   ]
  },
  {
   "cell_type": "markdown",
   "metadata": {},
   "source": [
    "## as the crow flies\n",
    "people walk on dedicated access and egress links only"
   ]
  },
  {
   "cell_type": "code",
   "execution_count": 37,
   "metadata": {
    "scrolled": true
   },
   "outputs": [
    {
     "name": "stderr",
     "output_type": "stream",
     "text": [
      "zone_77 : 100%|██████████████████████████████████████████████████████████████████████| 110/110 [00:13<00:00,  8.05it/s]\n",
      "path_analysis: 100%|██████████████████████████████████████████████████████████| 12100/12100 [00:00<00:00, 16359.72it/s]\n"
     ]
    }
   ],
   "source": [
    "acf = sm.copy()\n",
    "acf.step_pt_pathfinder(broken_modes=False, broken_routes=False)"
   ]
  },
  {
   "cell_type": "markdown",
   "metadata": {
    "tags": [
     "instruction"
    ]
   },
   "source": [
    "For all OD, compare gtime obtained with acf and obtained with wor.\n",
    "1. by plotting both on a scatter plot\n",
    "2. by comparing their statistics"
   ]
  },
  {
   "cell_type": "code",
   "execution_count": 38,
   "metadata": {},
   "outputs": [],
   "source": [
    "# here we chose to use the ACF paths only\n",
    "sm.pt_los = acf.pt_los"
   ]
  },
  {
   "cell_type": "markdown",
   "metadata": {},
   "source": [
    "# ROAD PATHFINDER"
   ]
  },
  {
   "cell_type": "code",
   "execution_count": 39,
   "metadata": {
    "scrolled": true
   },
   "outputs": [
    {
     "name": "stderr",
     "output_type": "stream",
     "text": [
      "100%|████████████████████████████████████████████████████████████████████████████████| 110/110 [00:11<00:00,  9.77it/s]\n"
     ]
    }
   ],
   "source": [
    "sm.step_road_pathfinder(all_or_nothing=True)"
   ]
  },
  {
   "cell_type": "code",
   "execution_count": 11,
   "metadata": {},
   "outputs": [
    {
     "name": "stderr",
     "output_type": "stream",
     "text": [
      "to_hdf(new file): 100%|████████████████████████████████████████████████████████████████| 38/38 [00:06<00:00,  5.44it/s]\n"
     ]
    }
   ],
   "source": [
    "if not os.path.isdir(training_folder + 'model/{scen}'.format(scen=scenario)):\n",
    "    os.mkdir(training_folder + \"model/%s\" % scenario)\n",
    "sm.to_zip(training_folder + 'model/{scen}/aon_pathfinder.zip'.format(scen=scenario))  "
   ]
  },
  {
   "cell_type": "markdown",
   "metadata": {
    "tags": [
     "instruction"
    ]
   },
   "source": [
    "# PLOT"
   ]
  },
  {
   "cell_type": "markdown",
   "metadata": {
    "tags": [
     "instruction"
    ]
   },
   "source": [
    "Compare the PT and CAR level of service for all ODs.  "
   ]
  },
  {
   "cell_type": "markdown",
   "metadata": {},
   "source": [
    "# END"
   ]
  }
 ],
 "metadata": {
  "anaconda-cloud": {},
  "celltoolbar": "Tags",
  "kernelspec": {
   "display_name": "Python [conda env:quetzal_env]",
   "language": "python",
   "name": "conda-env-quetzal_env-py"
  },
  "language_info": {
   "codemirror_mode": {
    "name": "ipython",
    "version": 3
   },
   "file_extension": ".py",
   "mimetype": "text/x-python",
   "name": "python",
   "nbconvert_exporter": "python",
   "pygments_lexer": "ipython3",
   "version": "3.7.7"
  }
 },
 "nbformat": 4,
 "nbformat_minor": 2
}
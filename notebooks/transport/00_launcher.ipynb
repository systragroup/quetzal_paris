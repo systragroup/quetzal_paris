{
 "cells": [
  {
   "cell_type": "code",
   "execution_count": 2,
   "metadata": {},
   "outputs": [],
   "source": [
    "import sys\n",
    "sys.path.insert(0, r'../../../quetzal')\n",
    "from quetzal.os.parallel_call import parallel_call_notebook\n",
    "\n",
    "import os\n",
    "if not os.path.exists('log/'):\n",
    "    os.makedirs('log/')"
   ]
  },
  {
   "cell_type": "code",
   "execution_count": 3,
   "metadata": {},
   "outputs": [
    {
     "name": "stdout",
     "output_type": "stream",
     "text": [
      "['{\"scenario\": \"base\"}']\n",
      "{'workers': 5, 'errout_suffix': True, 'sleep': 1, 'stdout_path': 'log/out.txt', 'stderr_path': 'log/err.txt'}\n"
     ]
    }
   ],
   "source": [
    "kwargs = {'workers':5, 'errout_suffix':True, 'sleep':1,'stdout_path':r'log/out.txt', 'stderr_path':r'log/err.txt'}\n",
    "\n",
    "arg_list = ['{\"scenario\": \"base\"}']\n",
    "\n",
    "print(arg_list)\n",
    "print(kwargs)"
   ]
  },
  {
   "cell_type": "markdown",
   "metadata": {},
   "source": [
    "# SERIAL"
   ]
  },
  {
   "cell_type": "code",
   "execution_count": 3,
   "metadata": {},
   "outputs": [
    {
     "name": "stdout",
     "output_type": "stream",
     "text": [
      "0 A10_OpenStreetMap.py {\"scenario\": \"base\"}\n"
     ]
    },
    {
     "ename": "KeyboardInterrupt",
     "evalue": "",
     "output_type": "error",
     "traceback": [
      "\u001b[0;31m---------------------------------------------------------------------------\u001b[0m",
      "\u001b[0;31mKeyboardInterrupt\u001b[0m                         Traceback (most recent call last)",
      "\u001b[0;32m<ipython-input-3-cc1993061aa8>\u001b[0m in \u001b[0;36m<module>\u001b[0;34m\u001b[0m\n\u001b[0;32m----> 1\u001b[0;31m \u001b[0mparallel_call_notebook\u001b[0m\u001b[0;34m(\u001b[0m\u001b[0;34m'A10_OpenStreetMap.ipynb'\u001b[0m\u001b[0;34m,\u001b[0m \u001b[0marg_list\u001b[0m\u001b[0;34m=\u001b[0m\u001b[0marg_list\u001b[0m\u001b[0;34m,\u001b[0m \u001b[0;34m**\u001b[0m\u001b[0mkwargs\u001b[0m\u001b[0;34m)\u001b[0m\u001b[0;34m\u001b[0m\u001b[0;34m\u001b[0m\u001b[0m\n\u001b[0m",
      "\u001b[0;32m~/dev/quetzal/quetzal_paris/notebooks/transport/../../../quetzal/quetzal/os/parallel_call.py\u001b[0m in \u001b[0;36mparallel_call_notebook\u001b[0;34m(notebook, arg_list, stdout_path, stderr_path, workers, sleep, leave, errout_suffix, freeze_support, return_jobs)\u001b[0m\n\u001b[1;32m    140\u001b[0m         \u001b[0mjobs\u001b[0m\u001b[0;34m.\u001b[0m\u001b[0mappend\u001b[0m\u001b[0;34m(\u001b[0m\u001b[0;34m[\u001b[0m\u001b[0mi\u001b[0m\u001b[0;34m,\u001b[0m \u001b[0mfile\u001b[0m\u001b[0;34m,\u001b[0m \u001b[0marg\u001b[0m\u001b[0;34m,\u001b[0m \u001b[0mstdout_file\u001b[0m\u001b[0;34m,\u001b[0m \u001b[0mstderr_file\u001b[0m\u001b[0;34m]\u001b[0m\u001b[0;34m)\u001b[0m\u001b[0;34m\u001b[0m\u001b[0;34m\u001b[0m\u001b[0m\n\u001b[1;32m    141\u001b[0m \u001b[0;34m\u001b[0m\u001b[0m\n\u001b[0;32m--> 142\u001b[0;31m     \u001b[0mparallel_call_jobs\u001b[0m\u001b[0;34m(\u001b[0m\u001b[0mjobs\u001b[0m\u001b[0;34m,\u001b[0m \u001b[0mmode\u001b[0m\u001b[0;34m=\u001b[0m\u001b[0mmode\u001b[0m\u001b[0;34m,\u001b[0m \u001b[0mleave\u001b[0m\u001b[0;34m=\u001b[0m\u001b[0mleave\u001b[0m\u001b[0;34m,\u001b[0m \u001b[0mworkers\u001b[0m\u001b[0;34m=\u001b[0m\u001b[0mworkers\u001b[0m\u001b[0;34m,\u001b[0m \u001b[0msleep\u001b[0m\u001b[0;34m=\u001b[0m\u001b[0msleep\u001b[0m\u001b[0;34m)\u001b[0m\u001b[0;34m\u001b[0m\u001b[0;34m\u001b[0m\u001b[0m\n\u001b[0m\u001b[1;32m    143\u001b[0m     \u001b[0mend\u001b[0m \u001b[0;34m=\u001b[0m \u001b[0mtime\u001b[0m\u001b[0;34m.\u001b[0m\u001b[0mtime\u001b[0m\u001b[0;34m(\u001b[0m\u001b[0;34m)\u001b[0m\u001b[0;34m\u001b[0m\u001b[0;34m\u001b[0m\u001b[0m\n\u001b[1;32m    144\u001b[0m     \u001b[0mprint\u001b[0m\u001b[0;34m(\u001b[0m\u001b[0mint\u001b[0m\u001b[0;34m(\u001b[0m\u001b[0mend\u001b[0m \u001b[0;34m-\u001b[0m \u001b[0mstart\u001b[0m\u001b[0;34m)\u001b[0m\u001b[0;34m,\u001b[0m \u001b[0;34m'seconds'\u001b[0m\u001b[0;34m)\u001b[0m\u001b[0;34m\u001b[0m\u001b[0;34m\u001b[0m\u001b[0m\n",
      "\u001b[0;32m~/dev/quetzal/quetzal_paris/notebooks/transport/../../../quetzal/quetzal/os/parallel_call.py\u001b[0m in \u001b[0;36mparallel_call_jobs\u001b[0;34m(jobs, mode, leave, workers, sleep)\u001b[0m\n\u001b[1;32m     57\u001b[0m                     \u001b[0;31m# print('waiting')\u001b[0m\u001b[0;34m\u001b[0m\u001b[0;34m\u001b[0m\u001b[0;34m\u001b[0m\u001b[0m\n\u001b[1;32m     58\u001b[0m                     \u001b[0;32mfor\u001b[0m \u001b[0mp\u001b[0m \u001b[0;32min\u001b[0m \u001b[0mpopens\u001b[0m\u001b[0;34m.\u001b[0m\u001b[0mvalues\u001b[0m\u001b[0;34m(\u001b[0m\u001b[0;34m)\u001b[0m\u001b[0;34m:\u001b[0m\u001b[0;34m\u001b[0m\u001b[0;34m\u001b[0m\u001b[0m\n\u001b[0;32m---> 59\u001b[0;31m                         \u001b[0mp\u001b[0m\u001b[0;34m.\u001b[0m\u001b[0mwait\u001b[0m\u001b[0;34m(\u001b[0m\u001b[0;34m)\u001b[0m\u001b[0;34m\u001b[0m\u001b[0;34m\u001b[0m\u001b[0m\n\u001b[0m\u001b[1;32m     60\u001b[0m         \u001b[0mtime\u001b[0m\u001b[0;34m.\u001b[0m\u001b[0msleep\u001b[0m\u001b[0;34m(\u001b[0m\u001b[0msleep\u001b[0m\u001b[0;34m)\u001b[0m\u001b[0;34m\u001b[0m\u001b[0;34m\u001b[0m\u001b[0m\n\u001b[1;32m     61\u001b[0m \u001b[0;34m\u001b[0m\u001b[0m\n",
      "\u001b[0;32m~/.pyenv/versions/3.8.16/lib/python3.8/subprocess.py\u001b[0m in \u001b[0;36mwait\u001b[0;34m(self, timeout)\u001b[0m\n\u001b[1;32m   1081\u001b[0m             \u001b[0mendtime\u001b[0m \u001b[0;34m=\u001b[0m \u001b[0m_time\u001b[0m\u001b[0;34m(\u001b[0m\u001b[0;34m)\u001b[0m \u001b[0;34m+\u001b[0m \u001b[0mtimeout\u001b[0m\u001b[0;34m\u001b[0m\u001b[0;34m\u001b[0m\u001b[0m\n\u001b[1;32m   1082\u001b[0m         \u001b[0;32mtry\u001b[0m\u001b[0;34m:\u001b[0m\u001b[0;34m\u001b[0m\u001b[0;34m\u001b[0m\u001b[0m\n\u001b[0;32m-> 1083\u001b[0;31m             \u001b[0;32mreturn\u001b[0m \u001b[0mself\u001b[0m\u001b[0;34m.\u001b[0m\u001b[0m_wait\u001b[0m\u001b[0;34m(\u001b[0m\u001b[0mtimeout\u001b[0m\u001b[0;34m=\u001b[0m\u001b[0mtimeout\u001b[0m\u001b[0;34m)\u001b[0m\u001b[0;34m\u001b[0m\u001b[0;34m\u001b[0m\u001b[0m\n\u001b[0m\u001b[1;32m   1084\u001b[0m         \u001b[0;32mexcept\u001b[0m \u001b[0mKeyboardInterrupt\u001b[0m\u001b[0;34m:\u001b[0m\u001b[0;34m\u001b[0m\u001b[0;34m\u001b[0m\u001b[0m\n\u001b[1;32m   1085\u001b[0m             \u001b[0;31m# https://bugs.python.org/issue25942\u001b[0m\u001b[0;34m\u001b[0m\u001b[0;34m\u001b[0m\u001b[0;34m\u001b[0m\u001b[0m\n",
      "\u001b[0;32m~/.pyenv/versions/3.8.16/lib/python3.8/subprocess.py\u001b[0m in \u001b[0;36m_wait\u001b[0;34m(self, timeout)\u001b[0m\n\u001b[1;32m   1804\u001b[0m                         \u001b[0;32mif\u001b[0m \u001b[0mself\u001b[0m\u001b[0;34m.\u001b[0m\u001b[0mreturncode\u001b[0m \u001b[0;32mis\u001b[0m \u001b[0;32mnot\u001b[0m \u001b[0;32mNone\u001b[0m\u001b[0;34m:\u001b[0m\u001b[0;34m\u001b[0m\u001b[0;34m\u001b[0m\u001b[0m\n\u001b[1;32m   1805\u001b[0m                             \u001b[0;32mbreak\u001b[0m  \u001b[0;31m# Another thread waited.\u001b[0m\u001b[0;34m\u001b[0m\u001b[0;34m\u001b[0m\u001b[0m\n\u001b[0;32m-> 1806\u001b[0;31m                         \u001b[0;34m(\u001b[0m\u001b[0mpid\u001b[0m\u001b[0;34m,\u001b[0m \u001b[0msts\u001b[0m\u001b[0;34m)\u001b[0m \u001b[0;34m=\u001b[0m \u001b[0mself\u001b[0m\u001b[0;34m.\u001b[0m\u001b[0m_try_wait\u001b[0m\u001b[0;34m(\u001b[0m\u001b[0;36m0\u001b[0m\u001b[0;34m)\u001b[0m\u001b[0;34m\u001b[0m\u001b[0;34m\u001b[0m\u001b[0m\n\u001b[0m\u001b[1;32m   1807\u001b[0m                         \u001b[0;31m# Check the pid and loop as waitpid has been known to\u001b[0m\u001b[0;34m\u001b[0m\u001b[0;34m\u001b[0m\u001b[0;34m\u001b[0m\u001b[0m\n\u001b[1;32m   1808\u001b[0m                         \u001b[0;31m# return 0 even without WNOHANG in odd situations.\u001b[0m\u001b[0;34m\u001b[0m\u001b[0;34m\u001b[0m\u001b[0;34m\u001b[0m\u001b[0m\n",
      "\u001b[0;32m~/.pyenv/versions/3.8.16/lib/python3.8/subprocess.py\u001b[0m in \u001b[0;36m_try_wait\u001b[0;34m(self, wait_flags)\u001b[0m\n\u001b[1;32m   1762\u001b[0m             \u001b[0;34m\"\"\"All callers to this function MUST hold self._waitpid_lock.\"\"\"\u001b[0m\u001b[0;34m\u001b[0m\u001b[0;34m\u001b[0m\u001b[0m\n\u001b[1;32m   1763\u001b[0m             \u001b[0;32mtry\u001b[0m\u001b[0;34m:\u001b[0m\u001b[0;34m\u001b[0m\u001b[0;34m\u001b[0m\u001b[0m\n\u001b[0;32m-> 1764\u001b[0;31m                 \u001b[0;34m(\u001b[0m\u001b[0mpid\u001b[0m\u001b[0;34m,\u001b[0m \u001b[0msts\u001b[0m\u001b[0;34m)\u001b[0m \u001b[0;34m=\u001b[0m \u001b[0mos\u001b[0m\u001b[0;34m.\u001b[0m\u001b[0mwaitpid\u001b[0m\u001b[0;34m(\u001b[0m\u001b[0mself\u001b[0m\u001b[0;34m.\u001b[0m\u001b[0mpid\u001b[0m\u001b[0;34m,\u001b[0m \u001b[0mwait_flags\u001b[0m\u001b[0;34m)\u001b[0m\u001b[0;34m\u001b[0m\u001b[0;34m\u001b[0m\u001b[0m\n\u001b[0m\u001b[1;32m   1765\u001b[0m             \u001b[0;32mexcept\u001b[0m \u001b[0mChildProcessError\u001b[0m\u001b[0;34m:\u001b[0m\u001b[0;34m\u001b[0m\u001b[0;34m\u001b[0m\u001b[0m\n\u001b[1;32m   1766\u001b[0m                 \u001b[0;31m# This happens if SIGCLD is set to be ignored or waiting\u001b[0m\u001b[0;34m\u001b[0m\u001b[0;34m\u001b[0m\u001b[0;34m\u001b[0m\u001b[0m\n",
      "\u001b[0;31mKeyboardInterrupt\u001b[0m: "
     ]
    }
   ],
   "source": [
    "parallel_call_notebook('A10_OpenStreetMap.ipynb', arg_list=arg_list, **kwargs)"
   ]
  },
  {
   "cell_type": "code",
   "execution_count": 4,
   "metadata": {},
   "outputs": [
    {
     "name": "stdout",
     "output_type": "stream",
     "text": [
      "0 A20_GTFS_import.py {\"scenario\": \"base\"}\n",
      "40 seconds\n"
     ]
    }
   ],
   "source": [
    "parallel_call_notebook('A20_GTFS_import.ipynb', arg_list=arg_list, **kwargs)"
   ]
  },
  {
   "cell_type": "code",
   "execution_count": 4,
   "metadata": {},
   "outputs": [
    {
     "name": "stderr",
     "output_type": "stream",
     "text": [
      "usage: jupyter [-h] [--version] [--config-dir] [--data-dir] [--runtime-dir]\n",
      "               [--paths] [--json] [--debug]\n",
      "               [subcommand]\n",
      "\n",
      "Jupyter: Interactive Computing\n",
      "\n",
      "positional arguments:\n",
      "  subcommand     the subcommand to launch\n",
      "\n",
      "options:\n",
      "  -h, --help     show this help message and exit\n",
      "  --version      show the versions of core jupyter packages and exit\n",
      "  --config-dir   show Jupyter config dir\n",
      "  --data-dir     show Jupyter data dir\n",
      "  --runtime-dir  show Jupyter runtime dir\n",
      "  --paths        show all Jupyter paths. Add --json for machine-readable\n",
      "                 format.\n",
      "  --json         output paths as machine-readable json\n",
      "  --debug        output debug information about paths\n",
      "\n",
      "Available subcommands: kernel kernelspec migrate run troubleshoot\n",
      "\n",
      "Jupyter command `jupyter-nbconvert` not found.\n"
     ]
    },
    {
     "ename": "FileNotFoundError",
     "evalue": "[Errno 2] No such file or directory: 'A30_network_integrity.py'",
     "output_type": "error",
     "traceback": [
      "\u001b[0;31m---------------------------------------------------------------------------\u001b[0m",
      "\u001b[0;31mFileNotFoundError\u001b[0m                         Traceback (most recent call last)",
      "Cell \u001b[0;32mIn[4], line 1\u001b[0m\n\u001b[0;32m----> 1\u001b[0m parallel_call_notebook(\u001b[39m'\u001b[39;49m\u001b[39mA30_network_integrity.ipynb\u001b[39;49m\u001b[39m'\u001b[39;49m, arg_list\u001b[39m=\u001b[39;49marg_list, \u001b[39m*\u001b[39;49m\u001b[39m*\u001b[39;49mkwargs)\n",
      "File \u001b[0;32m~/dev/quetzal/quetzal_paris/notebooks/transport/../../../quetzal/quetzal/os/parallel_call.py:130\u001b[0m, in \u001b[0;36mparallel_call_notebook\u001b[0;34m(notebook, arg_list, stdout_path, stderr_path, workers, sleep, leave, errout_suffix, freeze_support, return_jobs)\u001b[0m\n\u001b[1;32m    128\u001b[0m file \u001b[39m=\u001b[39m notebook\u001b[39m.\u001b[39mreplace(\u001b[39m'\u001b[39m\u001b[39m.ipynb\u001b[39m\u001b[39m'\u001b[39m, \u001b[39m'\u001b[39m\u001b[39m.py\u001b[39m\u001b[39m'\u001b[39m)\n\u001b[1;32m    129\u001b[0m \u001b[39mif\u001b[39;00m freeze_support:\n\u001b[0;32m--> 130\u001b[0m     add_freeze_support(file)\n\u001b[1;32m    132\u001b[0m mode \u001b[39m=\u001b[39m \u001b[39m'\u001b[39m\u001b[39mw\u001b[39m\u001b[39m'\u001b[39m \u001b[39mif\u001b[39;00m errout_suffix \u001b[39melse\u001b[39;00m \u001b[39m'\u001b[39m\u001b[39ma+\u001b[39m\u001b[39m'\u001b[39m\n\u001b[1;32m    134\u001b[0m \u001b[39mfor\u001b[39;00m i \u001b[39min\u001b[39;00m \u001b[39mrange\u001b[39m(\u001b[39mlen\u001b[39m(arg_list)):\n",
      "File \u001b[0;32m~/dev/quetzal/quetzal_paris/notebooks/transport/../../../quetzal/quetzal/os/parallel_call.py:11\u001b[0m, in \u001b[0;36madd_freeze_support\u001b[0;34m(file)\u001b[0m\n\u001b[1;32m     10\u001b[0m \u001b[39mdef\u001b[39;00m \u001b[39madd_freeze_support\u001b[39m(file):\n\u001b[0;32m---> 11\u001b[0m     \u001b[39mwith\u001b[39;00m \u001b[39mopen\u001b[39;49m(file, \u001b[39m'\u001b[39;49m\u001b[39mr\u001b[39;49m\u001b[39m'\u001b[39;49m) \u001b[39mas\u001b[39;00m pyfile:\n\u001b[1;32m     12\u001b[0m         lines \u001b[39m=\u001b[39m pyfile\u001b[39m.\u001b[39mreadlines()\n\u001b[1;32m     13\u001b[0m     top \u001b[39m=\u001b[39m [\n\u001b[1;32m     14\u001b[0m         \u001b[39m\"\u001b[39m\u001b[39mdef main():\u001b[39m\u001b[39m\\n\u001b[39;00m\u001b[39m\"\u001b[39m\n\u001b[1;32m     15\u001b[0m     ]\n",
      "\u001b[0;31mFileNotFoundError\u001b[0m: [Errno 2] No such file or directory: 'A30_network_integrity.py'"
     ]
    }
   ],
   "source": [
    "parallel_call_notebook('A30_network_integrity.ipynb', arg_list=arg_list, **kwargs)"
   ]
  },
  {
   "cell_type": "code",
   "execution_count": 8,
   "metadata": {},
   "outputs": [
    {
     "name": "stderr",
     "output_type": "stream",
     "text": [
      "usage: jupyter [-h] [--version] [--config-dir] [--data-dir] [--runtime-dir]\n",
      "               [--paths] [--json] [--debug]\n",
      "               [subcommand]\n",
      "\n",
      "Jupyter: Interactive Computing\n",
      "\n",
      "positional arguments:\n",
      "  subcommand     the subcommand to launch\n",
      "\n",
      "optional arguments:\n",
      "  -h, --help     show this help message and exit\n",
      "  --version      show the versions of core jupyter packages and exit\n",
      "  --config-dir   show Jupyter config dir\n",
      "  --data-dir     show Jupyter data dir\n",
      "  --runtime-dir  show Jupyter runtime dir\n",
      "  --paths        show all Jupyter paths. Add --json for machine-readable\n",
      "                 format.\n",
      "  --json         output paths as machine-readable json\n",
      "  --debug        output debug information about paths\n",
      "\n",
      "Available subcommands: kernel kernelspec migrate run troubleshoot\n",
      "\n",
      "Jupyter command `jupyter-nbconvert` not found.\n"
     ]
    },
    {
     "ename": "FileNotFoundError",
     "evalue": "[Errno 2] No such file or directory: 'A40_networkcaster.py'",
     "output_type": "error",
     "traceback": [
      "\u001b[0;31m---------------------------------------------------------------------------\u001b[0m",
      "\u001b[0;31mFileNotFoundError\u001b[0m                         Traceback (most recent call last)",
      "Cell \u001b[0;32mIn[8], line 1\u001b[0m\n\u001b[0;32m----> 1\u001b[0m parallel_call_notebook(\u001b[39m'\u001b[39;49m\u001b[39mA40_networkcaster.ipynb\u001b[39;49m\u001b[39m'\u001b[39;49m, arg_list\u001b[39m=\u001b[39;49marg_list, \u001b[39m*\u001b[39;49m\u001b[39m*\u001b[39;49mkwargs)\n",
      "File \u001b[0;32m~/dev/quetzal/quetzal_paris/notebooks/transport/../../../quetzal/quetzal/os/parallel_call.py:130\u001b[0m, in \u001b[0;36mparallel_call_notebook\u001b[0;34m(notebook, arg_list, stdout_path, stderr_path, workers, sleep, leave, errout_suffix, freeze_support, return_jobs)\u001b[0m\n\u001b[1;32m    128\u001b[0m file \u001b[39m=\u001b[39m notebook\u001b[39m.\u001b[39mreplace(\u001b[39m'\u001b[39m\u001b[39m.ipynb\u001b[39m\u001b[39m'\u001b[39m, \u001b[39m'\u001b[39m\u001b[39m.py\u001b[39m\u001b[39m'\u001b[39m)\n\u001b[1;32m    129\u001b[0m \u001b[39mif\u001b[39;00m freeze_support:\n\u001b[0;32m--> 130\u001b[0m     add_freeze_support(file)\n\u001b[1;32m    132\u001b[0m mode \u001b[39m=\u001b[39m \u001b[39m'\u001b[39m\u001b[39mw\u001b[39m\u001b[39m'\u001b[39m \u001b[39mif\u001b[39;00m errout_suffix \u001b[39melse\u001b[39;00m \u001b[39m'\u001b[39m\u001b[39ma+\u001b[39m\u001b[39m'\u001b[39m\n\u001b[1;32m    134\u001b[0m \u001b[39mfor\u001b[39;00m i \u001b[39min\u001b[39;00m \u001b[39mrange\u001b[39m(\u001b[39mlen\u001b[39m(arg_list)):\n",
      "File \u001b[0;32m~/dev/quetzal/quetzal_paris/notebooks/transport/../../../quetzal/quetzal/os/parallel_call.py:11\u001b[0m, in \u001b[0;36madd_freeze_support\u001b[0;34m(file)\u001b[0m\n\u001b[1;32m     10\u001b[0m \u001b[39mdef\u001b[39;00m \u001b[39madd_freeze_support\u001b[39m(file):\n\u001b[0;32m---> 11\u001b[0m     \u001b[39mwith\u001b[39;00m \u001b[39mopen\u001b[39;49m(file, \u001b[39m'\u001b[39;49m\u001b[39mr\u001b[39;49m\u001b[39m'\u001b[39;49m) \u001b[39mas\u001b[39;00m pyfile:\n\u001b[1;32m     12\u001b[0m         lines \u001b[39m=\u001b[39m pyfile\u001b[39m.\u001b[39mreadlines()\n\u001b[1;32m     13\u001b[0m     top \u001b[39m=\u001b[39m [\n\u001b[1;32m     14\u001b[0m         \u001b[39m\"\u001b[39m\u001b[39mdef main():\u001b[39m\u001b[39m\\n\u001b[39;00m\u001b[39m\"\u001b[39m\n\u001b[1;32m     15\u001b[0m     ]\n",
      "\u001b[0;31mFileNotFoundError\u001b[0m: [Errno 2] No such file or directory: 'A40_networkcaster.py'"
     ]
    }
   ],
   "source": [
    "parallel_call_notebook('A40_networkcaster.ipynb', arg_list=arg_list, **kwargs)"
   ]
  },
  {
   "cell_type": "code",
   "execution_count": 9,
   "metadata": {},
   "outputs": [
    {
     "name": "stderr",
     "output_type": "stream",
     "text": [
      "usage: jupyter [-h] [--version] [--config-dir] [--data-dir] [--runtime-dir]\n",
      "               [--paths] [--json] [--debug]\n",
      "               [subcommand]\n",
      "\n",
      "Jupyter: Interactive Computing\n",
      "\n",
      "positional arguments:\n",
      "  subcommand     the subcommand to launch\n",
      "\n",
      "optional arguments:\n",
      "  -h, --help     show this help message and exit\n",
      "  --version      show the versions of core jupyter packages and exit\n",
      "  --config-dir   show Jupyter config dir\n",
      "  --data-dir     show Jupyter data dir\n",
      "  --runtime-dir  show Jupyter runtime dir\n",
      "  --paths        show all Jupyter paths. Add --json for machine-readable\n",
      "                 format.\n",
      "  --json         output paths as machine-readable json\n",
      "  --debug        output debug information about paths\n",
      "\n",
      "Available subcommands: kernel kernelspec migrate run troubleshoot\n",
      "\n",
      "Jupyter command `jupyter-nbconvert` not found.\n"
     ]
    },
    {
     "ename": "FileNotFoundError",
     "evalue": "[Errno 2] No such file or directory: 'A50_walkmodel.py'",
     "output_type": "error",
     "traceback": [
      "\u001b[0;31m---------------------------------------------------------------------------\u001b[0m",
      "\u001b[0;31mFileNotFoundError\u001b[0m                         Traceback (most recent call last)",
      "Cell \u001b[0;32mIn[9], line 1\u001b[0m\n\u001b[0;32m----> 1\u001b[0m parallel_call_notebook(\u001b[39m'\u001b[39;49m\u001b[39mA50_walkmodel.ipynb\u001b[39;49m\u001b[39m'\u001b[39;49m, arg_list\u001b[39m=\u001b[39;49marg_list, \u001b[39m*\u001b[39;49m\u001b[39m*\u001b[39;49mkwargs)\n",
      "File \u001b[0;32m~/dev/quetzal/quetzal_paris/notebooks/transport/../../../quetzal/quetzal/os/parallel_call.py:130\u001b[0m, in \u001b[0;36mparallel_call_notebook\u001b[0;34m(notebook, arg_list, stdout_path, stderr_path, workers, sleep, leave, errout_suffix, freeze_support, return_jobs)\u001b[0m\n\u001b[1;32m    128\u001b[0m file \u001b[39m=\u001b[39m notebook\u001b[39m.\u001b[39mreplace(\u001b[39m'\u001b[39m\u001b[39m.ipynb\u001b[39m\u001b[39m'\u001b[39m, \u001b[39m'\u001b[39m\u001b[39m.py\u001b[39m\u001b[39m'\u001b[39m)\n\u001b[1;32m    129\u001b[0m \u001b[39mif\u001b[39;00m freeze_support:\n\u001b[0;32m--> 130\u001b[0m     add_freeze_support(file)\n\u001b[1;32m    132\u001b[0m mode \u001b[39m=\u001b[39m \u001b[39m'\u001b[39m\u001b[39mw\u001b[39m\u001b[39m'\u001b[39m \u001b[39mif\u001b[39;00m errout_suffix \u001b[39melse\u001b[39;00m \u001b[39m'\u001b[39m\u001b[39ma+\u001b[39m\u001b[39m'\u001b[39m\n\u001b[1;32m    134\u001b[0m \u001b[39mfor\u001b[39;00m i \u001b[39min\u001b[39;00m \u001b[39mrange\u001b[39m(\u001b[39mlen\u001b[39m(arg_list)):\n",
      "File \u001b[0;32m~/dev/quetzal/quetzal_paris/notebooks/transport/../../../quetzal/quetzal/os/parallel_call.py:11\u001b[0m, in \u001b[0;36madd_freeze_support\u001b[0;34m(file)\u001b[0m\n\u001b[1;32m     10\u001b[0m \u001b[39mdef\u001b[39;00m \u001b[39madd_freeze_support\u001b[39m(file):\n\u001b[0;32m---> 11\u001b[0m     \u001b[39mwith\u001b[39;00m \u001b[39mopen\u001b[39;49m(file, \u001b[39m'\u001b[39;49m\u001b[39mr\u001b[39;49m\u001b[39m'\u001b[39;49m) \u001b[39mas\u001b[39;00m pyfile:\n\u001b[1;32m     12\u001b[0m         lines \u001b[39m=\u001b[39m pyfile\u001b[39m.\u001b[39mreadlines()\n\u001b[1;32m     13\u001b[0m     top \u001b[39m=\u001b[39m [\n\u001b[1;32m     14\u001b[0m         \u001b[39m\"\u001b[39m\u001b[39mdef main():\u001b[39m\u001b[39m\\n\u001b[39;00m\u001b[39m\"\u001b[39m\n\u001b[1;32m     15\u001b[0m     ]\n",
      "\u001b[0;31mFileNotFoundError\u001b[0m: [Errno 2] No such file or directory: 'A50_walkmodel.py'"
     ]
    }
   ],
   "source": [
    "parallel_call_notebook('A50_walkmodel.ipynb', arg_list=arg_list, **kwargs)"
   ]
  },
  {
   "cell_type": "code",
   "execution_count": 10,
   "metadata": {},
   "outputs": [
    {
     "name": "stderr",
     "output_type": "stream",
     "text": [
      "usage: jupyter [-h] [--version] [--config-dir] [--data-dir] [--runtime-dir]\n",
      "               [--paths] [--json] [--debug]\n",
      "               [subcommand]\n",
      "\n",
      "Jupyter: Interactive Computing\n",
      "\n",
      "positional arguments:\n",
      "  subcommand     the subcommand to launch\n",
      "\n",
      "optional arguments:\n",
      "  -h, --help     show this help message and exit\n",
      "  --version      show the versions of core jupyter packages and exit\n",
      "  --config-dir   show Jupyter config dir\n",
      "  --data-dir     show Jupyter data dir\n",
      "  --runtime-dir  show Jupyter runtime dir\n",
      "  --paths        show all Jupyter paths. Add --json for machine-readable\n",
      "                 format.\n",
      "  --json         output paths as machine-readable json\n",
      "  --debug        output debug information about paths\n",
      "\n",
      "Available subcommands: kernel kernelspec migrate run troubleshoot\n",
      "\n",
      "Jupyter command `jupyter-nbconvert` not found.\n"
     ]
    },
    {
     "ename": "FileNotFoundError",
     "evalue": "[Errno 2] No such file or directory: 'B10_all_or_nothing_pathfinders.py'",
     "output_type": "error",
     "traceback": [
      "\u001b[0;31m---------------------------------------------------------------------------\u001b[0m",
      "\u001b[0;31mFileNotFoundError\u001b[0m                         Traceback (most recent call last)",
      "Cell \u001b[0;32mIn[10], line 1\u001b[0m\n\u001b[0;32m----> 1\u001b[0m parallel_call_notebook(\u001b[39m'\u001b[39;49m\u001b[39mB10_all_or_nothing_pathfinders.ipynb\u001b[39;49m\u001b[39m'\u001b[39;49m, arg_list\u001b[39m=\u001b[39;49marg_list, \u001b[39m*\u001b[39;49m\u001b[39m*\u001b[39;49mkwargs)\n",
      "File \u001b[0;32m~/dev/quetzal/quetzal_paris/notebooks/transport/../../../quetzal/quetzal/os/parallel_call.py:130\u001b[0m, in \u001b[0;36mparallel_call_notebook\u001b[0;34m(notebook, arg_list, stdout_path, stderr_path, workers, sleep, leave, errout_suffix, freeze_support, return_jobs)\u001b[0m\n\u001b[1;32m    128\u001b[0m file \u001b[39m=\u001b[39m notebook\u001b[39m.\u001b[39mreplace(\u001b[39m'\u001b[39m\u001b[39m.ipynb\u001b[39m\u001b[39m'\u001b[39m, \u001b[39m'\u001b[39m\u001b[39m.py\u001b[39m\u001b[39m'\u001b[39m)\n\u001b[1;32m    129\u001b[0m \u001b[39mif\u001b[39;00m freeze_support:\n\u001b[0;32m--> 130\u001b[0m     add_freeze_support(file)\n\u001b[1;32m    132\u001b[0m mode \u001b[39m=\u001b[39m \u001b[39m'\u001b[39m\u001b[39mw\u001b[39m\u001b[39m'\u001b[39m \u001b[39mif\u001b[39;00m errout_suffix \u001b[39melse\u001b[39;00m \u001b[39m'\u001b[39m\u001b[39ma+\u001b[39m\u001b[39m'\u001b[39m\n\u001b[1;32m    134\u001b[0m \u001b[39mfor\u001b[39;00m i \u001b[39min\u001b[39;00m \u001b[39mrange\u001b[39m(\u001b[39mlen\u001b[39m(arg_list)):\n",
      "File \u001b[0;32m~/dev/quetzal/quetzal_paris/notebooks/transport/../../../quetzal/quetzal/os/parallel_call.py:11\u001b[0m, in \u001b[0;36madd_freeze_support\u001b[0;34m(file)\u001b[0m\n\u001b[1;32m     10\u001b[0m \u001b[39mdef\u001b[39;00m \u001b[39madd_freeze_support\u001b[39m(file):\n\u001b[0;32m---> 11\u001b[0m     \u001b[39mwith\u001b[39;00m \u001b[39mopen\u001b[39;49m(file, \u001b[39m'\u001b[39;49m\u001b[39mr\u001b[39;49m\u001b[39m'\u001b[39;49m) \u001b[39mas\u001b[39;00m pyfile:\n\u001b[1;32m     12\u001b[0m         lines \u001b[39m=\u001b[39m pyfile\u001b[39m.\u001b[39mreadlines()\n\u001b[1;32m     13\u001b[0m     top \u001b[39m=\u001b[39m [\n\u001b[1;32m     14\u001b[0m         \u001b[39m\"\u001b[39m\u001b[39mdef main():\u001b[39m\u001b[39m\\n\u001b[39;00m\u001b[39m\"\u001b[39m\n\u001b[1;32m     15\u001b[0m     ]\n",
      "\u001b[0;31mFileNotFoundError\u001b[0m: [Errno 2] No such file or directory: 'B10_all_or_nothing_pathfinders.py'"
     ]
    }
   ],
   "source": [
    "parallel_call_notebook('B10_all_or_nothing_pathfinders.ipynb', arg_list=arg_list, **kwargs)"
   ]
  },
  {
   "cell_type": "code",
   "execution_count": 11,
   "metadata": {},
   "outputs": [
    {
     "name": "stderr",
     "output_type": "stream",
     "text": [
      "usage: jupyter [-h] [--version] [--config-dir] [--data-dir] [--runtime-dir]\n",
      "               [--paths] [--json] [--debug]\n",
      "               [subcommand]\n",
      "\n",
      "Jupyter: Interactive Computing\n",
      "\n",
      "positional arguments:\n",
      "  subcommand     the subcommand to launch\n",
      "\n",
      "optional arguments:\n",
      "  -h, --help     show this help message and exit\n",
      "  --version      show the versions of core jupyter packages and exit\n",
      "  --config-dir   show Jupyter config dir\n",
      "  --data-dir     show Jupyter data dir\n",
      "  --runtime-dir  show Jupyter runtime dir\n",
      "  --paths        show all Jupyter paths. Add --json for machine-readable\n",
      "                 format.\n",
      "  --json         output paths as machine-readable json\n",
      "  --debug        output debug information about paths\n",
      "\n",
      "Available subcommands: kernel kernelspec migrate run troubleshoot\n",
      "\n",
      "Jupyter command `jupyter-nbconvert` not found.\n"
     ]
    },
    {
     "ename": "FileNotFoundError",
     "evalue": "[Errno 2] No such file or directory: 'B11_generation_distribution.py'",
     "output_type": "error",
     "traceback": [
      "\u001b[0;31m---------------------------------------------------------------------------\u001b[0m",
      "\u001b[0;31mFileNotFoundError\u001b[0m                         Traceback (most recent call last)",
      "Cell \u001b[0;32mIn[11], line 1\u001b[0m\n\u001b[0;32m----> 1\u001b[0m parallel_call_notebook(\u001b[39m'\u001b[39;49m\u001b[39mB11_generation_distribution.ipynb\u001b[39;49m\u001b[39m'\u001b[39;49m, arg_list\u001b[39m=\u001b[39;49marg_list, \u001b[39m*\u001b[39;49m\u001b[39m*\u001b[39;49mkwargs)\n",
      "File \u001b[0;32m~/dev/quetzal/quetzal_paris/notebooks/transport/../../../quetzal/quetzal/os/parallel_call.py:130\u001b[0m, in \u001b[0;36mparallel_call_notebook\u001b[0;34m(notebook, arg_list, stdout_path, stderr_path, workers, sleep, leave, errout_suffix, freeze_support, return_jobs)\u001b[0m\n\u001b[1;32m    128\u001b[0m file \u001b[39m=\u001b[39m notebook\u001b[39m.\u001b[39mreplace(\u001b[39m'\u001b[39m\u001b[39m.ipynb\u001b[39m\u001b[39m'\u001b[39m, \u001b[39m'\u001b[39m\u001b[39m.py\u001b[39m\u001b[39m'\u001b[39m)\n\u001b[1;32m    129\u001b[0m \u001b[39mif\u001b[39;00m freeze_support:\n\u001b[0;32m--> 130\u001b[0m     add_freeze_support(file)\n\u001b[1;32m    132\u001b[0m mode \u001b[39m=\u001b[39m \u001b[39m'\u001b[39m\u001b[39mw\u001b[39m\u001b[39m'\u001b[39m \u001b[39mif\u001b[39;00m errout_suffix \u001b[39melse\u001b[39;00m \u001b[39m'\u001b[39m\u001b[39ma+\u001b[39m\u001b[39m'\u001b[39m\n\u001b[1;32m    134\u001b[0m \u001b[39mfor\u001b[39;00m i \u001b[39min\u001b[39;00m \u001b[39mrange\u001b[39m(\u001b[39mlen\u001b[39m(arg_list)):\n",
      "File \u001b[0;32m~/dev/quetzal/quetzal_paris/notebooks/transport/../../../quetzal/quetzal/os/parallel_call.py:11\u001b[0m, in \u001b[0;36madd_freeze_support\u001b[0;34m(file)\u001b[0m\n\u001b[1;32m     10\u001b[0m \u001b[39mdef\u001b[39;00m \u001b[39madd_freeze_support\u001b[39m(file):\n\u001b[0;32m---> 11\u001b[0m     \u001b[39mwith\u001b[39;00m \u001b[39mopen\u001b[39;49m(file, \u001b[39m'\u001b[39;49m\u001b[39mr\u001b[39;49m\u001b[39m'\u001b[39;49m) \u001b[39mas\u001b[39;00m pyfile:\n\u001b[1;32m     12\u001b[0m         lines \u001b[39m=\u001b[39m pyfile\u001b[39m.\u001b[39mreadlines()\n\u001b[1;32m     13\u001b[0m     top \u001b[39m=\u001b[39m [\n\u001b[1;32m     14\u001b[0m         \u001b[39m\"\u001b[39m\u001b[39mdef main():\u001b[39m\u001b[39m\\n\u001b[39;00m\u001b[39m\"\u001b[39m\n\u001b[1;32m     15\u001b[0m     ]\n",
      "\u001b[0;31mFileNotFoundError\u001b[0m: [Errno 2] No such file or directory: 'B11_generation_distribution.py'"
     ]
    }
   ],
   "source": [
    "parallel_call_notebook('B11_generation_distribution.ipynb', arg_list=arg_list, **kwargs)"
   ]
  },
  {
   "cell_type": "code",
   "execution_count": 12,
   "metadata": {},
   "outputs": [
    {
     "name": "stderr",
     "output_type": "stream",
     "text": [
      "usage: jupyter [-h] [--version] [--config-dir] [--data-dir] [--runtime-dir]\n",
      "               [--paths] [--json] [--debug]\n",
      "               [subcommand]\n",
      "\n",
      "Jupyter: Interactive Computing\n",
      "\n",
      "positional arguments:\n",
      "  subcommand     the subcommand to launch\n",
      "\n",
      "optional arguments:\n",
      "  -h, --help     show this help message and exit\n",
      "  --version      show the versions of core jupyter packages and exit\n",
      "  --config-dir   show Jupyter config dir\n",
      "  --data-dir     show Jupyter data dir\n",
      "  --runtime-dir  show Jupyter runtime dir\n",
      "  --paths        show all Jupyter paths. Add --json for machine-readable\n",
      "                 format.\n",
      "  --json         output paths as machine-readable json\n",
      "  --debug        output debug information about paths\n",
      "\n",
      "Available subcommands: kernel kernelspec migrate run troubleshoot\n",
      "\n",
      "Jupyter command `jupyter-nbconvert` not found.\n"
     ]
    },
    {
     "ename": "FileNotFoundError",
     "evalue": "[Errno 2] No such file or directory: 'B12_pruning_PT_pathfinder.py'",
     "output_type": "error",
     "traceback": [
      "\u001b[0;31m---------------------------------------------------------------------------\u001b[0m",
      "\u001b[0;31mFileNotFoundError\u001b[0m                         Traceback (most recent call last)",
      "Cell \u001b[0;32mIn[12], line 1\u001b[0m\n\u001b[0;32m----> 1\u001b[0m parallel_call_notebook(\u001b[39m'\u001b[39;49m\u001b[39mB12_pruning_PT_pathfinder.ipynb\u001b[39;49m\u001b[39m'\u001b[39;49m, arg_list\u001b[39m=\u001b[39;49marg_list, \u001b[39m*\u001b[39;49m\u001b[39m*\u001b[39;49mkwargs)\n",
      "File \u001b[0;32m~/dev/quetzal/quetzal_paris/notebooks/transport/../../../quetzal/quetzal/os/parallel_call.py:130\u001b[0m, in \u001b[0;36mparallel_call_notebook\u001b[0;34m(notebook, arg_list, stdout_path, stderr_path, workers, sleep, leave, errout_suffix, freeze_support, return_jobs)\u001b[0m\n\u001b[1;32m    128\u001b[0m file \u001b[39m=\u001b[39m notebook\u001b[39m.\u001b[39mreplace(\u001b[39m'\u001b[39m\u001b[39m.ipynb\u001b[39m\u001b[39m'\u001b[39m, \u001b[39m'\u001b[39m\u001b[39m.py\u001b[39m\u001b[39m'\u001b[39m)\n\u001b[1;32m    129\u001b[0m \u001b[39mif\u001b[39;00m freeze_support:\n\u001b[0;32m--> 130\u001b[0m     add_freeze_support(file)\n\u001b[1;32m    132\u001b[0m mode \u001b[39m=\u001b[39m \u001b[39m'\u001b[39m\u001b[39mw\u001b[39m\u001b[39m'\u001b[39m \u001b[39mif\u001b[39;00m errout_suffix \u001b[39melse\u001b[39;00m \u001b[39m'\u001b[39m\u001b[39ma+\u001b[39m\u001b[39m'\u001b[39m\n\u001b[1;32m    134\u001b[0m \u001b[39mfor\u001b[39;00m i \u001b[39min\u001b[39;00m \u001b[39mrange\u001b[39m(\u001b[39mlen\u001b[39m(arg_list)):\n",
      "File \u001b[0;32m~/dev/quetzal/quetzal_paris/notebooks/transport/../../../quetzal/quetzal/os/parallel_call.py:11\u001b[0m, in \u001b[0;36madd_freeze_support\u001b[0;34m(file)\u001b[0m\n\u001b[1;32m     10\u001b[0m \u001b[39mdef\u001b[39;00m \u001b[39madd_freeze_support\u001b[39m(file):\n\u001b[0;32m---> 11\u001b[0m     \u001b[39mwith\u001b[39;00m \u001b[39mopen\u001b[39;49m(file, \u001b[39m'\u001b[39;49m\u001b[39mr\u001b[39;49m\u001b[39m'\u001b[39;49m) \u001b[39mas\u001b[39;00m pyfile:\n\u001b[1;32m     12\u001b[0m         lines \u001b[39m=\u001b[39m pyfile\u001b[39m.\u001b[39mreadlines()\n\u001b[1;32m     13\u001b[0m     top \u001b[39m=\u001b[39m [\n\u001b[1;32m     14\u001b[0m         \u001b[39m\"\u001b[39m\u001b[39mdef main():\u001b[39m\u001b[39m\\n\u001b[39;00m\u001b[39m\"\u001b[39m\n\u001b[1;32m     15\u001b[0m     ]\n",
      "\u001b[0;31mFileNotFoundError\u001b[0m: [Errno 2] No such file or directory: 'B12_pruning_PT_pathfinder.py'"
     ]
    }
   ],
   "source": [
    "parallel_call_notebook('B12_pruning_PT_pathfinder.ipynb', arg_list=arg_list, **kwargs)"
   ]
  },
  {
   "cell_type": "code",
   "execution_count": 32,
   "metadata": {},
   "outputs": [
    {
     "name": "stdout",
     "output_type": "stream",
     "text": [
      "0 B31_road_pathfinder.py {\"scenario\": \"base\"}\n",
      "24 seconds\n"
     ]
    }
   ],
   "source": [
    "parallel_call_notebook('B31_road_pathfinder.ipynb', arg_list=arg_list, **kwargs)"
   ]
  },
  {
   "cell_type": "code",
   "execution_count": 33,
   "metadata": {},
   "outputs": [
    {
     "name": "stdout",
     "output_type": "stream",
     "text": [
      "0 B40_logit.py {\"scenario\": \"base\"}\n",
      "31 seconds\n"
     ]
    }
   ],
   "source": [
    "parallel_call_notebook('B40_logit.ipynb', arg_list=arg_list, **kwargs)"
   ]
  },
  {
   "cell_type": "markdown",
   "metadata": {},
   "source": [
    "# EXAMPLES"
   ]
  },
  {
   "cell_type": "code",
   "execution_count": 15,
   "metadata": {},
   "outputs": [
    {
     "name": "stdout",
     "output_type": "stream",
     "text": [
      "0 B13_optimal_strategy.py {\"scenario\": \"base\"}\n",
      "26 seconds\n"
     ]
    }
   ],
   "source": [
    "parallel_call_notebook('B13_optimal_strategy.ipynb', arg_list=arg_list, **kwargs)"
   ]
  },
  {
   "cell_type": "code",
   "execution_count": null,
   "metadata": {},
   "outputs": [],
   "source": []
  }
 ],
 "metadata": {
  "anaconda-cloud": {},
  "kernelspec": {
   "display_name": "quetzal_env",
   "language": "python",
   "name": "python3"
  },
  "language_info": {
   "codemirror_mode": {
    "name": "ipython",
    "version": 3
   },
   "file_extension": ".py",
   "mimetype": "text/x-python",
   "name": "python",
   "nbconvert_exporter": "python",
   "pygments_lexer": "ipython3",
   "version": "3.11.2"
  },
  "vscode": {
   "interpreter": {
    "hash": "b99f384514dbf44ef4a34ba020d927569585134cf57cab0f0201a3ca8ee6bcf2"
   }
  }
 },
 "nbformat": 4,
 "nbformat_minor": 2
}

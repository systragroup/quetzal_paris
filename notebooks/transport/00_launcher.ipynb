{
 "cells": [
  {
   "cell_type": "code",
   "execution_count": 6,
   "metadata": {},
   "outputs": [],
   "source": [
    "import pandas as pd\n",
    "import os\n",
    "\n",
    "qpath = '../../'\n",
    "input_path =  qpath + r'inputs/'"
   ]
  },
  {
   "cell_type": "code",
   "execution_count": 7,
   "metadata": {},
   "outputs": [],
   "source": [
    "import sys\n",
    "sys.path.insert(0, r'../../../quetzal')\n",
    "from quetzal.os.parallel_call import parallel_call_notebook"
   ]
  },
  {
   "cell_type": "code",
   "execution_count": 8,
   "metadata": {},
   "outputs": [],
   "source": [
    "parameter_frame = pd.read_excel(input_path + 'parameters.xlsx').set_index(['category','parameter'])\n",
    "scenario_list = list(parameter_frame.columns)"
   ]
  },
  {
   "cell_type": "code",
   "execution_count": 9,
   "metadata": {},
   "outputs": [],
   "source": [
    "scenario_list = ['base']"
   ]
  },
  {
   "cell_type": "code",
   "execution_count": 10,
   "metadata": {},
   "outputs": [],
   "source": [
    "kwargs = {'workers':5, 'errout_suffix':True, 'sleep':1,'stdout_path':r'log/out.txt', 'stderr_path':r'log/err.txt'}"
   ]
  },
  {
   "cell_type": "markdown",
   "metadata": {},
   "source": [
    "# SERIAL"
   ]
  },
  {
   "cell_type": "code",
   "execution_count": 11,
   "metadata": {},
   "outputs": [
    {
     "name": "stdout",
     "output_type": "stream",
     "text": [
      "0 A10_OpenStreetMap.py base\n",
      "44 seconds\n"
     ]
    }
   ],
   "source": [
    "parallel_call_notebook('A10_OpenStreetMap.ipynb', arg_list=['base'], **kwargs)"
   ]
  },
  {
   "cell_type": "code",
   "execution_count": 12,
   "metadata": {},
   "outputs": [
    {
     "name": "stdout",
     "output_type": "stream",
     "text": [
      "0 A20_GTFS_import.py base\n",
      "51 seconds\n"
     ]
    }
   ],
   "source": [
    "parallel_call_notebook('A20_GTFS_import.ipynb', arg_list=['base'], **kwargs)"
   ]
  },
  {
   "cell_type": "code",
   "execution_count": 13,
   "metadata": {},
   "outputs": [
    {
     "name": "stdout",
     "output_type": "stream",
     "text": [
      "0 A30_network_integrity.py base\n",
      "22 seconds\n"
     ]
    }
   ],
   "source": [
    "parallel_call_notebook('A30_network_integrity.ipynb', arg_list=['base'], **kwargs)"
   ]
  },
  {
   "cell_type": "code",
   "execution_count": 14,
   "metadata": {},
   "outputs": [
    {
     "name": "stdout",
     "output_type": "stream",
     "text": [
      "0 A40_networkcaster.py base\n",
      "34 seconds\n"
     ]
    }
   ],
   "source": [
    "parallel_call_notebook('A40_networkcaster.ipynb', arg_list=['base'], **kwargs)"
   ]
  },
  {
   "cell_type": "code",
   "execution_count": 15,
   "metadata": {},
   "outputs": [
    {
     "name": "stdout",
     "output_type": "stream",
     "text": [
      "0 A50_walkmodel.py base\n",
      "14 seconds\n"
     ]
    }
   ],
   "source": [
    "parallel_call_notebook('A50_walkmodel.ipynb', arg_list=['base'], **kwargs)"
   ]
  },
  {
   "cell_type": "markdown",
   "metadata": {},
   "source": [
    "# PARALLEL"
   ]
  },
  {
   "cell_type": "code",
   "execution_count": 16,
   "metadata": {},
   "outputs": [
    {
     "data": {
      "text/plain": [
       "['base']"
      ]
     },
     "execution_count": 16,
     "metadata": {},
     "output_type": "execute_result"
    }
   ],
   "source": [
    "scenario_list"
   ]
  },
  {
   "cell_type": "code",
   "execution_count": null,
   "metadata": {},
   "outputs": [],
   "source": [
    "parallel_call_notebook('B10_all_or_nothing_pathfinders.ipynb', arg_list=scenario_list, **kwargs)"
   ]
  },
  {
   "cell_type": "code",
   "execution_count": 18,
   "metadata": {},
   "outputs": [
    {
     "name": "stdout",
     "output_type": "stream",
     "text": [
      "0 B11_pruning_PT_pathfinder.py base\n",
      "52 seconds\n"
     ]
    }
   ],
   "source": [
    "parallel_call_notebook('B11_pruning_PT_pathfinder.ipynb', arg_list=scenario_list, **kwargs)"
   ]
  },
  {
   "cell_type": "code",
   "execution_count": null,
   "metadata": {},
   "outputs": [],
   "source": [
    "parallel_call_notebook('B20_generation_distribution.ipynb', arg_list=scenario_list, **kwargs)"
   ]
  },
  {
   "cell_type": "code",
   "execution_count": 19,
   "metadata": {},
   "outputs": [
    {
     "name": "stdout",
     "output_type": "stream",
     "text": [
      "0 B31_road_pathfinder.py base\n",
      "27 seconds\n"
     ]
    }
   ],
   "source": [
    "parallel_call_notebook('B31_road_pathfinder.ipynb', arg_list=scenario_list, **kwargs)"
   ]
  },
  {
   "cell_type": "code",
   "execution_count": 21,
   "metadata": {},
   "outputs": [
    {
     "name": "stdout",
     "output_type": "stream",
     "text": [
      "0 B40_logit_assignment.py base\n",
      "subprocess **B40_logit_assignment.py0 base** terminated with an error.\n",
      "27 seconds\n"
     ]
    }
   ],
   "source": [
    "parallel_call_notebook('B40_logit_assignment.ipynb', arg_list=scenario_list, **kwargs)"
   ]
  },
  {
   "cell_type": "code",
   "execution_count": 22,
   "metadata": {},
   "outputs": [
    {
     "name": "stdout",
     "output_type": "stream",
     "text": [
      "0 C10_merge_stacks.py base\n",
      "5 seconds\n"
     ]
    }
   ],
   "source": [
    "parallel_call_notebook('C10_merge_stacks.ipynb', arg_list=['base'], **kwargs)"
   ]
  },
  {
   "cell_type": "markdown",
   "metadata": {},
   "source": [
    "# EXAMPLES"
   ]
  },
  {
   "cell_type": "code",
   "execution_count": 16,
   "metadata": {},
   "outputs": [
    {
     "name": "stdout",
     "output_type": "stream",
     "text": [
      "0 B12_optimal_strategy.py base\n",
      "1 B12_optimal_strategy.py project\n",
      "subprocess **B12_optimal_strategy.py0 base** terminated with an error.\n",
      "subprocess **B12_optimal_strategy.py1 project** terminated with an error.\n",
      "6 seconds\n"
     ]
    }
   ],
   "source": [
    "parallel_call_notebook('B12_optimal_strategy.ipynb', arg_list=scenario_list, **kwargs)"
   ]
  },
  {
   "cell_type": "markdown",
   "metadata": {},
   "source": [
    "# END"
   ]
  },
  {
   "cell_type": "code",
   "execution_count": null,
   "metadata": {},
   "outputs": [],
   "source": []
  }
 ],
 "metadata": {
  "anaconda-cloud": {},
  "kernelspec": {
   "display_name": "quetzal_lome",
   "language": "python",
   "name": "python3"
  },
  "language_info": {
   "codemirror_mode": {
    "name": "ipython",
    "version": 3
   },
   "file_extension": ".py",
   "mimetype": "text/x-python",
   "name": "python",
   "nbconvert_exporter": "python",
   "pygments_lexer": "ipython3",
   "version": "3.8.13"
  }
 },
 "nbformat": 4,
 "nbformat_minor": 2
}

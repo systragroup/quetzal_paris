{
 "cells": [
  {
   "cell_type": "code",
   "execution_count": 1,
   "metadata": {},
   "outputs": [],
   "source": [
    "import pandas as pd\n",
    "import os\n",
    "\n",
    "qpath = '../../'\n",
    "input_path =  qpath + r'inputs/'"
   ]
  },
  {
   "cell_type": "code",
   "execution_count": 2,
   "metadata": {},
   "outputs": [],
   "source": [
    "import sys\n",
    "sys.path.insert(0, r'../../../quetzal')\n",
    "from quetzal.os.parallel_call import parallel_call_notebook"
   ]
  },
  {
   "cell_type": "code",
   "execution_count": 3,
   "metadata": {},
   "outputs": [],
   "source": [
    "parameter_frame = pd.read_excel(input_path + 'parameters.xlsx').set_index(['category','parameter'])\n",
    "scenario_list = list(parameter_frame.columns)"
   ]
  },
  {
   "cell_type": "code",
   "execution_count": 4,
   "metadata": {},
   "outputs": [],
   "source": [
    "kwargs = {'workers':5, 'errout_suffix':True, 'sleep':1,'stdout_path':r'log/out.txt', 'stderr_path':r'log/err.txt'}"
   ]
  },
  {
   "cell_type": "markdown",
   "metadata": {},
   "source": [
    "# SERIAL"
   ]
  },
  {
   "cell_type": "code",
   "execution_count": 13,
   "metadata": {},
   "outputs": [
    {
     "name": "stdout",
     "output_type": "stream",
     "text": [
      "0 A10_OpenStreetMap.py base\n",
      "44 seconds\n"
     ]
    }
   ],
   "source": [
    "parallel_call_notebook('A10_OpenStreetMap.ipynb', arg_list=['base'], **kwargs)"
   ]
  },
  {
   "cell_type": "code",
   "execution_count": 5,
   "metadata": {},
   "outputs": [
    {
     "name": "stdout",
     "output_type": "stream",
     "text": [
      "0 A20_GTFS_import.py base\n",
      "subprocess **A20_GTFS_import.py0 base** terminated with an error.\n",
      "48 seconds\n"
     ]
    }
   ],
   "source": [
    "parallel_call_notebook('A20_GTFS_import.ipynb', arg_list=['base'], **kwargs)"
   ]
  },
  {
   "cell_type": "code",
   "execution_count": 6,
   "metadata": {},
   "outputs": [
    {
     "name": "stdout",
     "output_type": "stream",
     "text": [
      "0 A30_network_integrity.py base\n",
      "subprocess **A30_network_integrity.py0 base** terminated with an error.\n",
      "6 seconds\n"
     ]
    }
   ],
   "source": [
    "parallel_call_notebook('A30_network_integrity.ipynb', arg_list=['base'], **kwargs)"
   ]
  },
  {
   "cell_type": "code",
   "execution_count": 7,
   "metadata": {},
   "outputs": [
    {
     "name": "stdout",
     "output_type": "stream",
     "text": [
      "0 A40_networkcaster.py base\n",
      "subprocess **A40_networkcaster.py0 base** terminated with an error.\n",
      "5 seconds\n"
     ]
    }
   ],
   "source": [
    "parallel_call_notebook('A40_networkcaster.ipynb', arg_list=['base'], **kwargs)"
   ]
  },
  {
   "cell_type": "code",
   "execution_count": 8,
   "metadata": {},
   "outputs": [
    {
     "name": "stdout",
     "output_type": "stream",
     "text": [
      "0 A50_walkmodel.py base\n",
      "subprocess **A50_walkmodel.py0 base** terminated with an error.\n",
      "5 seconds\n"
     ]
    }
   ],
   "source": [
    "parallel_call_notebook('A50_walkmodel.ipynb', arg_list=['base'], **kwargs)"
   ]
  },
  {
   "cell_type": "markdown",
   "metadata": {},
   "source": [
    "# PARALLEL"
   ]
  },
  {
   "cell_type": "code",
   "execution_count": 9,
   "metadata": {},
   "outputs": [
    {
     "data": {
      "text/plain": [
       "['base', 'project']"
      ]
     },
     "execution_count": 9,
     "metadata": {},
     "output_type": "execute_result"
    }
   ],
   "source": [
    "scenario_list"
   ]
  },
  {
   "cell_type": "code",
   "execution_count": 10,
   "metadata": {},
   "outputs": [
    {
     "name": "stdout",
     "output_type": "stream",
     "text": [
      "0 B10_all_or_nothing_pathfinders.py base\n",
      "1 B10_all_or_nothing_pathfinders.py project\n",
      "subprocess **B10_all_or_nothing_pathfinders.py0 base** terminated with an error.\n",
      "subprocess **B10_all_or_nothing_pathfinders.py1 project** terminated with an error.\n",
      "6 seconds\n"
     ]
    }
   ],
   "source": [
    "parallel_call_notebook('B10_all_or_nothing_pathfinders.ipynb', arg_list=scenario_list, **kwargs)"
   ]
  },
  {
   "cell_type": "code",
   "execution_count": 11,
   "metadata": {},
   "outputs": [
    {
     "name": "stdout",
     "output_type": "stream",
     "text": [
      "0 B11_pruning_PT_pathfinder.py base\n",
      "1 B11_pruning_PT_pathfinder.py project\n",
      "subprocess **B11_pruning_PT_pathfinder.py0 base** terminated with an error.\n",
      "subprocess **B11_pruning_PT_pathfinder.py1 project** terminated with an error.\n",
      "6 seconds\n"
     ]
    }
   ],
   "source": [
    "parallel_call_notebook('B11_pruning_PT_pathfinder.ipynb', arg_list=scenario_list, **kwargs)"
   ]
  },
  {
   "cell_type": "code",
   "execution_count": 12,
   "metadata": {},
   "outputs": [
    {
     "name": "stdout",
     "output_type": "stream",
     "text": [
      "0 B20_generation_distribution.py base\n",
      "1 B20_generation_distribution.py project\n",
      "subprocess **B20_generation_distribution.py0 base** terminated with an error.\n",
      "subprocess **B20_generation_distribution.py1 project** terminated with an error.\n",
      "5 seconds\n"
     ]
    }
   ],
   "source": [
    "parallel_call_notebook('B20_generation_distribution.ipynb', arg_list=scenario_list, **kwargs)"
   ]
  },
  {
   "cell_type": "code",
   "execution_count": 13,
   "metadata": {},
   "outputs": [
    {
     "name": "stdout",
     "output_type": "stream",
     "text": [
      "0 B31_road_pathfinder.py base\n",
      "1 B31_road_pathfinder.py project\n",
      "subprocess **B31_road_pathfinder.py0 base** terminated with an error.\n",
      "subprocess **B31_road_pathfinder.py1 project** terminated with an error.\n",
      "5 seconds\n"
     ]
    }
   ],
   "source": [
    "parallel_call_notebook('B31_road_pathfinder.ipynb', arg_list=scenario_list, **kwargs)"
   ]
  },
  {
   "cell_type": "code",
   "execution_count": 14,
   "metadata": {},
   "outputs": [
    {
     "name": "stdout",
     "output_type": "stream",
     "text": [
      "0 B40_logit.py base\n",
      "1 B40_logit.py project\n",
      "subprocess **B40_logit.py0 base** terminated with an error.\n",
      "subprocess **B40_logit.py1 project** terminated with an error.\n",
      "6 seconds\n"
     ]
    }
   ],
   "source": [
    "parallel_call_notebook('B40_logit.ipynb', arg_list=scenario_list, **kwargs)"
   ]
  },
  {
   "cell_type": "code",
   "execution_count": 15,
   "metadata": {},
   "outputs": [
    {
     "name": "stdout",
     "output_type": "stream",
     "text": [
      "0 C10_merge_stacks.py base\n",
      "4 seconds\n"
     ]
    }
   ],
   "source": [
    "parallel_call_notebook('C10_merge_stacks.ipynb', arg_list=['base'], **kwargs)"
   ]
  },
  {
   "cell_type": "markdown",
   "metadata": {},
   "source": [
    "# EXAMPLES"
   ]
  },
  {
   "cell_type": "code",
   "execution_count": 16,
   "metadata": {},
   "outputs": [
    {
     "name": "stdout",
     "output_type": "stream",
     "text": [
      "0 B12_optimal_strategy.py base\n",
      "1 B12_optimal_strategy.py project\n",
      "subprocess **B12_optimal_strategy.py0 base** terminated with an error.\n",
      "subprocess **B12_optimal_strategy.py1 project** terminated with an error.\n",
      "6 seconds\n"
     ]
    }
   ],
   "source": [
    "parallel_call_notebook('B12_optimal_strategy.ipynb', arg_list=scenario_list, **kwargs)"
   ]
  },
  {
   "cell_type": "markdown",
   "metadata": {},
   "source": [
    "# END"
   ]
  },
  {
   "cell_type": "code",
   "execution_count": null,
   "metadata": {},
   "outputs": [],
   "source": []
  }
 ],
 "metadata": {
  "anaconda-cloud": {},
  "kernelspec": {
   "display_name": "Python [conda env:quetzal_env]",
   "language": "python",
   "name": "conda-env-quetzal_env-py"
  },
  "language_info": {
   "codemirror_mode": {
    "name": "ipython",
    "version": 3
   },
   "file_extension": ".py",
   "mimetype": "text/x-python",
   "name": "python",
   "nbconvert_exporter": "python",
   "pygments_lexer": "ipython3",
   "version": "3.7.9"
  }
 },
 "nbformat": 4,
 "nbformat_minor": 2
}

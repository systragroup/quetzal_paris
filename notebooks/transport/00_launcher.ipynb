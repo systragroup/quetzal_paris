{
 "cells": [
  {
   "cell_type": "code",
   "execution_count": 1,
   "metadata": {},
   "outputs": [],
   "source": [
    "import pandas as pd\n",
    "import os\n",
    "\n",
    "qpath = '../../'\n",
    "input_path =  qpath + r'inputs/'"
   ]
  },
  {
   "cell_type": "code",
   "execution_count": 2,
   "metadata": {},
   "outputs": [],
   "source": [
    "import sys\n",
    "sys.path.insert(0, r'../../../quetzal')\n",
    "from quetzal.os.parallel_call import parallel_call_notebook"
   ]
  },
  {
   "cell_type": "code",
   "execution_count": 3,
   "metadata": {},
   "outputs": [
    {
     "name": "stdout",
     "output_type": "stream",
     "text": [
      "['base']\n",
      "{'workers': 5, 'errout_suffix': True, 'sleep': 1, 'stdout_path': 'log/out.txt', 'stderr_path': 'log/err.txt'}\n"
     ]
    }
   ],
   "source": [
    "kwargs = {'workers':5, 'errout_suffix':True, 'sleep':1,'stdout_path':r'log/out.txt', 'stderr_path':r'log/err.txt'}\n",
    "\n",
    "scenario_list = [\"base\"]\n",
    "\n",
    "print(scenario_list)\n",
    "print(kwargs)"
   ]
  },
  {
   "cell_type": "markdown",
   "metadata": {},
   "source": [
    "# SERIAL"
   ]
  },
  {
   "cell_type": "code",
   "execution_count": 20,
   "metadata": {},
   "outputs": [
    {
     "name": "stdout",
     "output_type": "stream",
     "text": [
      "0 A10_OpenStreetMap.py base\n",
      "subprocess **A10_OpenStreetMap.py0 base** terminated with an error.\n",
      "10 seconds\n"
     ]
    }
   ],
   "source": [
    "parallel_call_notebook('A10_OpenStreetMap.ipynb', arg_list=scenario_list, **kwargs)"
   ]
  },
  {
   "cell_type": "code",
   "execution_count": 4,
   "metadata": {},
   "outputs": [
    {
     "name": "stdout",
     "output_type": "stream",
     "text": [
      "0 A20_GTFS_import.py base\n",
      "66 seconds\n"
     ]
    }
   ],
   "source": [
    "parallel_call_notebook('A20_GTFS_import.ipynb', arg_list=scenario_list, **kwargs)"
   ]
  },
  {
   "cell_type": "code",
   "execution_count": 5,
   "metadata": {},
   "outputs": [
    {
     "name": "stdout",
     "output_type": "stream",
     "text": [
      "0 A30_network_integrity.py base\n",
      "18 seconds\n"
     ]
    }
   ],
   "source": [
    "parallel_call_notebook('A30_network_integrity.ipynb', arg_list=scenario_list, **kwargs)"
   ]
  },
  {
   "cell_type": "code",
   "execution_count": 6,
   "metadata": {},
   "outputs": [
    {
     "name": "stdout",
     "output_type": "stream",
     "text": [
      "0 A40_networkcaster.py base\n",
      "96 seconds\n"
     ]
    }
   ],
   "source": [
    "parallel_call_notebook('A40_networkcaster.ipynb', arg_list=scenario_list, **kwargs)"
   ]
  },
  {
   "cell_type": "code",
   "execution_count": 7,
   "metadata": {},
   "outputs": [
    {
     "name": "stdout",
     "output_type": "stream",
     "text": [
      "0 A50_walkmodel.py base\n",
      "14 seconds\n"
     ]
    }
   ],
   "source": [
    "parallel_call_notebook('A50_walkmodel.ipynb', arg_list=scenario_list, **kwargs)"
   ]
  },
  {
   "cell_type": "code",
   "execution_count": 8,
   "metadata": {},
   "outputs": [
    {
     "name": "stdout",
     "output_type": "stream",
     "text": [
      "0 B10_all_or_nothing_pathfinders.py base\n",
      "17 seconds\n"
     ]
    }
   ],
   "source": [
    "parallel_call_notebook('B10_all_or_nothing_pathfinders.ipynb', arg_list=scenario_list, **kwargs)"
   ]
  },
  {
   "cell_type": "code",
   "execution_count": 9,
   "metadata": {},
   "outputs": [
    {
     "name": "stdout",
     "output_type": "stream",
     "text": [
      "0 B11_generation_distribution.py base\n",
      "9 seconds\n"
     ]
    }
   ],
   "source": [
    "parallel_call_notebook('B11_generation_distribution.ipynb', arg_list=scenario_list, **kwargs)"
   ]
  },
  {
   "cell_type": "code",
   "execution_count": 10,
   "metadata": {},
   "outputs": [
    {
     "name": "stdout",
     "output_type": "stream",
     "text": [
      "0 B12_pruning_PT_pathfinder.py base\n",
      "35 seconds\n"
     ]
    }
   ],
   "source": [
    "parallel_call_notebook('B12_pruning_PT_pathfinder.ipynb', arg_list=scenario_list, **kwargs)"
   ]
  },
  {
   "cell_type": "code",
   "execution_count": 11,
   "metadata": {},
   "outputs": [
    {
     "name": "stdout",
     "output_type": "stream",
     "text": [
      "0 B31_road_pathfinder.py base\n",
      "32 seconds\n"
     ]
    }
   ],
   "source": [
    "parallel_call_notebook('B31_road_pathfinder.ipynb', arg_list=scenario_list, **kwargs)"
   ]
  },
  {
   "cell_type": "code",
   "execution_count": 12,
   "metadata": {},
   "outputs": [
    {
     "name": "stdout",
     "output_type": "stream",
     "text": [
      "0 B40_logit.py base\n",
      "subprocess **B40_logit.py0 base** terminated with an error.\n",
      "17 seconds\n"
     ]
    }
   ],
   "source": [
    "parallel_call_notebook('B40_logit.ipynb', arg_list=scenario_list, **kwargs)"
   ]
  },
  {
   "cell_type": "code",
   "execution_count": 13,
   "metadata": {},
   "outputs": [
    {
     "name": "stdout",
     "output_type": "stream",
     "text": [
      "0 C10_merge_stacks.py base\n",
      "subprocess **C10_merge_stacks.py0 base** terminated with an error.\n",
      "4 seconds\n"
     ]
    }
   ],
   "source": [
    "parallel_call_notebook('C10_merge_stacks.ipynb', arg_list=scenario_list, **kwargs)"
   ]
  },
  {
   "cell_type": "markdown",
   "metadata": {},
   "source": [
    "# EXAMPLES"
   ]
  },
  {
   "cell_type": "code",
   "execution_count": 34,
   "metadata": {},
   "outputs": [
    {
     "name": "stdout",
     "output_type": "stream",
     "text": [
      "0 B13_optimal_strategy.py base\n",
      "subprocess **B13_optimal_strategy.py0 base** terminated with an error.\n",
      "3 seconds\n"
     ]
    }
   ],
   "source": [
    "parallel_call_notebook('B13_optimal_strategy.ipynb', arg_list=scenario_list, **kwargs)"
   ]
  },
  {
   "cell_type": "code",
   "execution_count": null,
   "metadata": {},
   "outputs": [],
   "source": []
  }
 ],
 "metadata": {
  "anaconda-cloud": {},
  "kernelspec": {
   "display_name": "quetzal_env_8",
   "language": "python",
   "name": "quetzal_env_8"
  },
  "language_info": {
   "codemirror_mode": {
    "name": "ipython",
    "version": 3
   },
   "file_extension": ".py",
   "mimetype": "text/x-python",
   "name": "python",
   "nbconvert_exporter": "python",
   "pygments_lexer": "ipython3",
   "version": "3.8.12"
  }
 },
 "nbformat": 4,
 "nbformat_minor": 2
}

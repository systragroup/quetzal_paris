{
 "cells": [
  {
   "cell_type": "code",
   "execution_count": 68,
   "metadata": {},
   "outputs": [],
   "source": [
    "import sys # for automation and parallelization\n",
    "manual, scenario = (True, 'base') if 'ipykernel' in sys.argv[0] else (False, sys.argv[1])"
   ]
  },
  {
   "cell_type": "markdown",
   "metadata": {},
   "source": [
    "# START"
   ]
  },
  {
   "cell_type": "code",
   "execution_count": 69,
   "metadata": {},
   "outputs": [],
   "source": [
    "import sys\n",
    "sys.path.insert(0, r'../../../quetzal')\n",
    "from quetzal.model import stepmodel\n",
    "from quetzal.io import excel\n",
    "import pandas as pd\n",
    "if manual:\n",
    "    %matplotlib inline"
   ]
  },
  {
   "cell_type": "code",
   "execution_count": 70,
   "metadata": {},
   "outputs": [],
   "source": [
    "training_folder = '../../'\n",
    "plot_path = training_folder + 'outputs/plot/'"
   ]
  },
  {
   "cell_type": "code",
   "execution_count": 71,
   "metadata": {},
   "outputs": [
    {
     "name": "stderr",
     "output_type": "stream",
     "text": [
      "volumes: 100%|██████████████████████████████████████████████████████████████████████████| 3/3 [00:00<00:00, 230.80it/s]\n",
      "zone_to_transit: 100%|█████████████████████████████████████████████████████████████████| 32/32 [00:03<00:00, 10.38it/s]\n",
      "zone_to_transit: 100%|█████████████████████████████████████████████████████████████████| 33/33 [00:00<00:00, 37.65it/s]\n"
     ]
    }
   ],
   "source": [
    "distribution = stepmodel.read_zippedpickles(training_folder + r'model/{scen}/distribution'.format(scen=scenario))\n",
    "pt = stepmodel.read_zippedpickles(training_folder + r'model/{scen}/pruning_pt_pathfinder'.format(scen=scenario))\n",
    "car = stepmodel.read_zippedpickles(training_folder + r'model/{scen}/constrained_road_pathfinder'.format(scen=scenario))"
   ]
  },
  {
   "cell_type": "code",
   "execution_count": 72,
   "metadata": {},
   "outputs": [],
   "source": [
    "sm = pt.copy()\n",
    "sm.car_los = car.car_los\n",
    "sm.volumes = distribution.volumes\n",
    "# each segment will be processed independently in the logit\n",
    "sm.segments = ['car_owner', 'pt_captive'] "
   ]
  },
  {
   "cell_type": "code",
   "execution_count": 73,
   "metadata": {},
   "outputs": [
    {
     "name": "stderr",
     "output_type": "stream",
     "text": [
      "path_analysis: 100%|██████████████████████████████████████████████████████████| 51395/51395 [00:01<00:00, 34913.20it/s]\n"
     ]
    }
   ],
   "source": [
    "sm.analysis_pt_los(walk_on_road=True)"
   ]
  },
  {
   "cell_type": "code",
   "execution_count": 74,
   "metadata": {},
   "outputs": [],
   "source": [
    "sm.analysis_pt_time(walk_on_road=False)\n"
   ]
  },
  {
   "cell_type": "code",
   "execution_count": 75,
   "metadata": {},
   "outputs": [
    {
     "data": {
      "text/plain": [
       "category               parameter        \n",
       "general                parent               base\n",
       "                       bus_speed_factor      0.8\n",
       "                       boarding_cost_acf     300\n",
       "                       boarding_cost_wor     300\n",
       "preparation_footpaths  max_length           3000\n",
       "Name: base, dtype: object"
      ]
     },
     "execution_count": 75,
     "metadata": {},
     "output_type": "execute_result"
    }
   ],
   "source": [
    "# the scenario specific variables are read from the parameter file\n",
    "var = excel.read_var(file='../../inputs/parameters.xlsx', scenario=scenario,\n",
    "                               )\n",
    "\n",
    "var.head()"
   ]
  },
  {
   "cell_type": "code",
   "execution_count": 76,
   "metadata": {},
   "outputs": [
    {
     "data": {
      "text/plain": [
       "{'time': -0.00055,\n",
       " 'price': -1,\n",
       " 'transfers': -0.25,\n",
       " 'mode': 1,\n",
       " 'pt_mode': 0.5,\n",
       " 'pt_path': 0.1}"
      ]
     },
     "execution_count": 76,
     "metadata": {},
     "output_type": "execute_result"
    }
   ],
   "source": [
    "kwargs = var['preparation_logit'].to_dict()\n",
    "\n",
    "# Parameters conversion\n",
    "kwargs"
   ]
  },
  {
   "cell_type": "markdown",
   "metadata": {},
   "source": [
    "# LOGIT SCALES"
   ]
  },
  {
   "cell_type": "code",
   "execution_count": 77,
   "metadata": {},
   "outputs": [],
   "source": [
    "sm.preparation_logit(\n",
    "    segments=['car_owner', 'pt_captive'],\n",
    "    **kwargs\n",
    ")"
   ]
  },
  {
   "cell_type": "code",
   "execution_count": 78,
   "metadata": {},
   "outputs": [
    {
     "data": {
      "text/html": [
       "<div>\n",
       "<style scoped>\n",
       "    .dataframe tbody tr th:only-of-type {\n",
       "        vertical-align: middle;\n",
       "    }\n",
       "\n",
       "    .dataframe tbody tr th {\n",
       "        vertical-align: top;\n",
       "    }\n",
       "\n",
       "    .dataframe thead th {\n",
       "        text-align: right;\n",
       "    }\n",
       "</style>\n",
       "<table border=\"1\" class=\"dataframe\">\n",
       "  <thead>\n",
       "    <tr style=\"text-align: right;\">\n",
       "      <th>value</th>\n",
       "      <th>time</th>\n",
       "      <th>price</th>\n",
       "      <th>ntransfers</th>\n",
       "      <th>mode_utility</th>\n",
       "    </tr>\n",
       "    <tr>\n",
       "      <th>segment</th>\n",
       "      <th></th>\n",
       "      <th></th>\n",
       "      <th></th>\n",
       "      <th></th>\n",
       "    </tr>\n",
       "  </thead>\n",
       "  <tbody>\n",
       "    <tr>\n",
       "      <th>root</th>\n",
       "      <td>-0.00055</td>\n",
       "      <td>-1.0</td>\n",
       "      <td>-0.25</td>\n",
       "      <td>1.0</td>\n",
       "    </tr>\n",
       "    <tr>\n",
       "      <th>car_owner</th>\n",
       "      <td>-0.00055</td>\n",
       "      <td>-1.0</td>\n",
       "      <td>-0.25</td>\n",
       "      <td>1.0</td>\n",
       "    </tr>\n",
       "    <tr>\n",
       "      <th>pt_captive</th>\n",
       "      <td>-0.00055</td>\n",
       "      <td>-1.0</td>\n",
       "      <td>-0.25</td>\n",
       "      <td>1.0</td>\n",
       "    </tr>\n",
       "  </tbody>\n",
       "</table>\n",
       "</div>"
      ],
      "text/plain": [
       "value          time  price  ntransfers  mode_utility\n",
       "segment                                             \n",
       "root       -0.00055   -1.0       -0.25           1.0\n",
       "car_owner  -0.00055   -1.0       -0.25           1.0\n",
       "pt_captive -0.00055   -1.0       -0.25           1.0"
      ]
     },
     "execution_count": 78,
     "metadata": {},
     "output_type": "execute_result"
    }
   ],
   "source": [
    "sm.utility_values.T"
   ]
  },
  {
   "cell_type": "code",
   "execution_count": 79,
   "metadata": {},
   "outputs": [
    {
     "data": {
      "text/html": [
       "<div>\n",
       "<style scoped>\n",
       "    .dataframe tbody tr th:only-of-type {\n",
       "        vertical-align: middle;\n",
       "    }\n",
       "\n",
       "    .dataframe tbody tr th {\n",
       "        vertical-align: top;\n",
       "    }\n",
       "\n",
       "    .dataframe thead th {\n",
       "        text-align: right;\n",
       "    }\n",
       "</style>\n",
       "<table border=\"1\" class=\"dataframe\">\n",
       "  <thead>\n",
       "    <tr style=\"text-align: right;\">\n",
       "      <th>route_type</th>\n",
       "      <th>rail</th>\n",
       "      <th>walk</th>\n",
       "      <th>car</th>\n",
       "      <th>bus</th>\n",
       "      <th>root</th>\n",
       "      <th>subway</th>\n",
       "      <th>tram</th>\n",
       "      <th>pt</th>\n",
       "    </tr>\n",
       "    <tr>\n",
       "      <th>segment</th>\n",
       "      <th></th>\n",
       "      <th></th>\n",
       "      <th></th>\n",
       "      <th></th>\n",
       "      <th></th>\n",
       "      <th></th>\n",
       "      <th></th>\n",
       "      <th></th>\n",
       "    </tr>\n",
       "  </thead>\n",
       "  <tbody>\n",
       "    <tr>\n",
       "      <th>root</th>\n",
       "      <td>0.1</td>\n",
       "      <td>0.0</td>\n",
       "      <td>0.0</td>\n",
       "      <td>0.1</td>\n",
       "      <td>1.0</td>\n",
       "      <td>0.1</td>\n",
       "      <td>0.1</td>\n",
       "      <td>0.5</td>\n",
       "    </tr>\n",
       "    <tr>\n",
       "      <th>car_owner</th>\n",
       "      <td>0.1</td>\n",
       "      <td>0.0</td>\n",
       "      <td>0.0</td>\n",
       "      <td>0.1</td>\n",
       "      <td>1.0</td>\n",
       "      <td>0.1</td>\n",
       "      <td>0.1</td>\n",
       "      <td>0.5</td>\n",
       "    </tr>\n",
       "    <tr>\n",
       "      <th>pt_captive</th>\n",
       "      <td>0.1</td>\n",
       "      <td>0.0</td>\n",
       "      <td>0.0</td>\n",
       "      <td>0.1</td>\n",
       "      <td>1.0</td>\n",
       "      <td>0.1</td>\n",
       "      <td>0.1</td>\n",
       "      <td>0.5</td>\n",
       "    </tr>\n",
       "  </tbody>\n",
       "</table>\n",
       "</div>"
      ],
      "text/plain": [
       "route_type  rail  walk  car  bus  root  subway  tram   pt\n",
       "segment                                                  \n",
       "root         0.1   0.0  0.0  0.1   1.0     0.1   0.1  0.5\n",
       "car_owner    0.1   0.0  0.0  0.1   1.0     0.1   0.1  0.5\n",
       "pt_captive   0.1   0.0  0.0  0.1   1.0     0.1   0.1  0.5"
      ]
     },
     "execution_count": 79,
     "metadata": {},
     "output_type": "execute_result"
    }
   ],
   "source": [
    "sm.logit_scales.T # phi"
   ]
  },
  {
   "cell_type": "code",
   "execution_count": 80,
   "metadata": {},
   "outputs": [
    {
     "data": {
      "text/html": [
       "<div>\n",
       "<style scoped>\n",
       "    .dataframe tbody tr th:only-of-type {\n",
       "        vertical-align: middle;\n",
       "    }\n",
       "\n",
       "    .dataframe tbody tr th {\n",
       "        vertical-align: top;\n",
       "    }\n",
       "\n",
       "    .dataframe thead th {\n",
       "        text-align: right;\n",
       "    }\n",
       "</style>\n",
       "<table border=\"1\" class=\"dataframe\">\n",
       "  <thead>\n",
       "    <tr style=\"text-align: right;\">\n",
       "      <th>route_type</th>\n",
       "      <th>rail</th>\n",
       "      <th>walk</th>\n",
       "      <th>car</th>\n",
       "      <th>bus</th>\n",
       "      <th>root</th>\n",
       "      <th>subway</th>\n",
       "      <th>tram</th>\n",
       "    </tr>\n",
       "    <tr>\n",
       "      <th>segment</th>\n",
       "      <th></th>\n",
       "      <th></th>\n",
       "      <th></th>\n",
       "      <th></th>\n",
       "      <th></th>\n",
       "      <th></th>\n",
       "      <th></th>\n",
       "    </tr>\n",
       "  </thead>\n",
       "  <tbody>\n",
       "    <tr>\n",
       "      <th>root</th>\n",
       "      <td>0</td>\n",
       "      <td>0</td>\n",
       "      <td>0</td>\n",
       "      <td>0</td>\n",
       "      <td>0</td>\n",
       "      <td>0</td>\n",
       "      <td>0</td>\n",
       "    </tr>\n",
       "    <tr>\n",
       "      <th>car_owner</th>\n",
       "      <td>0</td>\n",
       "      <td>0</td>\n",
       "      <td>0</td>\n",
       "      <td>0</td>\n",
       "      <td>0</td>\n",
       "      <td>0</td>\n",
       "      <td>0</td>\n",
       "    </tr>\n",
       "    <tr>\n",
       "      <th>pt_captive</th>\n",
       "      <td>0</td>\n",
       "      <td>0</td>\n",
       "      <td>-100</td>\n",
       "      <td>0</td>\n",
       "      <td>0</td>\n",
       "      <td>0</td>\n",
       "      <td>0</td>\n",
       "    </tr>\n",
       "  </tbody>\n",
       "</table>\n",
       "</div>"
      ],
      "text/plain": [
       "route_type  rail  walk  car  bus  root  subway  tram\n",
       "segment                                             \n",
       "root           0     0    0    0     0       0     0\n",
       "car_owner      0     0    0    0     0       0     0\n",
       "pt_captive     0     0 -100    0     0       0     0"
      ]
     },
     "execution_count": 80,
     "metadata": {},
     "output_type": "execute_result"
    }
   ],
   "source": [
    "sm.mode_utility.loc[ 'car', 'pt_captive'] = -100 # PT captive can not use the car\n",
    "sm.mode_utility.T"
   ]
  },
  {
   "cell_type": "code",
   "execution_count": 81,
   "metadata": {
    "scrolled": true
   },
   "outputs": [
    {
     "data": {
      "text/html": [
       "<div>\n",
       "<style scoped>\n",
       "    .dataframe tbody tr th:only-of-type {\n",
       "        vertical-align: middle;\n",
       "    }\n",
       "\n",
       "    .dataframe tbody tr th {\n",
       "        vertical-align: top;\n",
       "    }\n",
       "\n",
       "    .dataframe thead th {\n",
       "        text-align: right;\n",
       "    }\n",
       "</style>\n",
       "<table border=\"1\" class=\"dataframe\">\n",
       "  <thead>\n",
       "    <tr style=\"text-align: right;\">\n",
       "      <th>route_type</th>\n",
       "      <th>rail</th>\n",
       "      <th>walk</th>\n",
       "      <th>car</th>\n",
       "      <th>bus</th>\n",
       "      <th>root</th>\n",
       "      <th>subway</th>\n",
       "      <th>tram</th>\n",
       "      <th>pt</th>\n",
       "    </tr>\n",
       "    <tr>\n",
       "      <th>segment</th>\n",
       "      <th></th>\n",
       "      <th></th>\n",
       "      <th></th>\n",
       "      <th></th>\n",
       "      <th></th>\n",
       "      <th></th>\n",
       "      <th></th>\n",
       "      <th></th>\n",
       "    </tr>\n",
       "  </thead>\n",
       "  <tbody>\n",
       "    <tr>\n",
       "      <th>root</th>\n",
       "      <td>pt</td>\n",
       "      <td>root</td>\n",
       "      <td>root</td>\n",
       "      <td>pt</td>\n",
       "      <td>NaN</td>\n",
       "      <td>pt</td>\n",
       "      <td>pt</td>\n",
       "      <td>root</td>\n",
       "    </tr>\n",
       "    <tr>\n",
       "      <th>car_owner</th>\n",
       "      <td>pt</td>\n",
       "      <td>root</td>\n",
       "      <td>root</td>\n",
       "      <td>pt</td>\n",
       "      <td>NaN</td>\n",
       "      <td>pt</td>\n",
       "      <td>pt</td>\n",
       "      <td>root</td>\n",
       "    </tr>\n",
       "    <tr>\n",
       "      <th>pt_captive</th>\n",
       "      <td>pt</td>\n",
       "      <td>root</td>\n",
       "      <td>root</td>\n",
       "      <td>pt</td>\n",
       "      <td>NaN</td>\n",
       "      <td>pt</td>\n",
       "      <td>pt</td>\n",
       "      <td>root</td>\n",
       "    </tr>\n",
       "  </tbody>\n",
       "</table>\n",
       "</div>"
      ],
      "text/plain": [
       "route_type rail  walk   car bus root subway tram    pt\n",
       "segment                                               \n",
       "root         pt  root  root  pt  NaN     pt   pt  root\n",
       "car_owner    pt  root  root  pt  NaN     pt   pt  root\n",
       "pt_captive   pt  root  root  pt  NaN     pt   pt  root"
      ]
     },
     "execution_count": 81,
     "metadata": {},
     "output_type": "execute_result"
    }
   ],
   "source": [
    "sm.mode_nests.T # nested structure can be set for each segment"
   ]
  },
  {
   "cell_type": "markdown",
   "metadata": {},
   "source": [
    "# UTILITY EVALUATION\n",
    "## add relevant columns to path dataframes"
   ]
  },
  {
   "cell_type": "code",
   "execution_count": 82,
   "metadata": {},
   "outputs": [
    {
     "name": "stdout",
     "output_type": "stream",
     "text": [
      "segment     root  car_owner  pt_captive\n",
      "route_type                             \n",
      "rail        -0.0    -0.1485     -0.0165\n",
      "walk        -0.0    -0.0000     -0.0000\n",
      "car         -0.0    -0.3300     -0.0000\n",
      "bus         -0.0    -0.3960     -0.0495\n",
      "root        -0.0    -0.0000     -0.0000\n",
      "subway      -0.0    -0.0330     -0.0495\n",
      "tram        -0.0    -0.0000     -0.0000\n"
     ]
    }
   ],
   "source": [
    "for segment in sm.segments:\n",
    "    segment_utility = var.loc[(segment,sm.mode_utility.index)].droplevel(level=0)\n",
    "    sm.mode_utility.loc[segment_utility.index,segment] = segment_utility.to_list()\n",
    "    \n",
    "sm.mode_utility = sm.mode_utility.fillna(0)\n",
    "sm.mode_utility = sm.mode_utility*60*sm.utility_values.loc['time']\n",
    "\n",
    "print(sm.mode_utility)"
   ]
  },
  {
   "cell_type": "code",
   "execution_count": 83,
   "metadata": {},
   "outputs": [],
   "source": [
    "\n",
    "sm.pt_los['price'] = 0 # sm.analysis_pt_fare\n",
    "sm.car_los['ntransfers'] = 0\n",
    "sm.car_los['price'] = 0"
   ]
  },
  {
   "cell_type": "code",
   "execution_count": 84,
   "metadata": {},
   "outputs": [
    {
     "data": {
      "text/html": [
       "<div>\n",
       "<style scoped>\n",
       "    .dataframe tbody tr th:only-of-type {\n",
       "        vertical-align: middle;\n",
       "    }\n",
       "\n",
       "    .dataframe tbody tr th {\n",
       "        vertical-align: top;\n",
       "    }\n",
       "\n",
       "    .dataframe thead th {\n",
       "        text-align: right;\n",
       "    }\n",
       "</style>\n",
       "<table border=\"1\" class=\"dataframe\">\n",
       "  <thead>\n",
       "    <tr style=\"text-align: right;\">\n",
       "      <th></th>\n",
       "      <th>origin</th>\n",
       "      <th>destination</th>\n",
       "      <th>gtime</th>\n",
       "      <th>path</th>\n",
       "      <th>pathfinder_session</th>\n",
       "      <th>reversed</th>\n",
       "      <th>route_id_set</th>\n",
       "      <th>route_type_set</th>\n",
       "      <th>broken_column</th>\n",
       "      <th>broken_route_type</th>\n",
       "      <th>...</th>\n",
       "      <th>all_walk</th>\n",
       "      <th>ntransfers</th>\n",
       "      <th>time_link_path</th>\n",
       "      <th>length_link_path</th>\n",
       "      <th>access_time</th>\n",
       "      <th>footpath_time</th>\n",
       "      <th>in_vehicle_time</th>\n",
       "      <th>waiting_time</th>\n",
       "      <th>boarding_time</th>\n",
       "      <th>price</th>\n",
       "    </tr>\n",
       "  </thead>\n",
       "  <tbody>\n",
       "    <tr>\n",
       "      <th>0</th>\n",
       "      <td>zone_0</td>\n",
       "      <td>zone_0</td>\n",
       "      <td>-1.000000e+09</td>\n",
       "      <td>(zone_0,)</td>\n",
       "      <td>best_path</td>\n",
       "      <td>False</td>\n",
       "      <td>{}</td>\n",
       "      <td>{}</td>\n",
       "      <td>NaN</td>\n",
       "      <td>NaN</td>\n",
       "      <td>...</td>\n",
       "      <td>True</td>\n",
       "      <td>0</td>\n",
       "      <td>0.0</td>\n",
       "      <td>0.0</td>\n",
       "      <td>0.000000</td>\n",
       "      <td>0.0</td>\n",
       "      <td>0.0</td>\n",
       "      <td>0.0</td>\n",
       "      <td>0</td>\n",
       "      <td>0</td>\n",
       "    </tr>\n",
       "    <tr>\n",
       "      <th>1</th>\n",
       "      <td>zone_0</td>\n",
       "      <td>zone_1</td>\n",
       "      <td>1.111811e+03</td>\n",
       "      <td>(zone_0, 45, link_4303, 135, zone_1)</td>\n",
       "      <td>best_path</td>\n",
       "      <td>False</td>\n",
       "      <td>{1}</td>\n",
       "      <td>{subway}</td>\n",
       "      <td>NaN</td>\n",
       "      <td>NaN</td>\n",
       "      <td>...</td>\n",
       "      <td>False</td>\n",
       "      <td>0</td>\n",
       "      <td>60.0</td>\n",
       "      <td>NaN</td>\n",
       "      <td>999.811375</td>\n",
       "      <td>0.0</td>\n",
       "      <td>60.0</td>\n",
       "      <td>52.0</td>\n",
       "      <td>0</td>\n",
       "      <td>0</td>\n",
       "    </tr>\n",
       "    <tr>\n",
       "      <th>2</th>\n",
       "      <td>zone_0</td>\n",
       "      <td>zone_10</td>\n",
       "      <td>1.445932e+03</td>\n",
       "      <td>(zone_0, 187, link_3656, 209, link_4524, 110, ...</td>\n",
       "      <td>best_path</td>\n",
       "      <td>False</td>\n",
       "      <td>{95, 4}</td>\n",
       "      <td>{bus, subway}</td>\n",
       "      <td>NaN</td>\n",
       "      <td>NaN</td>\n",
       "      <td>...</td>\n",
       "      <td>False</td>\n",
       "      <td>1</td>\n",
       "      <td>240.0</td>\n",
       "      <td>NaN</td>\n",
       "      <td>988.931956</td>\n",
       "      <td>0.0</td>\n",
       "      <td>240.0</td>\n",
       "      <td>217.0</td>\n",
       "      <td>0</td>\n",
       "      <td>0</td>\n",
       "    </tr>\n",
       "    <tr>\n",
       "      <th>3</th>\n",
       "      <td>zone_0</td>\n",
       "      <td>zone_100</td>\n",
       "      <td>1.788474e+03</td>\n",
       "      <td>(zone_0, 45, link_4303, link_4304, 26, link_49...</td>\n",
       "      <td>best_path</td>\n",
       "      <td>False</td>\n",
       "      <td>{7B, 1}</td>\n",
       "      <td>{subway}</td>\n",
       "      <td>NaN</td>\n",
       "      <td>NaN</td>\n",
       "      <td>...</td>\n",
       "      <td>False</td>\n",
       "      <td>3</td>\n",
       "      <td>600.0</td>\n",
       "      <td>NaN</td>\n",
       "      <td>890.473793</td>\n",
       "      <td>0.0</td>\n",
       "      <td>600.0</td>\n",
       "      <td>298.0</td>\n",
       "      <td>0</td>\n",
       "      <td>0</td>\n",
       "    </tr>\n",
       "    <tr>\n",
       "      <th>4</th>\n",
       "      <td>zone_0</td>\n",
       "      <td>zone_101</td>\n",
       "      <td>2.387717e+03</td>\n",
       "      <td>(zone_0, 45, link_4303, link_4304, 26, link_44...</td>\n",
       "      <td>best_path</td>\n",
       "      <td>False</td>\n",
       "      <td>{5, 1}</td>\n",
       "      <td>{subway, rail}</td>\n",
       "      <td>NaN</td>\n",
       "      <td>NaN</td>\n",
       "      <td>...</td>\n",
       "      <td>False</td>\n",
       "      <td>4</td>\n",
       "      <td>660.0</td>\n",
       "      <td>NaN</td>\n",
       "      <td>1400.217287</td>\n",
       "      <td>0.0</td>\n",
       "      <td>660.0</td>\n",
       "      <td>327.5</td>\n",
       "      <td>0</td>\n",
       "      <td>0</td>\n",
       "    </tr>\n",
       "    <tr>\n",
       "      <th>...</th>\n",
       "      <td>...</td>\n",
       "      <td>...</td>\n",
       "      <td>...</td>\n",
       "      <td>...</td>\n",
       "      <td>...</td>\n",
       "      <td>...</td>\n",
       "      <td>...</td>\n",
       "      <td>...</td>\n",
       "      <td>...</td>\n",
       "      <td>...</td>\n",
       "      <td>...</td>\n",
       "      <td>...</td>\n",
       "      <td>...</td>\n",
       "      <td>...</td>\n",
       "      <td>...</td>\n",
       "      <td>...</td>\n",
       "      <td>...</td>\n",
       "      <td>...</td>\n",
       "      <td>...</td>\n",
       "      <td>...</td>\n",
       "      <td>...</td>\n",
       "    </tr>\n",
       "    <tr>\n",
       "      <th>58</th>\n",
       "      <td>zone_58</td>\n",
       "      <td>zone_107</td>\n",
       "      <td>2.419927e+03</td>\n",
       "      <td>(zone_58, 146, link_5244, 29, link_5382, link_...</td>\n",
       "      <td>route_breaker</td>\n",
       "      <td>True</td>\n",
       "      <td>NaN</td>\n",
       "      <td>NaN</td>\n",
       "      <td>route_id</td>\n",
       "      <td>NaN</td>\n",
       "      <td>...</td>\n",
       "      <td>False</td>\n",
       "      <td>4</td>\n",
       "      <td>1080.0</td>\n",
       "      <td>NaN</td>\n",
       "      <td>798.427098</td>\n",
       "      <td>0.0</td>\n",
       "      <td>1080.0</td>\n",
       "      <td>541.5</td>\n",
       "      <td>0</td>\n",
       "      <td>0</td>\n",
       "    </tr>\n",
       "    <tr>\n",
       "      <th>110</th>\n",
       "      <td>zone_109</td>\n",
       "      <td>zone_83</td>\n",
       "      <td>2.456258e+03</td>\n",
       "      <td>(zone_109, 270, link_1765, 98, link_4465, link...</td>\n",
       "      <td>route_breaker</td>\n",
       "      <td>True</td>\n",
       "      <td>NaN</td>\n",
       "      <td>NaN</td>\n",
       "      <td>route_id</td>\n",
       "      <td>NaN</td>\n",
       "      <td>...</td>\n",
       "      <td>False</td>\n",
       "      <td>5</td>\n",
       "      <td>1020.0</td>\n",
       "      <td>NaN</td>\n",
       "      <td>740.258445</td>\n",
       "      <td>0.0</td>\n",
       "      <td>1020.0</td>\n",
       "      <td>696.0</td>\n",
       "      <td>0</td>\n",
       "      <td>0</td>\n",
       "    </tr>\n",
       "    <tr>\n",
       "      <th>123</th>\n",
       "      <td>zone_70</td>\n",
       "      <td>zone_83</td>\n",
       "      <td>2.474395e+03</td>\n",
       "      <td>(zone_70, 34, link_4875, link_4876, link_4877,...</td>\n",
       "      <td>route_breaker</td>\n",
       "      <td>True</td>\n",
       "      <td>NaN</td>\n",
       "      <td>NaN</td>\n",
       "      <td>route_id</td>\n",
       "      <td>NaN</td>\n",
       "      <td>...</td>\n",
       "      <td>False</td>\n",
       "      <td>2</td>\n",
       "      <td>900.0</td>\n",
       "      <td>NaN</td>\n",
       "      <td>1137.394945</td>\n",
       "      <td>0.0</td>\n",
       "      <td>900.0</td>\n",
       "      <td>437.0</td>\n",
       "      <td>0</td>\n",
       "      <td>0</td>\n",
       "    </tr>\n",
       "    <tr>\n",
       "      <th>127</th>\n",
       "      <td>zone_74</td>\n",
       "      <td>zone_83</td>\n",
       "      <td>2.535796e+03</td>\n",
       "      <td>(zone_74, 289, link_4874, link_4875, link_4876...</td>\n",
       "      <td>route_breaker</td>\n",
       "      <td>True</td>\n",
       "      <td>NaN</td>\n",
       "      <td>NaN</td>\n",
       "      <td>route_id</td>\n",
       "      <td>NaN</td>\n",
       "      <td>...</td>\n",
       "      <td>False</td>\n",
       "      <td>2</td>\n",
       "      <td>960.0</td>\n",
       "      <td>NaN</td>\n",
       "      <td>1138.796295</td>\n",
       "      <td>0.0</td>\n",
       "      <td>960.0</td>\n",
       "      <td>437.0</td>\n",
       "      <td>0</td>\n",
       "      <td>0</td>\n",
       "    </tr>\n",
       "    <tr>\n",
       "      <th>185</th>\n",
       "      <td>zone_39</td>\n",
       "      <td>zone_96</td>\n",
       "      <td>2.115260e+03</td>\n",
       "      <td>(zone_39, 159, link_5255, 197, link_1993, link...</td>\n",
       "      <td>route_breaker</td>\n",
       "      <td>True</td>\n",
       "      <td>NaN</td>\n",
       "      <td>NaN</td>\n",
       "      <td>route_id</td>\n",
       "      <td>NaN</td>\n",
       "      <td>...</td>\n",
       "      <td>False</td>\n",
       "      <td>3</td>\n",
       "      <td>660.0</td>\n",
       "      <td>NaN</td>\n",
       "      <td>886.760124</td>\n",
       "      <td>0.0</td>\n",
       "      <td>660.0</td>\n",
       "      <td>568.5</td>\n",
       "      <td>0</td>\n",
       "      <td>0</td>\n",
       "    </tr>\n",
       "  </tbody>\n",
       "</table>\n",
       "<p>51395 rows × 33 columns</p>\n",
       "</div>"
      ],
      "text/plain": [
       "       origin destination         gtime  \\\n",
       "0      zone_0      zone_0 -1.000000e+09   \n",
       "1      zone_0      zone_1  1.111811e+03   \n",
       "2      zone_0     zone_10  1.445932e+03   \n",
       "3      zone_0    zone_100  1.788474e+03   \n",
       "4      zone_0    zone_101  2.387717e+03   \n",
       "..        ...         ...           ...   \n",
       "58    zone_58    zone_107  2.419927e+03   \n",
       "110  zone_109     zone_83  2.456258e+03   \n",
       "123   zone_70     zone_83  2.474395e+03   \n",
       "127   zone_74     zone_83  2.535796e+03   \n",
       "185   zone_39     zone_96  2.115260e+03   \n",
       "\n",
       "                                                  path pathfinder_session  \\\n",
       "0                                            (zone_0,)          best_path   \n",
       "1                 (zone_0, 45, link_4303, 135, zone_1)          best_path   \n",
       "2    (zone_0, 187, link_3656, 209, link_4524, 110, ...          best_path   \n",
       "3    (zone_0, 45, link_4303, link_4304, 26, link_49...          best_path   \n",
       "4    (zone_0, 45, link_4303, link_4304, 26, link_44...          best_path   \n",
       "..                                                 ...                ...   \n",
       "58   (zone_58, 146, link_5244, 29, link_5382, link_...      route_breaker   \n",
       "110  (zone_109, 270, link_1765, 98, link_4465, link...      route_breaker   \n",
       "123  (zone_70, 34, link_4875, link_4876, link_4877,...      route_breaker   \n",
       "127  (zone_74, 289, link_4874, link_4875, link_4876...      route_breaker   \n",
       "185  (zone_39, 159, link_5255, 197, link_1993, link...      route_breaker   \n",
       "\n",
       "     reversed route_id_set  route_type_set broken_column broken_route_type  \\\n",
       "0       False           {}              {}           NaN               NaN   \n",
       "1       False          {1}        {subway}           NaN               NaN   \n",
       "2       False      {95, 4}   {bus, subway}           NaN               NaN   \n",
       "3       False      {7B, 1}        {subway}           NaN               NaN   \n",
       "4       False       {5, 1}  {subway, rail}           NaN               NaN   \n",
       "..        ...          ...             ...           ...               ...   \n",
       "58       True          NaN             NaN      route_id               NaN   \n",
       "110      True          NaN             NaN      route_id               NaN   \n",
       "123      True          NaN             NaN      route_id               NaN   \n",
       "127      True          NaN             NaN      route_id               NaN   \n",
       "185      True          NaN             NaN      route_id               NaN   \n",
       "\n",
       "     ... all_walk ntransfers time_link_path  length_link_path  access_time  \\\n",
       "0    ...     True          0            0.0               0.0     0.000000   \n",
       "1    ...    False          0           60.0               NaN   999.811375   \n",
       "2    ...    False          1          240.0               NaN   988.931956   \n",
       "3    ...    False          3          600.0               NaN   890.473793   \n",
       "4    ...    False          4          660.0               NaN  1400.217287   \n",
       "..   ...      ...        ...            ...               ...          ...   \n",
       "58   ...    False          4         1080.0               NaN   798.427098   \n",
       "110  ...    False          5         1020.0               NaN   740.258445   \n",
       "123  ...    False          2          900.0               NaN  1137.394945   \n",
       "127  ...    False          2          960.0               NaN  1138.796295   \n",
       "185  ...    False          3          660.0               NaN   886.760124   \n",
       "\n",
       "    footpath_time in_vehicle_time waiting_time boarding_time price  \n",
       "0             0.0             0.0          0.0             0     0  \n",
       "1             0.0            60.0         52.0             0     0  \n",
       "2             0.0           240.0        217.0             0     0  \n",
       "3             0.0           600.0        298.0             0     0  \n",
       "4             0.0           660.0        327.5             0     0  \n",
       "..            ...             ...          ...           ...   ...  \n",
       "58            0.0          1080.0        541.5             0     0  \n",
       "110           0.0          1020.0        696.0             0     0  \n",
       "123           0.0           900.0        437.0             0     0  \n",
       "127           0.0           960.0        437.0             0     0  \n",
       "185           0.0           660.0        568.5             0     0  \n",
       "\n",
       "[51395 rows x 33 columns]"
      ]
     },
     "execution_count": 84,
     "metadata": {},
     "output_type": "execute_result"
    }
   ],
   "source": [
    "sm.pt_los"
   ]
  },
  {
   "cell_type": "markdown",
   "metadata": {},
   "source": [
    "## calculate utility"
   ]
  },
  {
   "cell_type": "code",
   "execution_count": 85,
   "metadata": {},
   "outputs": [],
   "source": [
    "#on à plus le detail dans le car_los semble il"
   ]
  },
  {
   "cell_type": "code",
   "execution_count": 86,
   "metadata": {
    "scrolled": true
   },
   "outputs": [
    {
     "name": "stderr",
     "output_type": "stream",
     "text": [
      "100%|████████████████████████████████████████████████████████████████████████████████████| 2/2 [00:00<00:00, 32.81it/s]\n"
     ]
    }
   ],
   "source": [
    "sm.analysis_pt_route_type(hierarchy=[ 'car','rail', 'subway', 'tram', 'bus', 'walk'])\n",
    "sm.analysis_car_route_type() # add route_type = 'car' in car_los\n",
    "\n",
    "# concatenate pt_los and car_los\n",
    "sm.los = pd.concat([sm.pt_los, sm.car_los]).reset_index(drop=True)\n",
    "sm.los['path'] = sm.los['path'].apply(lambda p: tuple(p))\n",
    "sm.analysis_mode_utility(how=var['analysis_mode_utility']['how'])"
   ]
  },
  {
   "cell_type": "markdown",
   "metadata": {},
   "source": [
    "## calulate the utilities and the probabilities"
   ]
  },
  {
   "cell_type": "code",
   "execution_count": 87,
   "metadata": {
    "scrolled": false
   },
   "outputs": [
    {
     "name": "stderr",
     "output_type": "stream",
     "text": [
      "100%|██████████████████████████████████████████████████████████████████████████████████| 10/10 [00:01<00:00,  6.27it/s]\n"
     ]
    }
   ],
   "source": [
    "sm.step_logit(n_paths_max=10, workers=1, nchunks=10)\n",
    "\n",
    "sm.compute_los_volume()"
   ]
  },
  {
   "cell_type": "code",
   "execution_count": 88,
   "metadata": {},
   "outputs": [],
   "source": [
    "sm.step_assignment(\n",
    "        road=False, \n",
    "        boardings=True, \n",
    "        alightings=True, \n",
    "        transfers=True,\n",
    "        segmented=False,\n",
    "        boarding_links=True,\n",
    "        alighting_links=True)"
   ]
  },
  {
   "cell_type": "markdown",
   "metadata": {},
   "source": [
    "# ASSIGNMENT"
   ]
  },
  {
   "cell_type": "code",
   "execution_count": 89,
   "metadata": {
    "scrolled": true
   },
   "outputs": [],
   "source": [
    "sm.pt_los = sm.los.copy()\n",
    "sm.pt_los = sm.pt_los.loc[sm.pt_los['route_type'] != 'car']\n",
    "sm.step_assignment(\n",
    "    road=True,\n",
    "    boardings=True,\n",
    "    boarding_links=True,\n",
    "    alightings=True,\n",
    "    alighting_links=True,\n",
    "    transfers=True,\n",
    ")"
   ]
  },
  {
   "cell_type": "markdown",
   "metadata": {},
   "source": [
    "# XLSX EXPORT"
   ]
  },
  {
   "cell_type": "code",
   "execution_count": 91,
   "metadata": {},
   "outputs": [
    {
     "ename": "KeyError",
     "evalue": "'in_vehicle_length'",
     "output_type": "error",
     "traceback": [
      "\u001b[1;31m---------------------------------------------------------------------------\u001b[0m",
      "\u001b[1;31mKeyError\u001b[0m                                  Traceback (most recent call last)",
      "\u001b[1;32m~\\.conda\\envs\\quetzal_env_8\\lib\\site-packages\\pandas\\core\\indexes\\base.py\u001b[0m in \u001b[0;36mget_loc\u001b[1;34m(self, key, method, tolerance)\u001b[0m\n\u001b[0;32m   3360\u001b[0m             \u001b[1;32mtry\u001b[0m\u001b[1;33m:\u001b[0m\u001b[1;33m\u001b[0m\u001b[1;33m\u001b[0m\u001b[0m\n\u001b[1;32m-> 3361\u001b[1;33m                 \u001b[1;32mreturn\u001b[0m \u001b[0mself\u001b[0m\u001b[1;33m.\u001b[0m\u001b[0m_engine\u001b[0m\u001b[1;33m.\u001b[0m\u001b[0mget_loc\u001b[0m\u001b[1;33m(\u001b[0m\u001b[0mcasted_key\u001b[0m\u001b[1;33m)\u001b[0m\u001b[1;33m\u001b[0m\u001b[1;33m\u001b[0m\u001b[0m\n\u001b[0m\u001b[0;32m   3362\u001b[0m             \u001b[1;32mexcept\u001b[0m \u001b[0mKeyError\u001b[0m \u001b[1;32mas\u001b[0m \u001b[0merr\u001b[0m\u001b[1;33m:\u001b[0m\u001b[1;33m\u001b[0m\u001b[1;33m\u001b[0m\u001b[0m\n",
      "\u001b[1;32m~\\.conda\\envs\\quetzal_env_8\\lib\\site-packages\\pandas\\_libs\\index.pyx\u001b[0m in \u001b[0;36mpandas._libs.index.IndexEngine.get_loc\u001b[1;34m()\u001b[0m\n",
      "\u001b[1;32m~\\.conda\\envs\\quetzal_env_8\\lib\\site-packages\\pandas\\_libs\\index.pyx\u001b[0m in \u001b[0;36mpandas._libs.index.IndexEngine.get_loc\u001b[1;34m()\u001b[0m\n",
      "\u001b[1;32mpandas\\_libs\\hashtable_class_helper.pxi\u001b[0m in \u001b[0;36mpandas._libs.hashtable.PyObjectHashTable.get_item\u001b[1;34m()\u001b[0m\n",
      "\u001b[1;32mpandas\\_libs\\hashtable_class_helper.pxi\u001b[0m in \u001b[0;36mpandas._libs.hashtable.PyObjectHashTable.get_item\u001b[1;34m()\u001b[0m\n",
      "\u001b[1;31mKeyError\u001b[0m: 'in_vehicle_length'",
      "\nThe above exception was the direct cause of the following exception:\n",
      "\u001b[1;31mKeyError\u001b[0m                                  Traceback (most recent call last)",
      "\u001b[1;32m~\\AppData\\Local\\Temp/ipykernel_4200/2341799990.py\u001b[0m in \u001b[0;36m<module>\u001b[1;34m\u001b[0m\n\u001b[0;32m      4\u001b[0m \u001b[1;33m\u001b[0m\u001b[0m\n\u001b[0;32m      5\u001b[0m \u001b[1;31m#sm.summary_path_average(inplace=True)\u001b[0m\u001b[1;33m\u001b[0m\u001b[1;33m\u001b[0m\u001b[1;33m\u001b[0m\u001b[0m\n\u001b[1;32m----> 6\u001b[1;33m \u001b[0msm\u001b[0m\u001b[1;33m.\u001b[0m\u001b[0msummary_aggregated_path_average\u001b[0m\u001b[1;33m(\u001b[0m\u001b[0minplace\u001b[0m\u001b[1;33m=\u001b[0m\u001b[1;32mTrue\u001b[0m\u001b[1;33m,\u001b[0m \u001b[0mpt_route_types\u001b[0m\u001b[1;33m=\u001b[0m\u001b[1;33m[\u001b[0m\u001b[1;34m'subway'\u001b[0m\u001b[1;33m,\u001b[0m \u001b[1;34m'bus'\u001b[0m\u001b[1;33m,\u001b[0m \u001b[1;34m'tram'\u001b[0m\u001b[1;33m,\u001b[0m \u001b[1;34m'rail'\u001b[0m\u001b[1;33m]\u001b[0m\u001b[1;33m)\u001b[0m\u001b[1;33m\u001b[0m\u001b[1;33m\u001b[0m\u001b[0m\n\u001b[0m\u001b[0;32m      7\u001b[0m \u001b[0msm\u001b[0m\u001b[1;33m.\u001b[0m\u001b[0msummary_path_sum\u001b[0m\u001b[1;33m(\u001b[0m\u001b[0minplace\u001b[0m\u001b[1;33m=\u001b[0m\u001b[1;32mTrue\u001b[0m\u001b[1;33m)\u001b[0m\u001b[1;33m\u001b[0m\u001b[1;33m\u001b[0m\u001b[0m\n\u001b[0;32m      8\u001b[0m \u001b[1;33m\u001b[0m\u001b[0m\n",
      "\u001b[1;32m~\\python\\quetzal_paris\\notebooks\\transport\\../../../quetzal\\quetzal\\model\\summarymodel.py\u001b[0m in \u001b[0;36msummary_aggregated_path_average\u001b[1;34m(self, inplace, dense, pt_route_types, complete)\u001b[0m\n\u001b[0;32m    138\u001b[0m         \u001b[0mby\u001b[0m \u001b[0mroute_type\u001b[0m\u001b[1;33m\u001b[0m\u001b[1;33m\u001b[0m\u001b[0m\n\u001b[0;32m    139\u001b[0m         \"\"\"\n\u001b[1;32m--> 140\u001b[1;33m         \u001b[0mstack\u001b[0m \u001b[1;33m=\u001b[0m \u001b[0mself\u001b[0m\u001b[1;33m.\u001b[0m\u001b[0msummary_path_sum\u001b[0m\u001b[1;33m(\u001b[0m\u001b[1;33m)\u001b[0m\u001b[1;33m\u001b[0m\u001b[1;33m\u001b[0m\u001b[0m\n\u001b[0m\u001b[0;32m    141\u001b[0m         \u001b[0mstack\u001b[0m \u001b[1;33m=\u001b[0m \u001b[0mstack\u001b[0m\u001b[1;33m.\u001b[0m\u001b[0mreset_index\u001b[0m\u001b[1;33m(\u001b[0m\u001b[1;33m)\u001b[0m\u001b[1;33m\u001b[0m\u001b[1;33m\u001b[0m\u001b[0m\n\u001b[0;32m    142\u001b[0m         stack['route_type'] = stack['route_type'].apply(\n",
      "\u001b[1;32m~\\python\\quetzal_paris\\notebooks\\transport\\../../../quetzal\\quetzal\\model\\summarymodel.py\u001b[0m in \u001b[0;36msummary_path_sum\u001b[1;34m(self, inplace, dense)\u001b[0m\n\u001b[0;32m     71\u001b[0m         ]\n\u001b[0;32m     72\u001b[0m         \u001b[1;32mfor\u001b[0m \u001b[0mc\u001b[0m \u001b[1;32min\u001b[0m \u001b[0mcolumns\u001b[0m\u001b[1;33m:\u001b[0m\u001b[1;33m\u001b[0m\u001b[1;33m\u001b[0m\u001b[0m\n\u001b[1;32m---> 73\u001b[1;33m             \u001b[0mdf\u001b[0m\u001b[1;33m[\u001b[0m\u001b[0mc\u001b[0m\u001b[1;33m]\u001b[0m \u001b[1;33m=\u001b[0m \u001b[0mdf\u001b[0m\u001b[1;33m[\u001b[0m\u001b[0mc\u001b[0m\u001b[1;33m]\u001b[0m \u001b[1;33m*\u001b[0m \u001b[0mdf\u001b[0m\u001b[1;33m[\u001b[0m\u001b[1;34m'volume'\u001b[0m\u001b[1;33m]\u001b[0m\u001b[1;33m\u001b[0m\u001b[1;33m\u001b[0m\u001b[0m\n\u001b[0m\u001b[0;32m     74\u001b[0m         \u001b[0mstack\u001b[0m \u001b[1;33m=\u001b[0m \u001b[0mdf\u001b[0m\u001b[1;33m.\u001b[0m\u001b[0mgroupby\u001b[0m\u001b[1;33m(\u001b[0m\u001b[1;34m'route_type'\u001b[0m\u001b[1;33m)\u001b[0m\u001b[1;33m[\u001b[0m\u001b[0mcolumns\u001b[0m\u001b[1;33m]\u001b[0m\u001b[1;33m.\u001b[0m\u001b[0msum\u001b[0m\u001b[1;33m(\u001b[0m\u001b[1;33m)\u001b[0m\u001b[1;33m.\u001b[0m\u001b[0mstack\u001b[0m\u001b[1;33m(\u001b[0m\u001b[1;33m)\u001b[0m\u001b[1;33m\u001b[0m\u001b[1;33m\u001b[0m\u001b[0m\n\u001b[0;32m     75\u001b[0m         \u001b[0mstack\u001b[0m\u001b[1;33m.\u001b[0m\u001b[0mindex\u001b[0m\u001b[1;33m.\u001b[0m\u001b[0mnames\u001b[0m \u001b[1;33m=\u001b[0m \u001b[1;33m[\u001b[0m\u001b[1;34m'route_type'\u001b[0m\u001b[1;33m,\u001b[0m \u001b[1;34m'indicator'\u001b[0m\u001b[1;33m]\u001b[0m\u001b[1;33m\u001b[0m\u001b[1;33m\u001b[0m\u001b[0m\n",
      "\u001b[1;32m~\\.conda\\envs\\quetzal_env_8\\lib\\site-packages\\pandas\\core\\frame.py\u001b[0m in \u001b[0;36m__getitem__\u001b[1;34m(self, key)\u001b[0m\n\u001b[0;32m   3456\u001b[0m             \u001b[1;32mif\u001b[0m \u001b[0mself\u001b[0m\u001b[1;33m.\u001b[0m\u001b[0mcolumns\u001b[0m\u001b[1;33m.\u001b[0m\u001b[0mnlevels\u001b[0m \u001b[1;33m>\u001b[0m \u001b[1;36m1\u001b[0m\u001b[1;33m:\u001b[0m\u001b[1;33m\u001b[0m\u001b[1;33m\u001b[0m\u001b[0m\n\u001b[0;32m   3457\u001b[0m                 \u001b[1;32mreturn\u001b[0m \u001b[0mself\u001b[0m\u001b[1;33m.\u001b[0m\u001b[0m_getitem_multilevel\u001b[0m\u001b[1;33m(\u001b[0m\u001b[0mkey\u001b[0m\u001b[1;33m)\u001b[0m\u001b[1;33m\u001b[0m\u001b[1;33m\u001b[0m\u001b[0m\n\u001b[1;32m-> 3458\u001b[1;33m             \u001b[0mindexer\u001b[0m \u001b[1;33m=\u001b[0m \u001b[0mself\u001b[0m\u001b[1;33m.\u001b[0m\u001b[0mcolumns\u001b[0m\u001b[1;33m.\u001b[0m\u001b[0mget_loc\u001b[0m\u001b[1;33m(\u001b[0m\u001b[0mkey\u001b[0m\u001b[1;33m)\u001b[0m\u001b[1;33m\u001b[0m\u001b[1;33m\u001b[0m\u001b[0m\n\u001b[0m\u001b[0;32m   3459\u001b[0m             \u001b[1;32mif\u001b[0m \u001b[0mis_integer\u001b[0m\u001b[1;33m(\u001b[0m\u001b[0mindexer\u001b[0m\u001b[1;33m)\u001b[0m\u001b[1;33m:\u001b[0m\u001b[1;33m\u001b[0m\u001b[1;33m\u001b[0m\u001b[0m\n\u001b[0;32m   3460\u001b[0m                 \u001b[0mindexer\u001b[0m \u001b[1;33m=\u001b[0m \u001b[1;33m[\u001b[0m\u001b[0mindexer\u001b[0m\u001b[1;33m]\u001b[0m\u001b[1;33m\u001b[0m\u001b[1;33m\u001b[0m\u001b[0m\n",
      "\u001b[1;32m~\\.conda\\envs\\quetzal_env_8\\lib\\site-packages\\pandas\\core\\indexes\\base.py\u001b[0m in \u001b[0;36mget_loc\u001b[1;34m(self, key, method, tolerance)\u001b[0m\n\u001b[0;32m   3361\u001b[0m                 \u001b[1;32mreturn\u001b[0m \u001b[0mself\u001b[0m\u001b[1;33m.\u001b[0m\u001b[0m_engine\u001b[0m\u001b[1;33m.\u001b[0m\u001b[0mget_loc\u001b[0m\u001b[1;33m(\u001b[0m\u001b[0mcasted_key\u001b[0m\u001b[1;33m)\u001b[0m\u001b[1;33m\u001b[0m\u001b[1;33m\u001b[0m\u001b[0m\n\u001b[0;32m   3362\u001b[0m             \u001b[1;32mexcept\u001b[0m \u001b[0mKeyError\u001b[0m \u001b[1;32mas\u001b[0m \u001b[0merr\u001b[0m\u001b[1;33m:\u001b[0m\u001b[1;33m\u001b[0m\u001b[1;33m\u001b[0m\u001b[0m\n\u001b[1;32m-> 3363\u001b[1;33m                 \u001b[1;32mraise\u001b[0m \u001b[0mKeyError\u001b[0m\u001b[1;33m(\u001b[0m\u001b[0mkey\u001b[0m\u001b[1;33m)\u001b[0m \u001b[1;32mfrom\u001b[0m \u001b[0merr\u001b[0m\u001b[1;33m\u001b[0m\u001b[1;33m\u001b[0m\u001b[0m\n\u001b[0m\u001b[0;32m   3364\u001b[0m \u001b[1;33m\u001b[0m\u001b[0m\n\u001b[0;32m   3365\u001b[0m         \u001b[1;32mif\u001b[0m \u001b[0mis_scalar\u001b[0m\u001b[1;33m(\u001b[0m\u001b[0mkey\u001b[0m\u001b[1;33m)\u001b[0m \u001b[1;32mand\u001b[0m \u001b[0misna\u001b[0m\u001b[1;33m(\u001b[0m\u001b[0mkey\u001b[0m\u001b[1;33m)\u001b[0m \u001b[1;32mand\u001b[0m \u001b[1;32mnot\u001b[0m \u001b[0mself\u001b[0m\u001b[1;33m.\u001b[0m\u001b[0mhasnans\u001b[0m\u001b[1;33m:\u001b[0m\u001b[1;33m\u001b[0m\u001b[1;33m\u001b[0m\u001b[0m\n",
      "\u001b[1;31mKeyError\u001b[0m: 'in_vehicle_length'"
     ]
    }
   ],
   "source": [
    "sm.summary_link_max(inplace=True)\n",
    "sm.summary_link_sum(inplace=True)\n",
    "#sm.summary_od(inplace=True)\n",
    "\n",
    "#sm.summary_path_average(inplace=True)\n",
    "sm.summary_aggregated_path_average(inplace=True, pt_route_types=['subway', 'bus', 'tram', 'rail'])\n",
    "sm.summary_path_sum(inplace=True)\n",
    "\n",
    "s = sm.stack_link_sum.unstack([-1, -2]).groupby(level=0).sum().stack([0, 1])\n",
    "s.name = 'sum'\n",
    "sm.stack_aggregated_link_sum = s \n",
    "s = sm.stack_link_max.unstack().groupby(level=0).max().stack()\n",
    "s.name = 'max'\n",
    "sm.stack_aggregated_link_max = sOka"
   ]
  },
  {
   "cell_type": "code",
   "execution_count": null,
   "metadata": {},
   "outputs": [],
   "source": [
    "sm.od_los.head(2)"
   ]
  },
  {
   "cell_type": "code",
   "execution_count": null,
   "metadata": {},
   "outputs": [],
   "source": [
    "sm.to_excel(training_folder + r'model/%s/stacks.xlsx'%scenario, prefix='stack')"
   ]
  },
  {
   "cell_type": "markdown",
   "metadata": {},
   "source": [
    "# GEOJSON EXPORT"
   ]
  },
  {
   "cell_type": "code",
   "execution_count": null,
   "metadata": {},
   "outputs": [],
   "source": [
    "if manual:\n",
    "    sm.to_json(training_folder + 'json', only_attributes=['links', 'nodes'])"
   ]
  },
  {
   "cell_type": "markdown",
   "metadata": {},
   "source": [
    "# ZIP EXPORT"
   ]
  },
  {
   "cell_type": "code",
   "execution_count": null,
   "metadata": {},
   "outputs": [],
   "source": [
    "sm.to_zip(training_folder + 'model/{scen}/logit.zip'.format(scen=scenario), omitted_attributes=['los'])"
   ]
  },
  {
   "cell_type": "markdown",
   "metadata": {},
   "source": [
    "# PLOT"
   ]
  },
  {
   "cell_type": "code",
   "execution_count": null,
   "metadata": {},
   "outputs": [],
   "source": [
    "import numpy as np\n",
    "paths = sm.pt_los\n",
    "link_routes = sm.links['route_short_name'].to_dict()\n",
    "def link_path_to_routes(link_path):\n",
    "    routes = [link_routes[l] for l in link_path]\n",
    "    used = set()\n",
    "    rsn = []\n",
    "    for route in routes:\n",
    "        if route not in used:\n",
    "            rsn.append(route)\n",
    "        used.add(route)\n",
    "    return rsn\n",
    "\n",
    "paths['route_path'] = paths['link_path'].apply(link_path_to_routes)\n",
    "paths['ntransfers'] = paths['transfers'].apply(len)\n",
    "\n",
    "def title(paths):\n",
    "    paths['min'] = np.round(paths['time'] / 60).astype(int)\n",
    "    mins = (paths[['in_vehicle_time', 'access_time', 'footpath_time', 'waiting_time', 'time']] / 60).astype(int).astype(str)\n",
    "    title = 'P = ' + (np.round(paths[('pt_captive', 'probability')], 2).fillna(0) * 100).astype(int).astype(str) + '%'\n",
    "    title += ' | '+  paths['ntransfers'].astype(str) + ' transfers '\n",
    "    title += ' | '+  paths['min'].astype(str) + ' mins | '\n",
    "    title += paths['route_path'].apply(lambda l: '—>'.join(l) )\n",
    "    title += '\\n'+ 'in vehicle '+ mins['in_vehicle_time']+ \"' | \" + ' waiting '+ mins['waiting_time']+ \"' | \"  \n",
    "    title += 'access ' + mins['access_time']+ \"' | \"   + ' footpaths '  + mins['footpath_time']+ \"'\"   \n",
    "    return title\n",
    "\n",
    "\n",
    "paths['title'] = title(paths)"
   ]
  },
  {
   "cell_type": "code",
   "execution_count": null,
   "metadata": {},
   "outputs": [],
   "source": [
    "if manual:\n",
    "    origin, destination='zone_74',  'zone_105'\n",
    "    n =  len(sm.pt_los.set_index(['origin', 'destination']).loc[(origin, destination)])\n",
    "\n",
    "    rows = 2\n",
    "    if n > 6:\n",
    "        rows = 3\n",
    "    if n > 12:\n",
    "        rows = 4\n",
    "\n",
    "    columns = n // rows + bool(n%rows)\n",
    "\n",
    "\n",
    "    url = 'http://a.basemaps.cartocdn.com/light_nolabels/{z}/{x}/{y}.png'\n",
    "    fig, axes = sm.plot_separated_paths(\n",
    "        origin, destination, rows=rows, figsize=[20, 20],\n",
    "        title='title', constrained_layout=True,\n",
    "        basemap_url=url, zoom=13\n",
    "    )\n",
    "    ax = fig.get_axes()[0]\n",
    "    bbox = ax.get_window_extent().transformed(fig.dpi_scale_trans.inverted())\n",
    "    fig.set_size_inches(bbox.width*columns, rows*(bbox.height))\n",
    "    fig.constrained_layout = True"
   ]
  },
  {
   "cell_type": "code",
   "execution_count": null,
   "metadata": {},
   "outputs": [],
   "source": [
    "if manual:\n",
    "    from syspy.syspy_utils import data_visualization as dv\n",
    "    bandwidth = dv.bandwidth\n",
    "    power=0.5\n",
    "    lv = [100, 1000, 2000, 5000, 7000, 15000]\n",
    "    url = 'http://a.basemaps.cartocdn.com/dark_nolabels/{z}/{x}/{y}.png'\n",
    "\n",
    "    sm.road_links['volume'] = sm.road_links[('volume', 'pt')]\n",
    "    i_links = sm.links.loc[sm.links.road_length.isnull()]\n",
    "    df = pd.concat([i_links, sm.road_links])\n",
    "    df = df.loc[df['volume'] > 0]\n",
    "\n",
    "    plot= bandwidth(\n",
    "        df, value_column='volume', power=power, figsize=[12, 12], legend_values=lv,\n",
    "        label_kwargs={'color':'white', 'fontsize':12}\n",
    "    )\n",
    "    dv.add_basemap(plot, url=url, zoom=12)\n",
    "    plot.set_title('Public Transport Assignment on Bus Lines (Stochastic)', fontsize=16)"
   ]
  },
  {
   "cell_type": "code",
   "execution_count": null,
   "metadata": {},
   "outputs": [],
   "source": []
  }
 ],
 "metadata": {
  "kernelspec": {
   "display_name": "quetzal_env_8",
   "language": "python",
   "name": "quetzal_env_8"
  },
  "language_info": {
   "codemirror_mode": {
    "name": "ipython",
    "version": 3
   },
   "file_extension": ".py",
   "mimetype": "text/x-python",
   "name": "python",
   "nbconvert_exporter": "python",
   "pygments_lexer": "ipython3",
   "version": "3.8.12"
  }
 },
 "nbformat": 4,
 "nbformat_minor": 2
}

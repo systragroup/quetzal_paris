{
 "cells": [
  {
   "attachments": {},
   "cell_type": "markdown",
   "metadata": {},
   "source": [
    "# Create OD volumes Using Generation and Distribution Steps"
   ]
  },
  {
   "cell_type": "code",
   "execution_count": 11,
   "metadata": {},
   "outputs": [],
   "source": [
    "import sys\n",
    "import json\n",
    "default = {'scenario': 'base', 'training_folder': '../..'} # Default execution parameters\n",
    "manual, argv = (True, default) if 'ipykernel' in sys.argv[0] else (False, dict(default, **json.loads(sys.argv[1])))\n",
    "\n",
    "sys.path.insert(0, r'../../../quetzal') # Add path to quetzal\n",
    "from quetzal.model import stepmodel\n",
    "\n",
    "import pandas as pd\n",
    "\n",
    "if manual:\n",
    "    %matplotlib inline"
   ]
  },
  {
   "cell_type": "markdown",
   "metadata": {},
   "source": [
    "## Read Model"
   ]
  },
  {
   "cell_type": "code",
   "execution_count": 12,
   "metadata": {},
   "outputs": [
    {
     "name": "stderr",
     "output_type": "stream",
     "text": [
      "lines: 100%|██████████| 31/31 [00:00<00:00, 37.91it/s]                  \n"
     ]
    }
   ],
   "source": [
    "sm = stepmodel.read_zippedpickles(argv['training_folder'] + '/model/{scen}/aon_pathfinder'.format(scen=argv['scenario']))"
   ]
  },
  {
   "attachments": {},
   "cell_type": "markdown",
   "metadata": {},
   "source": [
    "# Generation\n",
    "- Production = Population\n",
    "- Attraction = Jobs"
   ]
  },
  {
   "cell_type": "code",
   "execution_count": 13,
   "metadata": {},
   "outputs": [
    {
     "data": {
      "text/plain": [
       "2158238.2271273527"
      ]
     },
     "execution_count": 13,
     "metadata": {},
     "output_type": "execute_result"
    }
   ],
   "source": [
    "sm.zones['emission'] =  sm.zones['pop'].astype(int) / 10 # peak hour generation\n",
    "sm.zones['attraction'] =  sm.zones['emp'].astype(int) / 10\n",
    "sm.zones['pop'].sum()"
   ]
  },
  {
   "attachments": {},
   "cell_type": "markdown",
   "metadata": {},
   "source": [
    "# Distribution\n",
    "- Car owners (30% of population) distribution is proportional to car time\n",
    "- PT captives (70% of population) distribution is proportional to PT time"
   ]
  },
  {
   "attachments": {},
   "cell_type": "markdown",
   "metadata": {},
   "source": [
    "## Car Owners"
   ]
  },
  {
   "cell_type": "code",
   "execution_count": 14,
   "metadata": {},
   "outputs": [],
   "source": [
    "motor_rate = 0.3"
   ]
  },
  {
   "cell_type": "code",
   "execution_count": 15,
   "metadata": {},
   "outputs": [],
   "source": [
    "car = sm.copy()\n",
    "car.zones['emission'] *= motor_rate\n",
    "\n",
    "# Impedence matrice = car time\n",
    "imp_matrix = car.car_los[['origin', 'destination', 'time']].set_index(['origin','destination']).unstack() \n",
    "imp_matrix = imp_matrix.replace(0, 120)\n",
    "car.step_distribution(deterrence_matrix = imp_matrix)"
   ]
  },
  {
   "attachments": {},
   "cell_type": "markdown",
   "metadata": {},
   "source": [
    "# PT Captives"
   ]
  },
  {
   "cell_type": "code",
   "execution_count": 16,
   "metadata": {},
   "outputs": [],
   "source": [
    "pt = sm.copy()\n",
    "pt.zones['emission'] *= (1 - motor_rate)\n",
    "\n",
    "# Impedence matrice = PT time\n",
    "imp_matrix = pt.pt_los[['origin', 'destination', 'gtime']].set_index(['origin','destination']).unstack() \n",
    "imp_matrix = imp_matrix.replace(0, 120)\n",
    "pt.step_distribution(deterrence_matrix = imp_matrix)"
   ]
  },
  {
   "attachments": {},
   "cell_type": "markdown",
   "metadata": {},
   "source": [
    "## Merge volume matrices"
   ]
  },
  {
   "cell_type": "code",
   "execution_count": 17,
   "metadata": {
    "scrolled": true
   },
   "outputs": [
    {
     "data": {
      "text/html": [
       "<div>\n",
       "<style scoped>\n",
       "    .dataframe tbody tr th:only-of-type {\n",
       "        vertical-align: middle;\n",
       "    }\n",
       "\n",
       "    .dataframe tbody tr th {\n",
       "        vertical-align: top;\n",
       "    }\n",
       "\n",
       "    .dataframe thead th {\n",
       "        text-align: right;\n",
       "    }\n",
       "</style>\n",
       "<table border=\"1\" class=\"dataframe\">\n",
       "  <thead>\n",
       "    <tr style=\"text-align: right;\">\n",
       "      <th></th>\n",
       "      <th>origin</th>\n",
       "      <th>destination</th>\n",
       "      <th>car_owner</th>\n",
       "      <th>pt_captive</th>\n",
       "    </tr>\n",
       "  </thead>\n",
       "  <tbody>\n",
       "    <tr>\n",
       "      <th>0</th>\n",
       "      <td>zone_0</td>\n",
       "      <td>zone_0</td>\n",
       "      <td>0.005188</td>\n",
       "      <td>0.008204</td>\n",
       "    </tr>\n",
       "    <tr>\n",
       "      <th>1</th>\n",
       "      <td>zone_0</td>\n",
       "      <td>zone_1</td>\n",
       "      <td>0.175681</td>\n",
       "      <td>0.378281</td>\n",
       "    </tr>\n",
       "    <tr>\n",
       "      <th>2</th>\n",
       "      <td>zone_0</td>\n",
       "      <td>zone_2</td>\n",
       "      <td>0.136994</td>\n",
       "      <td>0.316779</td>\n",
       "    </tr>\n",
       "    <tr>\n",
       "      <th>3</th>\n",
       "      <td>zone_0</td>\n",
       "      <td>zone_3</td>\n",
       "      <td>0.185262</td>\n",
       "      <td>0.408741</td>\n",
       "    </tr>\n",
       "    <tr>\n",
       "      <th>4</th>\n",
       "      <td>zone_0</td>\n",
       "      <td>zone_4</td>\n",
       "      <td>0.180202</td>\n",
       "      <td>0.393932</td>\n",
       "    </tr>\n",
       "  </tbody>\n",
       "</table>\n",
       "</div>"
      ],
      "text/plain": [
       "   origin destination  car_owner  pt_captive\n",
       "0  zone_0      zone_0   0.005188    0.008204\n",
       "1  zone_0      zone_1   0.175681    0.378281\n",
       "2  zone_0      zone_2   0.136994    0.316779\n",
       "3  zone_0      zone_3   0.185262    0.408741\n",
       "4  zone_0      zone_4   0.180202    0.393932"
      ]
     },
     "execution_count": 17,
     "metadata": {},
     "output_type": "execute_result"
    }
   ],
   "source": [
    "sm.volumes = pd.merge(\n",
    "    car.volumes,\n",
    "    pt.volumes,\n",
    "    on=['origin', 'destination'],\n",
    "    suffixes=[ '_car_owner', '_pt_captive']\n",
    ").rename(columns={'volume_car_owner': 'car_owner', 'volume_pt_captive': 'pt_captive'})\n",
    "sm.volumes.head(5)"
   ]
  },
  {
   "attachments": {},
   "cell_type": "markdown",
   "metadata": {},
   "source": [
    "# Export"
   ]
  },
  {
   "cell_type": "code",
   "execution_count": 18,
   "metadata": {},
   "outputs": [
    {
     "name": "stderr",
     "output_type": "stream",
     "text": [
      "volumes: 100%|██████████| 32/32 [00:00<00:00, 1721.58it/s]\n"
     ]
    }
   ],
   "source": [
    "sm.to_zippedpickles(\n",
    "    argv['training_folder'] + '/model/{scen}/distribution'.format(scen=argv['scenario']), \n",
    "    only_attributes=['volumes', 'epsg', 'coordinates_unit']\n",
    ")"
   ]
  },
  {
   "attachments": {},
   "cell_type": "markdown",
   "metadata": {},
   "source": [
    "# Monitoring"
   ]
  },
  {
   "cell_type": "code",
   "execution_count": 19,
   "metadata": {},
   "outputs": [],
   "source": [
    "if not manual:\n",
    "    end_of_notebook\n",
    "    \n",
    "import matplotlib.pyplot as plt"
   ]
  },
  {
   "cell_type": "code",
   "execution_count": 20,
   "metadata": {},
   "outputs": [
    {
     "data": {
      "text/plain": [
       "Text(0.5, 1.0, 'Car Owner Distribution')"
      ]
     },
     "execution_count": 20,
     "metadata": {},
     "output_type": "execute_result"
    },
    {
     "data": {
      "image/png": "[encoded data removed]",
      "text/plain": [
       "<Figure size 720x360 with 2 Axes>"
      ]
     },
     "metadata": {
      "needs_background": "light"
     },
     "output_type": "display_data"
    }
   ],
   "source": [
    "od = pd.merge(sm.volumes, sm.pt_los, on=['origin', 'destination'])\n",
    "od = pd.merge(od, sm.car_los, on=['origin', 'destination'])\n",
    "fig, axes = plt.subplots(1, 2, figsize=[10, 5])\n",
    "plot = od[['gtime']].plot(kind='hist', weights=od['pt_captive'], bins=50, alpha=0.5, ax=axes[0])\n",
    "plot.set_title('PT Captives Distribution')\n",
    "plot = od[['time']].plot(kind='hist', weights=od['car_owner'], bins=50, alpha=0.5, ax=axes[1])\n",
    "plot.set_title('Car Owner Distribution')"
   ]
  },
  {
   "cell_type": "markdown",
   "metadata": {},
   "source": [
    "# END"
   ]
  }
 ],
 "metadata": {
  "kernelspec": {
   "display_name": "quetzal_env",
   "language": "python",
   "name": "python3"
  },
  "language_info": {
   "codemirror_mode": {
    "name": "ipython",
    "version": 3
   },
   "file_extension": ".py",
   "mimetype": "text/x-python",
   "name": "python",
   "nbconvert_exporter": "python",
   "pygments_lexer": "ipython3",
   "version": "3.8.16"
  },
  "vscode": {
   "interpreter": {
    "hash": "b99f384514dbf44ef4a34ba020d927569585134cf57cab0f0201a3ca8ee6bcf2"
   }
  }
 },
 "nbformat": 4,
 "nbformat_minor": 2
}

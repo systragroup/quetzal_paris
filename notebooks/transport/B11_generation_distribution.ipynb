{
 "cells": [
  {
   "cell_type": "code",
   "execution_count": 11,
   "metadata": {},
   "outputs": [],
   "source": [
    "import sys # for automation and parallelization: set manual to false when run by a launcher\n",
    "manual, scenario = (True, 'base') if 'ipykernel' in sys.argv[0] else (False, sys.argv[1])"
   ]
  },
  {
   "cell_type": "markdown",
   "metadata": {},
   "source": [
    "# START"
   ]
  },
  {
   "cell_type": "code",
   "execution_count": 12,
   "metadata": {},
   "outputs": [],
   "source": [
    "import sys\n",
    "sys.path.insert(0, r'../../../quetzal')\n",
    "\n",
    "from quetzal.model import stepmodel\n",
    "\n",
    "import numpy as np\n",
    "import pandas as pd"
   ]
  },
  {
   "cell_type": "code",
   "execution_count": 13,
   "metadata": {},
   "outputs": [],
   "source": [
    "training_folder = '../../'"
   ]
  },
  {
   "cell_type": "code",
   "execution_count": 14,
   "metadata": {},
   "outputs": [
    {
     "name": "stderr",
     "output_type": "stream",
     "text": [
      "zone_to_transit: 100%|█████████████████████████████████████████████████████████████████| 31/31 [00:01<00:00, 28.48it/s]\n"
     ]
    }
   ],
   "source": [
    "sm = stepmodel.read_zippedpickles(training_folder + 'model/{scen}/aon_pathfinder'.format(scen=scenario))"
   ]
  },
  {
   "cell_type": "markdown",
   "metadata": {},
   "source": [
    "# generation\n",
    "- Production = Population\n",
    "- Attraction = Jobs"
   ]
  },
  {
   "cell_type": "code",
   "execution_count": 15,
   "metadata": {},
   "outputs": [
    {
     "data": {
      "text/plain": [
       "2158238.2271273527"
      ]
     },
     "execution_count": 15,
     "metadata": {},
     "output_type": "execute_result"
    }
   ],
   "source": [
    "sm.zones['emission'] =  sm.zones['pop'].astype(int) / 10 # peak hour generation\n",
    "sm.zones['attraction'] =  sm.zones['emp'].astype(int) / 10\n",
    "sm.zones['pop'].sum()"
   ]
  },
  {
   "cell_type": "markdown",
   "metadata": {},
   "source": [
    "# car owners\n",
    "car owners distribution is based on car times"
   ]
  },
  {
   "cell_type": "code",
   "execution_count": 16,
   "metadata": {},
   "outputs": [],
   "source": [
    "motor_rate = 0.3\n",
    "car = sm.copy()\n",
    "car.zones['emission'] *= motor_rate"
   ]
  },
  {
   "cell_type": "code",
   "execution_count": 17,
   "metadata": {},
   "outputs": [],
   "source": [
    "imp_matrix = car.car_los[\n",
    "    ['origin', 'destination', 'time']\n",
    "].set_index(['origin','destination']).unstack() \n",
    "imp_matrix = imp_matrix.replace(0, 120)\n",
    "\n",
    "car.step_distribution(deterrence_matrix=imp_matrix)"
   ]
  },
  {
   "cell_type": "markdown",
   "metadata": {},
   "source": [
    "# PT captives\n",
    "car owners distribution is based on car times"
   ]
  },
  {
   "cell_type": "code",
   "execution_count": 18,
   "metadata": {},
   "outputs": [],
   "source": [
    "pt = sm.copy()\n",
    "pt.zones['emission'] *= (1-motor_rate)"
   ]
  },
  {
   "cell_type": "code",
   "execution_count": 19,
   "metadata": {},
   "outputs": [],
   "source": [
    "# Ici on prend comme fonction de coût le temps TC. Notez le .unstack() \n",
    "imp_matrix = pt.pt_los[\n",
    "    ['origin', 'destination', 'gtime']\n",
    "].set_index(['origin','destination']).unstack() \n",
    "imp_matrix = imp_matrix.replace(0, 120)"
   ]
  },
  {
   "cell_type": "code",
   "execution_count": 20,
   "metadata": {},
   "outputs": [],
   "source": [
    "pt.step_distribution(deterrence_matrix=imp_matrix)"
   ]
  },
  {
   "cell_type": "code",
   "execution_count": 21,
   "metadata": {},
   "outputs": [
    {
     "data": {
      "text/html": [
       "<div>\n",
       "<style scoped>\n",
       "    .dataframe tbody tr th:only-of-type {\n",
       "        vertical-align: middle;\n",
       "    }\n",
       "\n",
       "    .dataframe tbody tr th {\n",
       "        vertical-align: top;\n",
       "    }\n",
       "\n",
       "    .dataframe thead th {\n",
       "        text-align: right;\n",
       "    }\n",
       "</style>\n",
       "<table border=\"1\" class=\"dataframe\">\n",
       "  <thead>\n",
       "    <tr style=\"text-align: right;\">\n",
       "      <th></th>\n",
       "      <th>origin</th>\n",
       "      <th>destination</th>\n",
       "      <th>volume</th>\n",
       "    </tr>\n",
       "  </thead>\n",
       "  <tbody>\n",
       "    <tr>\n",
       "      <th>0</th>\n",
       "      <td>zone_0</td>\n",
       "      <td>zone_0</td>\n",
       "      <td>0.007953</td>\n",
       "    </tr>\n",
       "    <tr>\n",
       "      <th>1</th>\n",
       "      <td>zone_0</td>\n",
       "      <td>zone_1</td>\n",
       "      <td>0.431277</td>\n",
       "    </tr>\n",
       "    <tr>\n",
       "      <th>2</th>\n",
       "      <td>zone_0</td>\n",
       "      <td>zone_2</td>\n",
       "      <td>0.300946</td>\n",
       "    </tr>\n",
       "    <tr>\n",
       "      <th>3</th>\n",
       "      <td>zone_0</td>\n",
       "      <td>zone_3</td>\n",
       "      <td>0.410764</td>\n",
       "    </tr>\n",
       "    <tr>\n",
       "      <th>4</th>\n",
       "      <td>zone_0</td>\n",
       "      <td>zone_4</td>\n",
       "      <td>0.397187</td>\n",
       "    </tr>\n",
       "    <tr>\n",
       "      <th>...</th>\n",
       "      <td>...</td>\n",
       "      <td>...</td>\n",
       "      <td>...</td>\n",
       "    </tr>\n",
       "    <tr>\n",
       "      <th>12095</th>\n",
       "      <td>zone_109</td>\n",
       "      <td>zone_105</td>\n",
       "      <td>1.770855</td>\n",
       "    </tr>\n",
       "    <tr>\n",
       "      <th>12096</th>\n",
       "      <td>zone_109</td>\n",
       "      <td>zone_106</td>\n",
       "      <td>6.871817</td>\n",
       "    </tr>\n",
       "    <tr>\n",
       "      <th>12097</th>\n",
       "      <td>zone_109</td>\n",
       "      <td>zone_107</td>\n",
       "      <td>4.593120</td>\n",
       "    </tr>\n",
       "    <tr>\n",
       "      <th>12098</th>\n",
       "      <td>zone_109</td>\n",
       "      <td>zone_108</td>\n",
       "      <td>4.165678</td>\n",
       "    </tr>\n",
       "    <tr>\n",
       "      <th>12099</th>\n",
       "      <td>zone_109</td>\n",
       "      <td>zone_109</td>\n",
       "      <td>0.520280</td>\n",
       "    </tr>\n",
       "  </tbody>\n",
       "</table>\n",
       "<p>12100 rows × 3 columns</p>\n",
       "</div>"
      ],
      "text/plain": [
       "         origin destination    volume\n",
       "0        zone_0      zone_0  0.007953\n",
       "1        zone_0      zone_1  0.431277\n",
       "2        zone_0      zone_2  0.300946\n",
       "3        zone_0      zone_3  0.410764\n",
       "4        zone_0      zone_4  0.397187\n",
       "...         ...         ...       ...\n",
       "12095  zone_109    zone_105  1.770855\n",
       "12096  zone_109    zone_106  6.871817\n",
       "12097  zone_109    zone_107  4.593120\n",
       "12098  zone_109    zone_108  4.165678\n",
       "12099  zone_109    zone_109  0.520280\n",
       "\n",
       "[12100 rows x 3 columns]"
      ]
     },
     "execution_count": 21,
     "metadata": {},
     "output_type": "execute_result"
    }
   ],
   "source": [
    "pt.volumes"
   ]
  },
  {
   "cell_type": "markdown",
   "metadata": {},
   "source": [
    "# merge matrices"
   ]
  },
  {
   "cell_type": "code",
   "execution_count": 22,
   "metadata": {
    "scrolled": true
   },
   "outputs": [],
   "source": [
    "sm.volumes = pd.merge(\n",
    "    car.volumes,\n",
    "    pt.volumes,\n",
    "    on=['origin', 'destination'],\n",
    "    suffixes=[ '_car_owner', '_pt_captive']\n",
    ").rename(columns={'volume_car_owner': 'car_owner', 'volume_pt_captive': 'pt_captive'})"
   ]
  },
  {
   "cell_type": "markdown",
   "metadata": {},
   "source": [
    "# to_zip"
   ]
  },
  {
   "cell_type": "code",
   "execution_count": 23,
   "metadata": {},
   "outputs": [
    {
     "name": "stderr",
     "output_type": "stream",
     "text": [
      "volumes: 100%|████████████████████████████████████████████████████████████████████████| 32/32 [00:00<00:00, 680.78it/s]\n"
     ]
    }
   ],
   "source": [
    "sm.to_zippedpickles(\n",
    "    training_folder + 'model/{scen}/distribution'.format(scen=scenario), \n",
    "    only_attributes=['volumes', 'epsg', 'coordinates_unit']\n",
    ")"
   ]
  },
  {
   "cell_type": "markdown",
   "metadata": {},
   "source": [
    "# monitoring"
   ]
  },
  {
   "cell_type": "code",
   "execution_count": 24,
   "metadata": {},
   "outputs": [
    {
     "data": {
      "text/plain": [
       "Text(0.5, 1.0, 'PT captives distribution')"
      ]
     },
     "execution_count": 24,
     "metadata": {},
     "output_type": "execute_result"
    },
    {
     "data": {
      "image/png": "[encoded data removed]",
      "text/plain": [
       "<Figure size 720x360 with 2 Axes>"
      ]
     },
     "metadata": {
      "needs_background": "light"
     },
     "output_type": "display_data"
    }
   ],
   "source": [
    "od = pd.merge(sm.volumes, sm.pt_los, on=['origin', 'destination'])\n",
    "od = pd.merge(od, sm.car_los, on=['origin', 'destination'])\n",
    "import matplotlib.pyplot as plt\n",
    "fig, axes = plt.subplots(1, 2, figsize=[10, 5])\n",
    "plot = od[['gtime']].plot(kind='hist', weights=od['pt_captive'], bins=50, alpha=0.5, ax=axes[0])\n",
    "plot.set_title('car owners distribution')\n",
    "plot = od[['time']].plot(kind='hist', weights=od['car_owner'], bins=50, alpha=0.5, ax=axes[1])\n",
    "plot.set_title('PT captives distribution')"
   ]
  },
  {
   "cell_type": "markdown",
   "metadata": {},
   "source": [
    "# END"
   ]
  }
 ],
 "metadata": {
  "kernelspec": {
   "display_name": "quetzal_env_8",
   "language": "python",
   "name": "quetzal_env_8"
  },
  "language_info": {
   "codemirror_mode": {
    "name": "ipython",
    "version": 3
   },
   "file_extension": ".py",
   "mimetype": "text/x-python",
   "name": "python",
   "nbconvert_exporter": "python",
   "pygments_lexer": "ipython3",
   "version": "3.8.12"
  }
 },
 "nbformat": 4,
 "nbformat_minor": 2
}

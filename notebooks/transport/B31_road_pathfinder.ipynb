{
 "cells": [
  {
   "attachments": {},
   "cell_type": "markdown",
   "metadata": {},
   "source": [
    "# Road Pathfinder with Capacity Contraints"
   ]
  },
  {
   "cell_type": "code",
   "execution_count": 1,
   "metadata": {},
   "outputs": [
    {
     "name": "stdout",
     "output_type": "stream",
     "text": [
      "PyTables is not installed. No support for HDF output.\n",
      "SQLalchemy is not installed. No support for SQL output.\n"
     ]
    }
   ],
   "source": [
    "import os\n",
    "import sys\n",
    "manual, scenario = (True, 'base') if 'ipykernel' in sys.argv[0] else (False, sys.argv[1])\n",
    "sys.path.insert(0, r'../../../quetzal')\n",
    "\n",
    "from quetzal.model import stepmodel"
   ]
  },
  {
   "cell_type": "code",
   "execution_count": 2,
   "metadata": {},
   "outputs": [],
   "source": [
    "is_lambda = (os.environ.get(\"AWS_LAMBDA_FUNCTION_NAME\") is not None)\n",
    "\n",
    "if is_lambda:\n",
    "    model_folder = 's3://quetzal-paris/dev'\n",
    "    training_folder = os.environ.get(\"LAMBDA_TASK_ROOT\")\n",
    "else:\n",
    "    model_folder = '../../model'\n",
    "    training_folder = '../..'\n",
    "    \n",
    "input_folder = training_folder + '/inputs/'"
   ]
  },
  {
   "cell_type": "markdown",
   "metadata": {},
   "source": [
    "## Road Model"
   ]
  },
  {
   "cell_type": "code",
   "execution_count": 3,
   "metadata": {},
   "outputs": [
    {
     "name": "stderr",
     "output_type": "stream",
     "text": [
      "zone_to_transit: 100%|██████████| 31/31 [00:01<00:00, 27.39it/s]   \n",
      "volumes: 100%|██████████| 3/3 [00:00<00:00, 1024.92it/s]\n"
     ]
    }
   ],
   "source": [
    "sm = stepmodel.read_zippedpickles(model_folder + '/{scen}/aon_pathfinder'.format(scen=scenario))\n",
    "\n",
    "distribution = stepmodel.read_zippedpickles(model_folder + '/{scen}/distribution'.format(scen=scenario))\n",
    "sm.volumes = distribution.volumes"
   ]
  },
  {
   "cell_type": "code",
   "execution_count": 4,
   "metadata": {
    "scrolled": false
   },
   "outputs": [],
   "source": [
    "# Each link can have its own capacity\n",
    "sm.road_links['capacity'] = 2000\n",
    "\n",
    "# Keep relevant OD\n",
    "v = sm.volumes.set_index(['origin', 'destination'])[\"car_owner\"]\n",
    "od_set = set(v.loc[v>1].index)"
   ]
  },
  {
   "cell_type": "markdown",
   "metadata": {},
   "source": [
    "# Iterative Road Patfinder"
   ]
  },
  {
   "cell_type": "code",
   "execution_count": 5,
   "metadata": {
    "scrolled": true
   },
   "outputs": [
    {
     "name": "stdout",
     "output_type": "stream",
     "text": [
      "vdf not found in road_links columns. Values set to 'default_bpr'\n",
      "alpha not found in road_links columns. Values set to 0.15\n",
      "beta not found in road_links columns. Values set to 4\n",
      "limit not found in road_links columns. Values set to 20\n",
      "penalty not found in road_links columns. Values set to 0\n",
      "iteration | Phi |  Rel Gap (%)\n",
      "0 0.1688 51.295\n",
      "1 0.1547 27.742\n",
      "2 0.1359 13.041\n",
      "3 0.1266 6.225\n",
      "4 0.1375 3.562\n",
      "5 0.1703 1.94\n",
      "6 0.4344 1.507\n",
      "7 0.8 0.701\n",
      "8 0.8 0.126\n",
      "9 0.8 0.027\n",
      "10 0.05 0.472\n",
      "11 0.2563 0.163\n",
      "12 0.1531 0.187\n",
      "13 0.0938 0.112\n",
      "14 0.1547 0.183\n",
      "15 0.1641 0.097\n",
      "16 0.4797 0.065\n",
      "17 0.5203 0.051\n",
      "18 0.8 0.029\n",
      "19 0.8 0.007\n"
     ]
    }
   ],
   "source": [
    "constrained = sm.copy()\n",
    "free = sm.copy()\n",
    "\n",
    "constrained.step_road_pathfinder(method='BFW',\n",
    "                             tolerance=0.01,\n",
    "                             maxiters=50,\n",
    "                             od_set=od_set,\n",
    "                             volume_column='car_owner',\n",
    "                             log=True,\n",
    "                             num_cores=4,\n",
    "                             access_time='time')"
   ]
  },
  {
   "cell_type": "code",
   "execution_count": 6,
   "metadata": {},
   "outputs": [
    {
     "name": "stderr",
     "output_type": "stream",
     "text": [
      "relgap: 100%|██████████| 33/33 [00:02<00:00, 13.21it/s]       \n"
     ]
    }
   ],
   "source": [
    "constrained.to_zippedpickles(model_folder + '/{scen}/constrained_road_pathfinder'.format(scen=scenario))"
   ]
  },
  {
   "cell_type": "markdown",
   "metadata": {},
   "source": [
    "# PLOT"
   ]
  },
  {
   "cell_type": "code",
   "execution_count": 7,
   "metadata": {},
   "outputs": [],
   "source": [
    "if manual:\n",
    "    constrained.analysis_car_los()\n",
    "    constrained.car_los[('car_owner', 'probability')] = 1\n",
    "    constrained.step_car_assignment(volume_column='car_owner')\n",
    "\n",
    "    free.analysis_car_los()\n",
    "    free.car_los[('car_owner', 'probability')] = 1\n",
    "    free.step_car_assignment(volume_column='car_owner')\n",
    "    free.road_links['flow'] = free.road_links[('car_owner', 'car')].fillna(0)"
   ]
  },
  {
   "cell_type": "code",
   "execution_count": 8,
   "metadata": {
    "collapsed": true
   },
   "outputs": [
    {
     "ename": "AttributeError",
     "evalue": "'LineCollection' object has no property 'scale'",
     "output_type": "error",
     "traceback": [
      "\u001b[1;31m---------------------------------------------------------------------------\u001b[0m",
      "\u001b[1;31mAttributeError\u001b[0m                            Traceback (most recent call last)",
      "\u001b[1;32mc:\\Users\\sfortin\\Documents\\Python\\quetzal\\quetzal_paris\\notebooks\\transport\\B31_road_pathfinder.ipynb Cell 12\u001b[0m in \u001b[0;36m<cell line: 1>\u001b[1;34m()\u001b[0m\n\u001b[0;32m     <a href='vscode-notebook-cell:/c%3A/Users/sfortin/Documents/Python/quetzal/quetzal_paris/notebooks/transport/B31_road_pathfinder.ipynb#X14sZmlsZQ%3D%3D?line=12'>13</a>\u001b[0m lv \u001b[39m=\u001b[39m [\u001b[39m100\u001b[39m, \u001b[39m1000\u001b[39m, \u001b[39m2000\u001b[39m, \u001b[39m5000\u001b[39m, \u001b[39m7000\u001b[39m]\n\u001b[0;32m     <a href='vscode-notebook-cell:/c%3A/Users/sfortin/Documents/Python/quetzal/quetzal_paris/notebooks/transport/B31_road_pathfinder.ipynb#X14sZmlsZQ%3D%3D?line=14'>15</a>\u001b[0m url \u001b[39m=\u001b[39m \u001b[39m'\u001b[39m\u001b[39mhttp://a.basemaps.cartocdn.com/dark_nolabels/tileZ/tileX/tileY.png\u001b[39m\u001b[39m'\u001b[39m\n\u001b[1;32m---> <a href='vscode-notebook-cell:/c%3A/Users/sfortin/Documents/Python/quetzal/quetzal_paris/notebooks/transport/B31_road_pathfinder.ipynb#X14sZmlsZQ%3D%3D?line=15'>16</a>\u001b[0m plot \u001b[39m=\u001b[39m bandwidth(\n\u001b[0;32m     <a href='vscode-notebook-cell:/c%3A/Users/sfortin/Documents/Python/quetzal/quetzal_paris/notebooks/transport/B31_road_pathfinder.ipynb#X14sZmlsZQ%3D%3D?line=16'>17</a>\u001b[0m     free\u001b[39m.\u001b[39;49mroad_links\u001b[39m.\u001b[39;49mloc[free\u001b[39m.\u001b[39;49mroad_links[\u001b[39m'\u001b[39;49m\u001b[39mflow\u001b[39;49m\u001b[39m'\u001b[39;49m] \u001b[39m>\u001b[39;49m \u001b[39m0\u001b[39;49m], value_column\u001b[39m=\u001b[39;49m\u001b[39m'\u001b[39;49m\u001b[39mflow\u001b[39;49m\u001b[39m'\u001b[39;49m,\n\u001b[0;32m     <a href='vscode-notebook-cell:/c%3A/Users/sfortin/Documents/Python/quetzal/quetzal_paris/notebooks/transport/B31_road_pathfinder.ipynb#X14sZmlsZQ%3D%3D?line=17'>18</a>\u001b[0m     power\u001b[39m=\u001b[39;49m\u001b[39m0.5\u001b[39;49m, figsize\u001b[39m=\u001b[39;49m[\u001b[39m25\u001b[39;49m, \u001b[39m15\u001b[39;49m], scale\u001b[39m=\u001b[39;49m\u001b[39m0.5\u001b[39;49m, legend_values\u001b[39m=\u001b[39;49mlv, \n\u001b[0;32m     <a href='vscode-notebook-cell:/c%3A/Users/sfortin/Documents/Python/quetzal/quetzal_paris/notebooks/transport/B31_road_pathfinder.ipynb#X14sZmlsZQ%3D%3D?line=18'>19</a>\u001b[0m     label_kwargs\u001b[39m=\u001b[39;49m{\u001b[39m'\u001b[39;49m\u001b[39mcolor\u001b[39;49m\u001b[39m'\u001b[39;49m:\u001b[39m'\u001b[39;49m\u001b[39mwhite\u001b[39;49m\u001b[39m'\u001b[39;49m, \u001b[39m'\u001b[39;49m\u001b[39mfontsize\u001b[39;49m\u001b[39m'\u001b[39;49m:\u001b[39m16\u001b[39;49m}, ax\u001b[39m=\u001b[39;49maxes[\u001b[39m0\u001b[39;49m]\n\u001b[0;32m     <a href='vscode-notebook-cell:/c%3A/Users/sfortin/Documents/Python/quetzal/quetzal_paris/notebooks/transport/B31_road_pathfinder.ipynb#X14sZmlsZQ%3D%3D?line=19'>20</a>\u001b[0m )\n\u001b[0;32m     <a href='vscode-notebook-cell:/c%3A/Users/sfortin/Documents/Python/quetzal/quetzal_paris/notebooks/transport/B31_road_pathfinder.ipynb#X14sZmlsZQ%3D%3D?line=20'>21</a>\u001b[0m dv\u001b[39m.\u001b[39madd_basemap(plot, url\u001b[39m=\u001b[39murl, zoom\u001b[39m=\u001b[39m\u001b[39m12\u001b[39m)\n\u001b[0;32m     <a href='vscode-notebook-cell:/c%3A/Users/sfortin/Documents/Python/quetzal/quetzal_paris/notebooks/transport/B31_road_pathfinder.ipynb#X14sZmlsZQ%3D%3D?line=21'>22</a>\u001b[0m plot\u001b[39m.\u001b[39mset_title(\u001b[39m\"\u001b[39m\u001b[39mFree assignment\u001b[39m\u001b[39m\"\u001b[39m)\n",
      "File \u001b[1;32mc:\\Users\\sfortin\\Documents\\Python\\quetzal\\quetzal_paris\\notebooks\\transport\\../../../quetzal\\syspy\\syspy_utils\\data_visualization.py:414\u001b[0m, in \u001b[0;36mbandwidth\u001b[1;34m(gdf, value_column, max_value, power, legend, legend_values, legend_length, label_column, max_linewidth_meters, variable_width, line_offset, cmap, geographical_bounds, label_kwargs, *args, **kwargs)\u001b[0m\n\u001b[0;32m    412\u001b[0m     label_column \u001b[39m=\u001b[39m \u001b[39m'\u001b[39m\u001b[39mlabel\u001b[39m\u001b[39m'\u001b[39m\n\u001b[0;32m    413\u001b[0m \u001b[39m# Create base plot\u001b[39;00m\n\u001b[1;32m--> 414\u001b[0m plot \u001b[39m=\u001b[39m base_plot(df, geographical_bounds, \u001b[39m*\u001b[39;49margs, \u001b[39m*\u001b[39;49m\u001b[39m*\u001b[39;49mkwargs)\n\u001b[0;32m    416\u001b[0m \u001b[39m# Handle legend\u001b[39;00m\n\u001b[0;32m    417\u001b[0m \u001b[39mif\u001b[39;00m legend:\n",
      "File \u001b[1;32mc:\\Users\\sfortin\\Documents\\Python\\quetzal\\quetzal_paris\\notebooks\\transport\\../../../quetzal\\syspy\\syspy_utils\\data_visualization.py:548\u001b[0m, in \u001b[0;36mbase_plot\u001b[1;34m(df, geographical_bounds, *args, **kwargs)\u001b[0m\n\u001b[0;32m    546\u001b[0m     plot\u001b[39m.\u001b[39mset_ylim(ymin \u001b[39m-\u001b[39m y_offset, ymax \u001b[39m+\u001b[39m y_offset)\n\u001b[0;32m    547\u001b[0m \u001b[39m# Light geometry plot\u001b[39;00m\n\u001b[1;32m--> 548\u001b[0m plot \u001b[39m=\u001b[39m gpd\u001b[39m.\u001b[39;49mGeoDataFrame(df)\u001b[39m.\u001b[39;49mplot(linewidth\u001b[39m=\u001b[39;49m\u001b[39m0.1\u001b[39;49m, color\u001b[39m=\u001b[39;49m\u001b[39m'\u001b[39;49m\u001b[39mgrey\u001b[39;49m\u001b[39m'\u001b[39;49m, \u001b[39m*\u001b[39;49margs, \u001b[39m*\u001b[39;49m\u001b[39m*\u001b[39;49mkwargs)\n\u001b[0;32m    549\u001b[0m \u001b[39m# Set bounds geographical bounds\u001b[39;00m\n\u001b[0;32m    550\u001b[0m \u001b[39mif\u001b[39;00m geographical_bounds \u001b[39mis\u001b[39;00m \u001b[39mnot\u001b[39;00m \u001b[39mNone\u001b[39;00m:\n",
      "File \u001b[1;32mc:\\Users\\sfortin\\Anaconda3\\envs\\quetzal_env\\lib\\site-packages\\geopandas\\plotting.py:950\u001b[0m, in \u001b[0;36mGeoplotAccessor.__call__\u001b[1;34m(self, *args, **kwargs)\u001b[0m\n\u001b[0;32m    948\u001b[0m kind \u001b[39m=\u001b[39m kwargs\u001b[39m.\u001b[39mpop(\u001b[39m\"\u001b[39m\u001b[39mkind\u001b[39m\u001b[39m\"\u001b[39m, \u001b[39m\"\u001b[39m\u001b[39mgeo\u001b[39m\u001b[39m\"\u001b[39m)\n\u001b[0;32m    949\u001b[0m \u001b[39mif\u001b[39;00m kind \u001b[39m==\u001b[39m \u001b[39m\"\u001b[39m\u001b[39mgeo\u001b[39m\u001b[39m\"\u001b[39m:\n\u001b[1;32m--> 950\u001b[0m     \u001b[39mreturn\u001b[39;00m plot_dataframe(data, \u001b[39m*\u001b[39;49margs, \u001b[39m*\u001b[39;49m\u001b[39m*\u001b[39;49mkwargs)\n\u001b[0;32m    951\u001b[0m \u001b[39mif\u001b[39;00m kind \u001b[39min\u001b[39;00m \u001b[39mself\u001b[39m\u001b[39m.\u001b[39m_pandas_kinds:\n\u001b[0;32m    952\u001b[0m     \u001b[39m# Access pandas plots\u001b[39;00m\n\u001b[0;32m    953\u001b[0m     \u001b[39mreturn\u001b[39;00m PlotAccessor(data)(kind\u001b[39m=\u001b[39mkind, \u001b[39m*\u001b[39m\u001b[39m*\u001b[39mkwargs)\n",
      "File \u001b[1;32mc:\\Users\\sfortin\\Anaconda3\\envs\\quetzal_env\\lib\\site-packages\\geopandas\\plotting.py:692\u001b[0m, in \u001b[0;36mplot_dataframe\u001b[1;34m(df, column, cmap, color, ax, cax, categorical, legend, scheme, k, vmin, vmax, markersize, figsize, legend_kwds, categories, classification_kwds, missing_kwds, aspect, **style_kwds)\u001b[0m\n\u001b[0;32m    689\u001b[0m     markersize \u001b[39m=\u001b[39m df[markersize]\u001b[39m.\u001b[39mvalues\n\u001b[0;32m    691\u001b[0m \u001b[39mif\u001b[39;00m column \u001b[39mis\u001b[39;00m \u001b[39mNone\u001b[39;00m:\n\u001b[1;32m--> 692\u001b[0m     \u001b[39mreturn\u001b[39;00m plot_series(\n\u001b[0;32m    693\u001b[0m         df\u001b[39m.\u001b[39;49mgeometry,\n\u001b[0;32m    694\u001b[0m         cmap\u001b[39m=\u001b[39;49mcmap,\n\u001b[0;32m    695\u001b[0m         color\u001b[39m=\u001b[39;49mcolor,\n\u001b[0;32m    696\u001b[0m         ax\u001b[39m=\u001b[39;49max,\n\u001b[0;32m    697\u001b[0m         figsize\u001b[39m=\u001b[39;49mfigsize,\n\u001b[0;32m    698\u001b[0m         markersize\u001b[39m=\u001b[39;49mmarkersize,\n\u001b[0;32m    699\u001b[0m         aspect\u001b[39m=\u001b[39;49maspect,\n\u001b[0;32m    700\u001b[0m         \u001b[39m*\u001b[39;49m\u001b[39m*\u001b[39;49mstyle_kwds,\n\u001b[0;32m    701\u001b[0m     )\n\u001b[0;32m    703\u001b[0m \u001b[39m# To accept pd.Series and np.arrays as column\u001b[39;00m\n\u001b[0;32m    704\u001b[0m \u001b[39mif\u001b[39;00m \u001b[39misinstance\u001b[39m(column, (np\u001b[39m.\u001b[39mndarray, pd\u001b[39m.\u001b[39mSeries)):\n",
      "File \u001b[1;32mc:\\Users\\sfortin\\Anaconda3\\envs\\quetzal_env\\lib\\site-packages\\geopandas\\plotting.py:458\u001b[0m, in \u001b[0;36mplot_series\u001b[1;34m(s, cmap, color, ax, figsize, aspect, **style_kwds)\u001b[0m\n\u001b[0;32m    456\u001b[0m \u001b[39mif\u001b[39;00m \u001b[39mnot\u001b[39;00m lines\u001b[39m.\u001b[39mempty:\n\u001b[0;32m    457\u001b[0m     values_ \u001b[39m=\u001b[39m values[line_idx] \u001b[39mif\u001b[39;00m cmap \u001b[39melse\u001b[39;00m \u001b[39mNone\u001b[39;00m\n\u001b[1;32m--> 458\u001b[0m     _plot_linestring_collection(\n\u001b[0;32m    459\u001b[0m         ax, lines, values_, color\u001b[39m=\u001b[39;49mcolor, cmap\u001b[39m=\u001b[39;49mcmap, \u001b[39m*\u001b[39;49m\u001b[39m*\u001b[39;49mstyle_kwds\n\u001b[0;32m    460\u001b[0m     )\n\u001b[0;32m    462\u001b[0m \u001b[39m# plot all Points in the same collection\u001b[39;00m\n\u001b[0;32m    463\u001b[0m points \u001b[39m=\u001b[39m expl_series[point_idx]\n",
      "File \u001b[1;32mc:\\Users\\sfortin\\Anaconda3\\envs\\quetzal_env\\lib\\site-packages\\geopandas\\plotting.py:234\u001b[0m, in \u001b[0;36m_plot_linestring_collection\u001b[1;34m(ax, geoms, values, color, cmap, vmin, vmax, **kwargs)\u001b[0m\n\u001b[0;32m    231\u001b[0m _expand_kwargs(kwargs, multiindex)\n\u001b[0;32m    233\u001b[0m segments \u001b[39m=\u001b[39m [np\u001b[39m.\u001b[39marray(linestring\u001b[39m.\u001b[39mcoords)[:, :\u001b[39m2\u001b[39m] \u001b[39mfor\u001b[39;00m linestring \u001b[39min\u001b[39;00m geoms]\n\u001b[1;32m--> 234\u001b[0m collection \u001b[39m=\u001b[39m LineCollection(segments, \u001b[39m*\u001b[39;49m\u001b[39m*\u001b[39;49mkwargs)\n\u001b[0;32m    236\u001b[0m \u001b[39mif\u001b[39;00m values \u001b[39mis\u001b[39;00m \u001b[39mnot\u001b[39;00m \u001b[39mNone\u001b[39;00m:\n\u001b[0;32m    237\u001b[0m     collection\u001b[39m.\u001b[39mset_array(np\u001b[39m.\u001b[39masarray(values))\n",
      "File \u001b[1;32mc:\\Users\\sfortin\\Anaconda3\\envs\\quetzal_env\\lib\\site-packages\\matplotlib\\collections.py:1442\u001b[0m, in \u001b[0;36mLineCollection.__init__\u001b[1;34m(self, segments, zorder, *args, **kwargs)\u001b[0m\n\u001b[0;32m   1440\u001b[0m \u001b[39m# Unfortunately, mplot3d needs this explicit setting of 'facecolors'.\u001b[39;00m\n\u001b[0;32m   1441\u001b[0m kwargs\u001b[39m.\u001b[39msetdefault(\u001b[39m'\u001b[39m\u001b[39mfacecolors\u001b[39m\u001b[39m'\u001b[39m, \u001b[39m'\u001b[39m\u001b[39mnone\u001b[39m\u001b[39m'\u001b[39m)\n\u001b[1;32m-> 1442\u001b[0m \u001b[39msuper\u001b[39;49m()\u001b[39m.\u001b[39;49m\u001b[39m__init__\u001b[39;49m(\n\u001b[0;32m   1443\u001b[0m     zorder\u001b[39m=\u001b[39;49mzorder,\n\u001b[0;32m   1444\u001b[0m     \u001b[39m*\u001b[39;49m\u001b[39m*\u001b[39;49mkwargs)\n\u001b[0;32m   1445\u001b[0m \u001b[39mself\u001b[39m\u001b[39m.\u001b[39mset_segments(segments)\n",
      "File \u001b[1;32mc:\\Users\\sfortin\\Anaconda3\\envs\\quetzal_env\\lib\\site-packages\\matplotlib\\collections.py:217\u001b[0m, in \u001b[0;36mCollection.__init__\u001b[1;34m(self, edgecolors, facecolors, linewidths, linestyles, capstyle, joinstyle, antialiaseds, offsets, transOffset, norm, cmap, pickradius, hatch, urls, zorder, **kwargs)\u001b[0m\n\u001b[0;32m    214\u001b[0m \u001b[39mself\u001b[39m\u001b[39m.\u001b[39m_transOffset \u001b[39m=\u001b[39m transOffset\n\u001b[0;32m    216\u001b[0m \u001b[39mself\u001b[39m\u001b[39m.\u001b[39m_path_effects \u001b[39m=\u001b[39m \u001b[39mNone\u001b[39;00m\n\u001b[1;32m--> 217\u001b[0m \u001b[39mself\u001b[39;49m\u001b[39m.\u001b[39;49mupdate(kwargs)\n\u001b[0;32m    218\u001b[0m \u001b[39mself\u001b[39m\u001b[39m.\u001b[39m_paths \u001b[39m=\u001b[39m \u001b[39mNone\u001b[39;00m\n",
      "File \u001b[1;32mc:\\Users\\sfortin\\Anaconda3\\envs\\quetzal_env\\lib\\site-packages\\matplotlib\\artist.py:1064\u001b[0m, in \u001b[0;36mArtist.update\u001b[1;34m(self, props)\u001b[0m\n\u001b[0;32m   1062\u001b[0m             func \u001b[39m=\u001b[39m \u001b[39mgetattr\u001b[39m(\u001b[39mself\u001b[39m, \u001b[39mf\u001b[39m\u001b[39m\"\u001b[39m\u001b[39mset_\u001b[39m\u001b[39m{\u001b[39;00mk\u001b[39m}\u001b[39;00m\u001b[39m\"\u001b[39m, \u001b[39mNone\u001b[39;00m)\n\u001b[0;32m   1063\u001b[0m             \u001b[39mif\u001b[39;00m \u001b[39mnot\u001b[39;00m callable(func):\n\u001b[1;32m-> 1064\u001b[0m                 \u001b[39mraise\u001b[39;00m \u001b[39mAttributeError\u001b[39;00m(\u001b[39mf\u001b[39m\u001b[39m\"\u001b[39m\u001b[39m{\u001b[39;00m\u001b[39mtype\u001b[39m(\u001b[39mself\u001b[39m)\u001b[39m.\u001b[39m\u001b[39m__name__\u001b[39m\u001b[39m!r}\u001b[39;00m\u001b[39m object \u001b[39m\u001b[39m\"\u001b[39m\n\u001b[0;32m   1065\u001b[0m                                      \u001b[39mf\u001b[39m\u001b[39m\"\u001b[39m\u001b[39mhas no property \u001b[39m\u001b[39m{\u001b[39;00mk\u001b[39m!r}\u001b[39;00m\u001b[39m\"\u001b[39m)\n\u001b[0;32m   1066\u001b[0m             ret\u001b[39m.\u001b[39mappend(func(v))\n\u001b[0;32m   1067\u001b[0m \u001b[39mif\u001b[39;00m ret:\n",
      "\u001b[1;31mAttributeError\u001b[0m: 'LineCollection' object has no property 'scale'"
     ]
    },
    {
     "data": {
      "image/png": "[encoded data removed]",
      "text/plain": [
       "<Figure size 1440x1440 with 2 Axes>"
      ]
     },
     "metadata": {
      "needs_background": "light"
     },
     "output_type": "display_data"
    }
   ],
   "source": [
    "if manual:\n",
    "    import matplotlib.pyplot as plt\n",
    "\n",
    "    free.car_los = free.car_los.set_index(['origin', 'destination']).loc[od_set].reset_index()\n",
    "    fig, axes = plt.subplots(ncols=2, sharey=True, sharex=True, figsize=[20, 20])\n",
    "\n",
    "    axes[0].set_aspect('equal')\n",
    "    axes[1].set_aspect('equal')\n",
    "\n",
    "    from syspy.syspy_utils import data_visualization as dv\n",
    "    bandwidth = dv.bandwidth\n",
    "    power=0.5\n",
    "    lv = [100, 1000, 2000, 5000, 7000]\n",
    "\n",
    "    url = 'http://a.basemaps.cartocdn.com/dark_nolabels/tileZ/tileX/tileY.png'\n",
    "    plot = bandwidth(\n",
    "        free.road_links.loc[free.road_links['flow'] > 0], value_column='flow',\n",
    "        power=0.5, figsize=[25, 15], scale=0.5, legend_values=lv, \n",
    "        label_kwargs={'color':'white', 'fontsize':16}, ax=axes[0]\n",
    "    )\n",
    "    dv.add_basemap(plot, url=url, zoom=12)\n",
    "    plot.set_title(\"Free assignment\")\n",
    "\n",
    "    plot = bandwidth(\n",
    "        constrained.road_links.loc[constrained.road_links['flow'] > 0], value_column='flow',\n",
    "        power=0.5, figsize=[25, 15], scale=0.5, legend_values=lv, \n",
    "        label_kwargs={'color':'white', 'fontsize':16}, ax=axes[1]\n",
    "    )\n",
    "    dv.add_basemap(plot, url=url, zoom=12)\n",
    "    plot.set_title(\"Constrained assignment\")\n",
    "    fig.tigh_layout=True"
   ]
  },
  {
   "cell_type": "code",
   "execution_count": null,
   "metadata": {},
   "outputs": [],
   "source": [
    "if manual:\n",
    "    c = constrained.car_los.groupby(['origin', 'destination'])['actual_time'].min()\n",
    "    f = free.car_los.groupby(['origin', 'destination'])['actual_time'].min()\n",
    "    df = pd.DataFrame([c, f], index=['constrained', 'free']).T\n",
    "    df.plot(kind='scatter', y='constrained', x='free', figsize=[10, 10], s=1)"
   ]
  }
 ],
 "metadata": {
  "kernelspec": {
   "display_name": "quetzal_env",
   "language": "python",
   "name": "python3"
  },
  "language_info": {
   "codemirror_mode": {
    "name": "ipython",
    "version": 3
   },
   "file_extension": ".py",
   "mimetype": "text/x-python",
   "name": "python",
   "nbconvert_exporter": "python",
   "pygments_lexer": "ipython3",
   "version": "3.8.13"
  },
  "vscode": {
   "interpreter": {
    "hash": "e8945c57e5ba43cf89e83a820f2bd8af23fdb2ecafc1a478bc922d175eee4ee0"
   }
  }
 },
 "nbformat": 4,
 "nbformat_minor": 2
}

{
 "cells": [
  {
   "attachments": {},
   "cell_type": "markdown",
   "metadata": {},
   "source": [
    "# Road Pathfinder with Capacity Contraints"
   ]
  },
  {
   "cell_type": "code",
   "execution_count": 1,
   "metadata": {},
   "outputs": [
    {
     "name": "stdout",
     "output_type": "stream",
     "text": [
      "SQLalchemy is not installed. No support for SQL output.\n"
     ]
    }
   ],
   "source": [
    "import os\n",
    "import sys\n",
    "manual, scenario = (True, 'base') if 'ipykernel' in sys.argv[0] else (False, sys.argv[1])\n",
    "sys.path.insert(0, r'../../../quetzal')\n",
    "\n",
    "from quetzal.model import stepmodel"
   ]
  },
  {
   "cell_type": "code",
   "execution_count": 2,
   "metadata": {},
   "outputs": [],
   "source": [
    "is_lambda = (os.environ.get(\"AWS_LAMBDA_FUNCTION_NAME\") is not None)\n",
    "\n",
    "if is_lambda:\n",
    "    model_folder = 's3://quetzal-paris/dev'\n",
    "    training_folder = os.environ.get(\"LAMBDA_TASK_ROOT\")\n",
    "else:\n",
    "    model_folder = '../../model'\n",
    "    training_folder = '../..'\n",
    "    \n",
    "input_folder = training_folder + '/inputs/'"
   ]
  },
  {
   "cell_type": "markdown",
   "metadata": {},
   "source": [
    "## Road Model"
   ]
  },
  {
   "cell_type": "code",
   "execution_count": 3,
   "metadata": {},
   "outputs": [
    {
     "name": "stderr",
     "output_type": "stream",
     "text": [
      "node_clusters: 100%|██████████| 31/31 [00:00<00:00, 49.25it/s]\n",
      "coordinates_unit: 100%|██████████| 3/3 [00:00<00:00, 1035.89it/s]\n"
     ]
    }
   ],
   "source": [
    "sm = stepmodel.read_zippedpickles(model_folder + '/{scen}/aon_pathfinder'.format(scen=scenario))\n",
    "\n",
    "distribution = stepmodel.read_zippedpickles(model_folder + '/{scen}/distribution'.format(scen=scenario))\n",
    "sm.volumes = distribution.volumes"
   ]
  },
  {
   "cell_type": "code",
   "execution_count": 4,
   "metadata": {
    "scrolled": false
   },
   "outputs": [],
   "source": [
    "# Each link can have its own capacity\n",
    "sm.road_links['capacity'] = 2000\n",
    "\n",
    "# Keep relevant OD\n",
    "v = sm.volumes.set_index(['origin', 'destination'])[\"car_owner\"]\n",
    "od_set = set(v.loc[v>1].index)"
   ]
  },
  {
   "cell_type": "markdown",
   "metadata": {},
   "source": [
    "# Iterative Road Patfinder"
   ]
  },
  {
   "cell_type": "code",
   "execution_count": 5,
   "metadata": {
    "scrolled": true
   },
   "outputs": [
    {
     "name": "stdout",
     "output_type": "stream",
     "text": [
      "vdf not found in road_links columns. Values set to 'default_bpr'\n",
      "alpha not found in road_links columns. Values set to 0.15\n",
      "beta not found in road_links columns. Values set to 4\n",
      "limit not found in road_links columns. Values set to 20\n",
      "penalty not found in road_links columns. Values set to 0\n",
      "iteration | Phi |  Rel Gap (%)\n",
      "0 0.1609 35.593\n",
      "1 0.15 17.074\n",
      "2 0.1422 7.554\n",
      "3 0.1422 3.436\n",
      "4 0.2 1.706\n",
      "5 0.5047 0.875\n",
      "6 0.7484 0.459\n",
      "7 0.8 0.125\n",
      "8 0.8 0.02\n",
      "9 0.0984 0.346\n",
      "10 0.8 0.09\n",
      "11 0.8 0.023\n",
      "12 0.8 0.006\n"
     ]
    }
   ],
   "source": [
    "constrained = sm.copy()\n",
    "free = sm.copy()\n",
    "\n",
    "constrained.step_road_pathfinder(method='BFW',\n",
    "                             tolerance=0.01,\n",
    "                             maxiters=50,\n",
    "                             od_set=od_set,\n",
    "                             volume_column='car_owner',\n",
    "                             log=True,\n",
    "                             num_cores=1,\n",
    "                             access_time='time')"
   ]
  },
  {
   "cell_type": "code",
   "execution_count": 6,
   "metadata": {},
   "outputs": [
    {
     "name": "stderr",
     "output_type": "stream",
     "text": [
      "relgap: 100%|██████████| 33/33 [00:01<00:00, 25.23it/s]                 \n"
     ]
    }
   ],
   "source": [
    "constrained.to_zippedpickles(model_folder + '/{scen}/constrained_road_pathfinder'.format(scen=scenario))"
   ]
  },
  {
   "cell_type": "markdown",
   "metadata": {},
   "source": [
    "# PLOT"
   ]
  },
  {
   "cell_type": "code",
   "execution_count": 7,
   "metadata": {},
   "outputs": [],
   "source": [
    "if manual:\n",
    "    constrained.analysis_car_los()\n",
    "    constrained.car_los[('car_owner', 'probability')] = 1\n",
    "    constrained.step_car_assignment(volume_column='car_owner')\n",
    "\n",
    "    free.analysis_car_los()\n",
    "    free.car_los[('car_owner', 'probability')] = 1\n",
    "    free.step_car_assignment(volume_column='car_owner')\n",
    "    free.road_links['flow'] = free.road_links[('car_owner', 'car')].fillna(0)"
   ]
  },
  {
   "cell_type": "code",
   "execution_count": 8,
   "metadata": {
    "collapsed": true
   },
   "outputs": [
    {
     "ename": "AttributeError",
     "evalue": "LineCollection.set() got an unexpected keyword argument 'scale'",
     "output_type": "error",
     "traceback": [
      "\u001b[0;31m---------------------------------------------------------------------------\u001b[0m",
      "\u001b[0;31mAttributeError\u001b[0m                            Traceback (most recent call last)",
      "Cell \u001b[0;32mIn[8], line 16\u001b[0m\n\u001b[1;32m     13\u001b[0m lv \u001b[39m=\u001b[39m [\u001b[39m100\u001b[39m, \u001b[39m1000\u001b[39m, \u001b[39m2000\u001b[39m, \u001b[39m5000\u001b[39m, \u001b[39m7000\u001b[39m]\n\u001b[1;32m     15\u001b[0m url \u001b[39m=\u001b[39m \u001b[39m'\u001b[39m\u001b[39mhttp://a.basemaps.cartocdn.com/dark_nolabels/tileZ/tileX/tileY.png\u001b[39m\u001b[39m'\u001b[39m\n\u001b[0;32m---> 16\u001b[0m plot \u001b[39m=\u001b[39m bandwidth(\n\u001b[1;32m     17\u001b[0m     free\u001b[39m.\u001b[39;49mroad_links\u001b[39m.\u001b[39;49mloc[free\u001b[39m.\u001b[39;49mroad_links[\u001b[39m'\u001b[39;49m\u001b[39mflow\u001b[39;49m\u001b[39m'\u001b[39;49m] \u001b[39m>\u001b[39;49m \u001b[39m0\u001b[39;49m], value_column\u001b[39m=\u001b[39;49m\u001b[39m'\u001b[39;49m\u001b[39mflow\u001b[39;49m\u001b[39m'\u001b[39;49m,\n\u001b[1;32m     18\u001b[0m     power\u001b[39m=\u001b[39;49m\u001b[39m0.5\u001b[39;49m, figsize\u001b[39m=\u001b[39;49m[\u001b[39m25\u001b[39;49m, \u001b[39m15\u001b[39;49m], scale\u001b[39m=\u001b[39;49m\u001b[39m0.5\u001b[39;49m, legend_values\u001b[39m=\u001b[39;49mlv, \n\u001b[1;32m     19\u001b[0m     label_kwargs\u001b[39m=\u001b[39;49m{\u001b[39m'\u001b[39;49m\u001b[39mcolor\u001b[39;49m\u001b[39m'\u001b[39;49m:\u001b[39m'\u001b[39;49m\u001b[39mwhite\u001b[39;49m\u001b[39m'\u001b[39;49m, \u001b[39m'\u001b[39;49m\u001b[39mfontsize\u001b[39;49m\u001b[39m'\u001b[39;49m:\u001b[39m16\u001b[39;49m}, ax\u001b[39m=\u001b[39;49maxes[\u001b[39m0\u001b[39;49m]\n\u001b[1;32m     20\u001b[0m )\n\u001b[1;32m     21\u001b[0m dv\u001b[39m.\u001b[39madd_basemap(plot, url\u001b[39m=\u001b[39murl, zoom\u001b[39m=\u001b[39m\u001b[39m12\u001b[39m)\n\u001b[1;32m     22\u001b[0m plot\u001b[39m.\u001b[39mset_title(\u001b[39m\"\u001b[39m\u001b[39mFree assignment\u001b[39m\u001b[39m\"\u001b[39m)\n",
      "File \u001b[0;32m~/dev/quetzal/quetzal_paris/notebooks/transport/../../../quetzal/syspy/syspy_utils/data_visualization.py:414\u001b[0m, in \u001b[0;36mbandwidth\u001b[0;34m(gdf, value_column, max_value, power, legend, legend_values, legend_length, label_column, max_linewidth_meters, variable_width, line_offset, cmap, geographical_bounds, label_kwargs, *args, **kwargs)\u001b[0m\n\u001b[1;32m    412\u001b[0m     label_column \u001b[39m=\u001b[39m \u001b[39m'\u001b[39m\u001b[39mlabel\u001b[39m\u001b[39m'\u001b[39m\n\u001b[1;32m    413\u001b[0m \u001b[39m# Create base plot\u001b[39;00m\n\u001b[0;32m--> 414\u001b[0m plot \u001b[39m=\u001b[39m base_plot(df, geographical_bounds, \u001b[39m*\u001b[39;49margs, \u001b[39m*\u001b[39;49m\u001b[39m*\u001b[39;49mkwargs)\n\u001b[1;32m    416\u001b[0m \u001b[39m# Handle legend\u001b[39;00m\n\u001b[1;32m    417\u001b[0m \u001b[39mif\u001b[39;00m legend:\n",
      "File \u001b[0;32m~/dev/quetzal/quetzal_paris/notebooks/transport/../../../quetzal/syspy/syspy_utils/data_visualization.py:548\u001b[0m, in \u001b[0;36mbase_plot\u001b[0;34m(df, geographical_bounds, *args, **kwargs)\u001b[0m\n\u001b[1;32m    546\u001b[0m     plot\u001b[39m.\u001b[39mset_ylim(ymin \u001b[39m-\u001b[39m y_offset, ymax \u001b[39m+\u001b[39m y_offset)\n\u001b[1;32m    547\u001b[0m \u001b[39m# Light geometry plot\u001b[39;00m\n\u001b[0;32m--> 548\u001b[0m plot \u001b[39m=\u001b[39m gpd\u001b[39m.\u001b[39;49mGeoDataFrame(df)\u001b[39m.\u001b[39;49mplot(linewidth\u001b[39m=\u001b[39;49m\u001b[39m0.1\u001b[39;49m, color\u001b[39m=\u001b[39;49m\u001b[39m'\u001b[39;49m\u001b[39mgrey\u001b[39;49m\u001b[39m'\u001b[39;49m, \u001b[39m*\u001b[39;49margs, \u001b[39m*\u001b[39;49m\u001b[39m*\u001b[39;49mkwargs)\n\u001b[1;32m    549\u001b[0m \u001b[39m# Set bounds geographical bounds\u001b[39;00m\n\u001b[1;32m    550\u001b[0m \u001b[39mif\u001b[39;00m geographical_bounds \u001b[39mis\u001b[39;00m \u001b[39mnot\u001b[39;00m \u001b[39mNone\u001b[39;00m:\n",
      "File \u001b[0;32m~/.virtualenvs/quetzal_env/lib/python3.8/site-packages/geopandas/plotting.py:968\u001b[0m, in \u001b[0;36mGeoplotAccessor.__call__\u001b[0;34m(self, *args, **kwargs)\u001b[0m\n\u001b[1;32m    966\u001b[0m kind \u001b[39m=\u001b[39m kwargs\u001b[39m.\u001b[39mpop(\u001b[39m\"\u001b[39m\u001b[39mkind\u001b[39m\u001b[39m\"\u001b[39m, \u001b[39m\"\u001b[39m\u001b[39mgeo\u001b[39m\u001b[39m\"\u001b[39m)\n\u001b[1;32m    967\u001b[0m \u001b[39mif\u001b[39;00m kind \u001b[39m==\u001b[39m \u001b[39m\"\u001b[39m\u001b[39mgeo\u001b[39m\u001b[39m\"\u001b[39m:\n\u001b[0;32m--> 968\u001b[0m     \u001b[39mreturn\u001b[39;00m plot_dataframe(data, \u001b[39m*\u001b[39;49margs, \u001b[39m*\u001b[39;49m\u001b[39m*\u001b[39;49mkwargs)\n\u001b[1;32m    969\u001b[0m \u001b[39mif\u001b[39;00m kind \u001b[39min\u001b[39;00m \u001b[39mself\u001b[39m\u001b[39m.\u001b[39m_pandas_kinds:\n\u001b[1;32m    970\u001b[0m     \u001b[39m# Access pandas plots\u001b[39;00m\n\u001b[1;32m    971\u001b[0m     \u001b[39mreturn\u001b[39;00m PlotAccessor(data)(kind\u001b[39m=\u001b[39mkind, \u001b[39m*\u001b[39m\u001b[39m*\u001b[39mkwargs)\n",
      "File \u001b[0;32m~/.virtualenvs/quetzal_env/lib/python3.8/site-packages/geopandas/plotting.py:704\u001b[0m, in \u001b[0;36mplot_dataframe\u001b[0;34m(df, column, cmap, color, ax, cax, categorical, legend, scheme, k, vmin, vmax, markersize, figsize, legend_kwds, categories, classification_kwds, missing_kwds, aspect, **style_kwds)\u001b[0m\n\u001b[1;32m    701\u001b[0m     markersize \u001b[39m=\u001b[39m df[markersize]\u001b[39m.\u001b[39mvalues\n\u001b[1;32m    703\u001b[0m \u001b[39mif\u001b[39;00m column \u001b[39mis\u001b[39;00m \u001b[39mNone\u001b[39;00m:\n\u001b[0;32m--> 704\u001b[0m     \u001b[39mreturn\u001b[39;00m plot_series(\n\u001b[1;32m    705\u001b[0m         df\u001b[39m.\u001b[39;49mgeometry,\n\u001b[1;32m    706\u001b[0m         cmap\u001b[39m=\u001b[39;49mcmap,\n\u001b[1;32m    707\u001b[0m         color\u001b[39m=\u001b[39;49mcolor,\n\u001b[1;32m    708\u001b[0m         ax\u001b[39m=\u001b[39;49max,\n\u001b[1;32m    709\u001b[0m         figsize\u001b[39m=\u001b[39;49mfigsize,\n\u001b[1;32m    710\u001b[0m         markersize\u001b[39m=\u001b[39;49mmarkersize,\n\u001b[1;32m    711\u001b[0m         aspect\u001b[39m=\u001b[39;49maspect,\n\u001b[1;32m    712\u001b[0m         \u001b[39m*\u001b[39;49m\u001b[39m*\u001b[39;49mstyle_kwds,\n\u001b[1;32m    713\u001b[0m     )\n\u001b[1;32m    715\u001b[0m \u001b[39m# To accept pd.Series and np.arrays as column\u001b[39;00m\n\u001b[1;32m    716\u001b[0m \u001b[39mif\u001b[39;00m \u001b[39misinstance\u001b[39m(column, (np\u001b[39m.\u001b[39mndarray, pd\u001b[39m.\u001b[39mSeries)):\n",
      "File \u001b[0;32m~/.virtualenvs/quetzal_env/lib/python3.8/site-packages/geopandas/plotting.py:468\u001b[0m, in \u001b[0;36mplot_series\u001b[0;34m(s, cmap, color, ax, figsize, aspect, **style_kwds)\u001b[0m\n\u001b[1;32m    465\u001b[0m     values_ \u001b[39m=\u001b[39m values[line_idx] \u001b[39mif\u001b[39;00m cmap \u001b[39melse\u001b[39;00m \u001b[39mNone\u001b[39;00m\n\u001b[1;32m    466\u001b[0m     color_ \u001b[39m=\u001b[39m expl_color[line_idx] \u001b[39mif\u001b[39;00m color_given \u001b[39melse\u001b[39;00m color\n\u001b[0;32m--> 468\u001b[0m     _plot_linestring_collection(\n\u001b[1;32m    469\u001b[0m         ax, lines, values_, color\u001b[39m=\u001b[39;49mcolor_, cmap\u001b[39m=\u001b[39;49mcmap, \u001b[39m*\u001b[39;49m\u001b[39m*\u001b[39;49mstyle_kwds\n\u001b[1;32m    470\u001b[0m     )\n\u001b[1;32m    472\u001b[0m \u001b[39m# plot all Points in the same collection\u001b[39;00m\n\u001b[1;32m    473\u001b[0m points \u001b[39m=\u001b[39m expl_series[point_idx]\n",
      "File \u001b[0;32m~/.virtualenvs/quetzal_env/lib/python3.8/site-packages/geopandas/plotting.py:234\u001b[0m, in \u001b[0;36m_plot_linestring_collection\u001b[0;34m(ax, geoms, values, color, cmap, vmin, vmax, **kwargs)\u001b[0m\n\u001b[1;32m    231\u001b[0m _expand_kwargs(kwargs, multiindex)\n\u001b[1;32m    233\u001b[0m segments \u001b[39m=\u001b[39m [np\u001b[39m.\u001b[39marray(linestring\u001b[39m.\u001b[39mcoords)[:, :\u001b[39m2\u001b[39m] \u001b[39mfor\u001b[39;00m linestring \u001b[39min\u001b[39;00m geoms]\n\u001b[0;32m--> 234\u001b[0m collection \u001b[39m=\u001b[39m LineCollection(segments, \u001b[39m*\u001b[39;49m\u001b[39m*\u001b[39;49mkwargs)\n\u001b[1;32m    236\u001b[0m \u001b[39mif\u001b[39;00m values \u001b[39mis\u001b[39;00m \u001b[39mnot\u001b[39;00m \u001b[39mNone\u001b[39;00m:\n\u001b[1;32m    237\u001b[0m     collection\u001b[39m.\u001b[39mset_array(np\u001b[39m.\u001b[39masarray(values))\n",
      "File \u001b[0;32m~/.virtualenvs/quetzal_env/lib/python3.8/site-packages/matplotlib/collections.py:1409\u001b[0m, in \u001b[0;36mLineCollection.__init__\u001b[0;34m(self, segments, zorder, **kwargs)\u001b[0m\n\u001b[1;32m   1407\u001b[0m \u001b[39m# Unfortunately, mplot3d needs this explicit setting of 'facecolors'.\u001b[39;00m\n\u001b[1;32m   1408\u001b[0m kwargs\u001b[39m.\u001b[39msetdefault(\u001b[39m'\u001b[39m\u001b[39mfacecolors\u001b[39m\u001b[39m'\u001b[39m, \u001b[39m'\u001b[39m\u001b[39mnone\u001b[39m\u001b[39m'\u001b[39m)\n\u001b[0;32m-> 1409\u001b[0m \u001b[39msuper\u001b[39;49m()\u001b[39m.\u001b[39;49m\u001b[39m__init__\u001b[39;49m(\n\u001b[1;32m   1410\u001b[0m     zorder\u001b[39m=\u001b[39;49mzorder,\n\u001b[1;32m   1411\u001b[0m     \u001b[39m*\u001b[39;49m\u001b[39m*\u001b[39;49mkwargs)\n\u001b[1;32m   1412\u001b[0m \u001b[39mself\u001b[39m\u001b[39m.\u001b[39mset_segments(segments)\n",
      "File \u001b[0;32m~/.virtualenvs/quetzal_env/lib/python3.8/site-packages/matplotlib/_api/deprecation.py:454\u001b[0m, in \u001b[0;36mmake_keyword_only.<locals>.wrapper\u001b[0;34m(*args, **kwargs)\u001b[0m\n\u001b[1;32m    448\u001b[0m \u001b[39mif\u001b[39;00m \u001b[39mlen\u001b[39m(args) \u001b[39m>\u001b[39m name_idx:\n\u001b[1;32m    449\u001b[0m     warn_deprecated(\n\u001b[1;32m    450\u001b[0m         since, message\u001b[39m=\u001b[39m\u001b[39m\"\u001b[39m\u001b[39mPassing the \u001b[39m\u001b[39m%(name)s\u001b[39;00m\u001b[39m \u001b[39m\u001b[39m%(obj_type)s\u001b[39;00m\u001b[39m \u001b[39m\u001b[39m\"\u001b[39m\n\u001b[1;32m    451\u001b[0m         \u001b[39m\"\u001b[39m\u001b[39mpositionally is deprecated since Matplotlib \u001b[39m\u001b[39m%(since)s\u001b[39;00m\u001b[39m; the \u001b[39m\u001b[39m\"\u001b[39m\n\u001b[1;32m    452\u001b[0m         \u001b[39m\"\u001b[39m\u001b[39mparameter will become keyword-only \u001b[39m\u001b[39m%(removal)s\u001b[39;00m\u001b[39m.\u001b[39m\u001b[39m\"\u001b[39m,\n\u001b[1;32m    453\u001b[0m         name\u001b[39m=\u001b[39mname, obj_type\u001b[39m=\u001b[39m\u001b[39mf\u001b[39m\u001b[39m\"\u001b[39m\u001b[39mparameter of \u001b[39m\u001b[39m{\u001b[39;00mfunc\u001b[39m.\u001b[39m\u001b[39m__name__\u001b[39m\u001b[39m}\u001b[39;00m\u001b[39m()\u001b[39m\u001b[39m\"\u001b[39m)\n\u001b[0;32m--> 454\u001b[0m \u001b[39mreturn\u001b[39;00m func(\u001b[39m*\u001b[39;49margs, \u001b[39m*\u001b[39;49m\u001b[39m*\u001b[39;49mkwargs)\n",
      "File \u001b[0;32m~/.virtualenvs/quetzal_env/lib/python3.8/site-packages/matplotlib/collections.py:201\u001b[0m, in \u001b[0;36mCollection.__init__\u001b[0;34m(self, edgecolors, facecolors, linewidths, linestyles, capstyle, joinstyle, antialiaseds, offsets, offset_transform, norm, cmap, pickradius, hatch, urls, zorder, **kwargs)\u001b[0m\n\u001b[1;32m    198\u001b[0m \u001b[39mself\u001b[39m\u001b[39m.\u001b[39m_offset_transform \u001b[39m=\u001b[39m offset_transform\n\u001b[1;32m    200\u001b[0m \u001b[39mself\u001b[39m\u001b[39m.\u001b[39m_path_effects \u001b[39m=\u001b[39m \u001b[39mNone\u001b[39;00m\n\u001b[0;32m--> 201\u001b[0m \u001b[39mself\u001b[39;49m\u001b[39m.\u001b[39;49m_internal_update(kwargs)\n\u001b[1;32m    202\u001b[0m \u001b[39mself\u001b[39m\u001b[39m.\u001b[39m_paths \u001b[39m=\u001b[39m \u001b[39mNone\u001b[39;00m\n",
      "File \u001b[0;32m~/.virtualenvs/quetzal_env/lib/python3.8/site-packages/matplotlib/artist.py:1223\u001b[0m, in \u001b[0;36mArtist._internal_update\u001b[0;34m(self, kwargs)\u001b[0m\n\u001b[1;32m   1216\u001b[0m \u001b[39mdef\u001b[39;00m \u001b[39m_internal_update\u001b[39m(\u001b[39mself\u001b[39m, kwargs):\n\u001b[1;32m   1217\u001b[0m \u001b[39m    \u001b[39m\u001b[39m\"\"\"\u001b[39;00m\n\u001b[1;32m   1218\u001b[0m \u001b[39m    Update artist properties without prenormalizing them, but generating\u001b[39;00m\n\u001b[1;32m   1219\u001b[0m \u001b[39m    errors as if calling `set`.\u001b[39;00m\n\u001b[1;32m   1220\u001b[0m \n\u001b[1;32m   1221\u001b[0m \u001b[39m    The lack of prenormalization is to maintain backcompatibility.\u001b[39;00m\n\u001b[1;32m   1222\u001b[0m \u001b[39m    \"\"\"\u001b[39;00m\n\u001b[0;32m-> 1223\u001b[0m     \u001b[39mreturn\u001b[39;00m \u001b[39mself\u001b[39;49m\u001b[39m.\u001b[39;49m_update_props(\n\u001b[1;32m   1224\u001b[0m         kwargs, \u001b[39m\"\u001b[39;49m\u001b[39m{cls.__name__}\u001b[39;49;00m\u001b[39m.set() got an unexpected keyword argument \u001b[39;49m\u001b[39m\"\u001b[39;49m\n\u001b[1;32m   1225\u001b[0m         \u001b[39m\"\u001b[39;49m\u001b[39m{prop_name!r}\u001b[39;49;00m\u001b[39m\"\u001b[39;49m)\n",
      "File \u001b[0;32m~/.virtualenvs/quetzal_env/lib/python3.8/site-packages/matplotlib/artist.py:1197\u001b[0m, in \u001b[0;36mArtist._update_props\u001b[0;34m(self, props, errfmt)\u001b[0m\n\u001b[1;32m   1195\u001b[0m             func \u001b[39m=\u001b[39m \u001b[39mgetattr\u001b[39m(\u001b[39mself\u001b[39m, \u001b[39mf\u001b[39m\u001b[39m\"\u001b[39m\u001b[39mset_\u001b[39m\u001b[39m{\u001b[39;00mk\u001b[39m}\u001b[39;00m\u001b[39m\"\u001b[39m, \u001b[39mNone\u001b[39;00m)\n\u001b[1;32m   1196\u001b[0m             \u001b[39mif\u001b[39;00m \u001b[39mnot\u001b[39;00m callable(func):\n\u001b[0;32m-> 1197\u001b[0m                 \u001b[39mraise\u001b[39;00m \u001b[39mAttributeError\u001b[39;00m(\n\u001b[1;32m   1198\u001b[0m                     errfmt\u001b[39m.\u001b[39mformat(\u001b[39mcls\u001b[39m\u001b[39m=\u001b[39m\u001b[39mtype\u001b[39m(\u001b[39mself\u001b[39m), prop_name\u001b[39m=\u001b[39mk))\n\u001b[1;32m   1199\u001b[0m             ret\u001b[39m.\u001b[39mappend(func(v))\n\u001b[1;32m   1200\u001b[0m \u001b[39mif\u001b[39;00m ret:\n",
      "\u001b[0;31mAttributeError\u001b[0m: LineCollection.set() got an unexpected keyword argument 'scale'"
     ]
    },
    {
     "data": {
      "image/png": "[encoded data removed]",
      "text/plain": [
       "<Figure size 2000x2000 with 2 Axes>"
      ]
     },
     "metadata": {},
     "output_type": "display_data"
    }
   ],
   "source": [
    "if manual:\n",
    "    import matplotlib.pyplot as plt\n",
    "\n",
    "    free.car_los = free.car_los.set_index(['origin', 'destination']).loc[od_set].reset_index()\n",
    "    fig, axes = plt.subplots(ncols=2, sharey=True, sharex=True, figsize=[20, 20])\n",
    "\n",
    "    axes[0].set_aspect('equal')\n",
    "    axes[1].set_aspect('equal')\n",
    "\n",
    "    from syspy.syspy_utils import data_visualization as dv\n",
    "    bandwidth = dv.bandwidth\n",
    "    power=0.5\n",
    "    lv = [100, 1000, 2000, 5000, 7000]\n",
    "\n",
    "    url = 'http://a.basemaps.cartocdn.com/dark_nolabels/tileZ/tileX/tileY.png'\n",
    "    plot = bandwidth(\n",
    "        free.road_links.loc[free.road_links['flow'] > 0], value_column='flow',\n",
    "        power=0.5, figsize=[25, 15], scale=0.5, legend_values=lv, \n",
    "        label_kwargs={'color':'white', 'fontsize':16}, ax=axes[0]\n",
    "    )\n",
    "    dv.add_basemap(plot, url=url, zoom=12)\n",
    "    plot.set_title(\"Free assignment\")\n",
    "\n",
    "    plot = bandwidth(\n",
    "        constrained.road_links.loc[constrained.road_links['flow'] > 0], value_column='flow',\n",
    "        power=0.5, figsize=[25, 15], scale=0.5, legend_values=lv, \n",
    "        label_kwargs={'color':'white', 'fontsize':16}, ax=axes[1]\n",
    "    )\n",
    "    dv.add_basemap(plot, url=url, zoom=12)\n",
    "    plot.set_title(\"Constrained assignment\")\n",
    "    fig.tigh_layout=True"
   ]
  },
  {
   "cell_type": "code",
   "execution_count": null,
   "metadata": {},
   "outputs": [],
   "source": [
    "if manual:\n",
    "    c = constrained.car_los.groupby(['origin', 'destination'])['actual_time'].min()\n",
    "    f = free.car_los.groupby(['origin', 'destination'])['actual_time'].min()\n",
    "    df = pd.DataFrame([c, f], index=['constrained', 'free']).T\n",
    "    df.plot(kind='scatter', y='constrained', x='free', figsize=[10, 10], s=1)"
   ]
  }
 ],
 "metadata": {
  "kernelspec": {
   "display_name": "quetzal_env",
   "language": "python",
   "name": "python3"
  },
  "language_info": {
   "codemirror_mode": {
    "name": "ipython",
    "version": 3
   },
   "file_extension": ".py",
   "mimetype": "text/x-python",
   "name": "python",
   "nbconvert_exporter": "python",
   "pygments_lexer": "ipython3",
   "version": "3.8.13"
  },
  "vscode": {
   "interpreter": {
    "hash": "ba82f33095a34a1d2cadd66695bc2d9a0827e4aef93779a64da6eeeda2f6fbe2"
   }
  }
 },
 "nbformat": 4,
 "nbformat_minor": 2
}

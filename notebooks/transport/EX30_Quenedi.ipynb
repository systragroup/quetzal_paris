{
 "cells": [
  {
   "cell_type": "code",
   "execution_count": 1,
   "metadata": {},
   "outputs": [],
   "source": [
    "import sys # for automation and parallelization: set manual to false when run by a launcher\n",
    "manual, scenario = (True, 'base') if 'ipykernel' in sys.argv[0] else (False, sys.argv[1])"
   ]
  },
  {
   "cell_type": "markdown",
   "metadata": {},
   "source": [
    "# START"
   ]
  },
  {
   "cell_type": "code",
   "execution_count": 2,
   "metadata": {},
   "outputs": [
    {
     "name": "stdout",
     "output_type": "stream",
     "text": [
      "PyTables is not installed. No support for HDF output.\n",
      "SQLalchemy is not installed. No support for SQL output.\n"
     ]
    }
   ],
   "source": [
    "import sys\n",
    "sys.path.insert(0, r'../../../quetzal')\n",
    "import zipfile\n",
    "from quetzal.model import stepmodel, model\n",
    "import geopandas as gpd\n",
    "if manual:\n",
    "    %matplotlib inline\n",
    "from quetzal.io.gtfs_reader import importer"
   ]
  },
  {
   "cell_type": "code",
   "execution_count": 3,
   "metadata": {},
   "outputs": [],
   "source": [
    "training_folder = '../../'\n",
    "input_folder = training_folder + r'inputs/'\n",
    "gtfs_folder = input_folder  + 'gtfs/'"
   ]
  },
  {
   "cell_type": "code",
   "execution_count": 4,
   "metadata": {},
   "outputs": [],
   "source": [
    "#quenedi is a network editor developped by Systra, it allows you to change, add or delete transport lines\n",
    "# to do so you need to go to https://systragroup.github.io/quetzal-network-editor/\n",
    "# then load the nodes and links of the gtfs folder ( '../../inputs/gtfs') in the requested field of the website\n"
   ]
  },
  {
   "cell_type": "markdown",
   "metadata": {},
   "source": [
    "## Exercice "
   ]
  },
  {
   "cell_type": "code",
   "execution_count": 5,
   "metadata": {},
   "outputs": [],
   "source": [
    "# When the network is loaded, create a line, delete a line (100110001:1_1) , and add a stop to the line (100110001:1_2) in the network editor,\n",
    "# to add a line: - use the + button, then give it a name like line_15_1 and a route_type like subway, \n",
    "#you can then create the stop one by one, you will need to create one line for each direction, call the second line_15_2\n",
    "#to add a stop : select the line of  subway 100110001:1_1 using the pencil, then left click\n",
    "# to add a node (you can change it stop id in  new_node), you can now save\n",
    "# to delete press on the bin of the line  of  subway 100110001:1_2\n",
    "# you can now export your new network using export all\n",
    "# you have now an outpout folder in your download file,  copy past it in '../../inputs/gtfs'"
   ]
  },
  {
   "cell_type": "code",
   "execution_count": 6,
   "metadata": {},
   "outputs": [],
   "source": [
    "reseau = zipfile.ZipFile(gtfs_folder + r'/output.zip')\n",
    "links = gpd.read_file(reseau.open('output/links.geojson'))\n",
    "nodes = gpd.read_file(reseau.open('output/nodes.geojson'))"
   ]
  },
  {
   "cell_type": "code",
   "execution_count": 7,
   "metadata": {},
   "outputs": [],
   "source": [
    "# using loc and the collumn \"trip_id\" we can now check if the changes have been done"
   ]
  },
  {
   "cell_type": "code",
   "execution_count": 13,
   "metadata": {},
   "outputs": [
    {
     "data": {
      "text/plain": [
       "<AxesSubplot:>"
      ]
     },
     "execution_count": 13,
     "metadata": {},
     "output_type": "execute_result"
    },
    {
     "data": {
      "image/png": "[encoded data removed]",
      "text/plain": [
       "<Figure size 432x288 with 1 Axes>"
      ]
     },
     "metadata": {
      "needs_background": "light"
     },
     "output_type": "display_data"
    }
   ],
   "source": [
    "#line added \n",
    "links.loc[links[\"trip_id\"]==\"line_15_1\"].plot()"
   ]
  },
  {
   "cell_type": "code",
   "execution_count": 10,
   "metadata": {},
   "outputs": [
    {
     "data": {
      "text/html": [
       "<div>\n",
       "<style scoped>\n",
       "    .dataframe tbody tr th:only-of-type {\n",
       "        vertical-align: middle;\n",
       "    }\n",
       "\n",
       "    .dataframe tbody tr th {\n",
       "        vertical-align: top;\n",
       "    }\n",
       "\n",
       "    .dataframe thead th {\n",
       "        text-align: right;\n",
       "    }\n",
       "</style>\n",
       "<table border=\"1\" class=\"dataframe\">\n",
       "  <thead>\n",
       "    <tr style=\"text-align: right;\">\n",
       "      <th></th>\n",
       "      <th>index</th>\n",
       "      <th>stop_id</th>\n",
       "      <th>stop_name</th>\n",
       "      <th>stop_desc</th>\n",
       "      <th>zone_id</th>\n",
       "      <th>stop_url</th>\n",
       "      <th>location_type</th>\n",
       "      <th>parent_station</th>\n",
       "      <th>wheelchair_boarding</th>\n",
       "      <th>cluster_id</th>\n",
       "      <th>stop_code</th>\n",
       "      <th>geometry</th>\n",
       "    </tr>\n",
       "  </thead>\n",
       "  <tbody>\n",
       "    <tr>\n",
       "      <th>3046</th>\n",
       "      <td>node_sARDyFkRVJfVgBoUebQx1E</td>\n",
       "      <td>new_node</td>\n",
       "      <td>None</td>\n",
       "      <td>None</td>\n",
       "      <td>1</td>\n",
       "      <td>None</td>\n",
       "      <td>0.0</td>\n",
       "      <td>StopArea:59228</td>\n",
       "      <td>NaN</td>\n",
       "      <td>306.0</td>\n",
       "      <td>None</td>\n",
       "      <td>POINT (2.42221 48.84597)</td>\n",
       "    </tr>\n",
       "  </tbody>\n",
       "</table>\n",
       "</div>"
      ],
      "text/plain": [
       "                            index   stop_id stop_name stop_desc zone_id  \\\n",
       "3046  node_sARDyFkRVJfVgBoUebQx1E  new_node      None      None       1   \n",
       "\n",
       "     stop_url  location_type  parent_station  wheelchair_boarding  cluster_id  \\\n",
       "3046     None            0.0  StopArea:59228                  NaN       306.0   \n",
       "\n",
       "     stop_code                  geometry  \n",
       "3046      None  POINT (2.42221 48.84597)  "
      ]
     },
     "execution_count": 10,
     "metadata": {},
     "output_type": "execute_result"
    }
   ],
   "source": [
    "#node added\n",
    "nodes.loc[nodes[\"stop_id\"]==\"new_node\"]"
   ]
  },
  {
   "cell_type": "code",
   "execution_count": 11,
   "metadata": {},
   "outputs": [
    {
     "data": {
      "text/html": [
       "<div>\n",
       "<style scoped>\n",
       "    .dataframe tbody tr th:only-of-type {\n",
       "        vertical-align: middle;\n",
       "    }\n",
       "\n",
       "    .dataframe tbody tr th {\n",
       "        vertical-align: top;\n",
       "    }\n",
       "\n",
       "    .dataframe thead th {\n",
       "        text-align: right;\n",
       "    }\n",
       "</style>\n",
       "<table border=\"1\" class=\"dataframe\">\n",
       "  <thead>\n",
       "    <tr style=\"text-align: right;\">\n",
       "      <th></th>\n",
       "      <th>index</th>\n",
       "      <th>stop_id</th>\n",
       "      <th>stop_name</th>\n",
       "      <th>stop_desc</th>\n",
       "      <th>zone_id</th>\n",
       "      <th>stop_url</th>\n",
       "      <th>location_type</th>\n",
       "      <th>parent_station</th>\n",
       "      <th>wheelchair_boarding</th>\n",
       "      <th>cluster_id</th>\n",
       "      <th>stop_code</th>\n",
       "      <th>geometry</th>\n",
       "    </tr>\n",
       "  </thead>\n",
       "  <tbody>\n",
       "  </tbody>\n",
       "</table>\n",
       "</div>"
      ],
      "text/plain": [
       "Empty GeoDataFrame\n",
       "Columns: [index, stop_id, stop_name, stop_desc, zone_id, stop_url, location_type, parent_station, wheelchair_boarding, cluster_id, stop_code, geometry]\n",
       "Index: []"
      ]
     },
     "execution_count": 11,
     "metadata": {},
     "output_type": "execute_result"
    }
   ],
   "source": [
    "#line deleted\n",
    "nodes.loc[links[\"trip_id\"]==\"100110001:1_2\"]"
   ]
  },
  {
   "cell_type": "markdown",
   "metadata": {},
   "source": [
    "# Export"
   ]
  },
  {
   "cell_type": "code",
   "execution_count": 14,
   "metadata": {},
   "outputs": [
    {
     "name": "stderr",
     "output_type": "stream",
     "text": [
      "zones: 100%|█████████████████████████████████████████████████████████████████████████████| 9/9 [00:00<00:00, 79.41it/s]\n"
     ]
    }
   ],
   "source": [
    "sm = stepmodel.read_zippedpickles(training_folder + 'model/{scen}/base'.format(scen=scenario))"
   ]
  },
  {
   "cell_type": "code",
   "execution_count": 15,
   "metadata": {},
   "outputs": [],
   "source": [
    "sm.links = links\n",
    "sm.nodes = nodes"
   ]
  },
  {
   "cell_type": "code",
   "execution_count": 16,
   "metadata": {},
   "outputs": [
    {
     "name": "stderr",
     "output_type": "stream",
     "text": [
      "zones: 100%|█████████████████████████████████████████████████████████████████████████████| 9/9 [00:00<00:00, 28.00it/s]\n"
     ]
    }
   ],
   "source": [
    "sm.to_zippedpickles(training_folder + 'model/{scen}/new_base'.format(scen=scenario))"
   ]
  },
  {
   "cell_type": "code",
   "execution_count": null,
   "metadata": {},
   "outputs": [],
   "source": [
    "# you can know use the new network in A30_network_integrity"
   ]
  },
  {
   "cell_type": "markdown",
   "metadata": {},
   "source": [
    "# END"
   ]
  }
 ],
 "metadata": {
  "kernelspec": {
   "display_name": "quetzal_env_8",
   "language": "python",
   "name": "quetzal_env_8"
  },
  "language_info": {
   "codemirror_mode": {
    "name": "ipython",
    "version": 3
   },
   "file_extension": ".py",
   "mimetype": "text/x-python",
   "name": "python",
   "nbconvert_exporter": "python",
   "pygments_lexer": "ipython3",
   "version": "3.8.12"
  }
 },
 "nbformat": 4,
 "nbformat_minor": 2
}

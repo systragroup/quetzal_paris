{
 "cells": [
  {
   "cell_type": "markdown",
   "metadata": {
    "tags": [
     "instruction"
    ]
   },
   "source": [
    "# Generation and distribution\n",
    "1. Simplified generation based on population and jobs\n",
    "3. Doubly constrained distribution\n",
    "    - based on zone-to-zone distance\n",
    "    - based on a given deterrence matrix"
   ]
  },
  {
   "cell_type": "code",
   "execution_count": 1,
   "metadata": {},
   "outputs": [],
   "source": [
    "import sys # for automation and parallelization: set manual to false when run by a launcher\n",
    "manual, scenario = (True, 'base') if 'ipykernel' in sys.argv[0] else (False, sys.argv[1])"
   ]
  },
  {
   "cell_type": "markdown",
   "metadata": {},
   "source": [
    "# START"
   ]
  },
  {
   "cell_type": "code",
   "execution_count": 2,
   "metadata": {},
   "outputs": [
    {
     "name": "stderr",
     "output_type": "stream",
     "text": [
      "C:\\Users\\rgoix\\AppData\\Local\\Continuum\\anaconda3\\envs\\quetzal_env\\lib\\site-packages\\pyproj\\crs\\crs.py:280: FutureWarning: '+init=<authority>:<code>' syntax is deprecated. '<authority>:<code>' is the preferred initialization method. When making the change, be mindful of axis order changes: https://pyproj4.github.io/pyproj/stable/gotchas.html#axis-order-changes-in-proj-6\n",
      "  projstring = _prepare_from_string(projparams)\n"
     ]
    },
    {
     "name": "stdout",
     "output_type": "stream",
     "text": [
      "SQLalchemy is not installed. No support for SQL output.\n"
     ]
    }
   ],
   "source": [
    "import sys\n",
    "sys.path.insert(0, r'../../../quetzal')\n",
    "\n",
    "from quetzal.model import stepmodel\n",
    "\n",
    "import numpy as np\n",
    "import pandas as pd\n",
    "from quetzal.io import display"
   ]
  },
  {
   "cell_type": "code",
   "execution_count": 3,
   "metadata": {},
   "outputs": [],
   "source": [
    "training_folder = '../../'"
   ]
  },
  {
   "cell_type": "markdown",
   "metadata": {
    "tags": [
     "instruction"
    ]
   },
   "source": [
    "Load quetzal model `{scenario}/aon_pathfinder.zip`."
   ]
  },
  {
   "cell_type": "code",
   "execution_count": 4,
   "metadata": {
    "tags": [
     "solution",
     "main"
    ]
   },
   "outputs": [
    {
     "name": "stderr",
     "output_type": "stream",
     "text": [
      "read_hdf: 100%|████████████████████████████████████████████████████████████████████████| 29/29 [00:03<00:00,  8.24it/s]\n"
     ]
    }
   ],
   "source": [
    "sm = stepmodel.read_zip(training_folder + 'model/{s}/aon_pathfinder.zip'.format(s=scenario))"
   ]
  },
  {
   "cell_type": "markdown",
   "metadata": {
    "tags": [
     "instruction"
    ]
   },
   "source": [
    "Explore `sm.zones` GeoDataFrame."
   ]
  },
  {
   "cell_type": "code",
   "execution_count": 5,
   "metadata": {
    "tags": [
     "solution"
    ]
   },
   "outputs": [
    {
     "data": {
      "text/html": [
       "<div>\n",
       "<style scoped>\n",
       "    .dataframe tbody tr th:only-of-type {\n",
       "        vertical-align: middle;\n",
       "    }\n",
       "\n",
       "    .dataframe tbody tr th {\n",
       "        vertical-align: top;\n",
       "    }\n",
       "\n",
       "    .dataframe thead th {\n",
       "        text-align: right;\n",
       "    }\n",
       "</style>\n",
       "<table border=\"1\" class=\"dataframe\">\n",
       "  <thead>\n",
       "    <tr style=\"text-align: right;\">\n",
       "      <th></th>\n",
       "      <th>index</th>\n",
       "      <th>area</th>\n",
       "      <th>emp</th>\n",
       "      <th>emp_dens</th>\n",
       "      <th>id</th>\n",
       "      <th>name</th>\n",
       "      <th>pop</th>\n",
       "      <th>pop_dens</th>\n",
       "      <th>geometry</th>\n",
       "    </tr>\n",
       "  </thead>\n",
       "  <tbody>\n",
       "    <tr>\n",
       "      <th>zone_0</th>\n",
       "      <td>zone_0</td>\n",
       "      <td>7.573637e+05</td>\n",
       "      <td>8362.052747</td>\n",
       "      <td>11041</td>\n",
       "      <td>1</td>\n",
       "      <td>1</td>\n",
       "      <td>264.319936</td>\n",
       "      <td>349</td>\n",
       "      <td>POLYGON ((261110.573 6250178.109, 261083.291 6...</td>\n",
       "    </tr>\n",
       "    <tr>\n",
       "      <th>zone_1</th>\n",
       "      <td>zone_1</td>\n",
       "      <td>1.057626e+06</td>\n",
       "      <td>55150.981545</td>\n",
       "      <td>52146</td>\n",
       "      <td>2</td>\n",
       "      <td>2</td>\n",
       "      <td>17338.725721</td>\n",
       "      <td>16394</td>\n",
       "      <td>POLYGON ((261479.311 6250888.653, 261432.309 6...</td>\n",
       "    </tr>\n",
       "    <tr>\n",
       "      <th>zone_2</th>\n",
       "      <td>zone_2</td>\n",
       "      <td>4.397285e+05</td>\n",
       "      <td>31273.053465</td>\n",
       "      <td>71119</td>\n",
       "      <td>3</td>\n",
       "      <td>3</td>\n",
       "      <td>4659.363525</td>\n",
       "      <td>10596</td>\n",
       "      <td>POLYGON ((260776.971 6252576.345, 260734.516 6...</td>\n",
       "    </tr>\n",
       "    <tr>\n",
       "      <th>zone_3</th>\n",
       "      <td>zone_3</td>\n",
       "      <td>5.628178e+05</td>\n",
       "      <td>31399.041132</td>\n",
       "      <td>55789</td>\n",
       "      <td>4</td>\n",
       "      <td>4</td>\n",
       "      <td>15915.361185</td>\n",
       "      <td>28278</td>\n",
       "      <td>POLYGON ((261959.195 6252781.617, 262007.699 6...</td>\n",
       "    </tr>\n",
       "    <tr>\n",
       "      <th>zone_4</th>\n",
       "      <td>zone_4</td>\n",
       "      <td>1.169330e+06</td>\n",
       "      <td>29889.237285</td>\n",
       "      <td>25561</td>\n",
       "      <td>5</td>\n",
       "      <td>5</td>\n",
       "      <td>34969.974971</td>\n",
       "      <td>29906</td>\n",
       "      <td>POLYGON ((263665.314 6250900.188, 263689.688 6...</td>\n",
       "    </tr>\n",
       "    <tr>\n",
       "      <th>zone_5</th>\n",
       "      <td>zone_5</td>\n",
       "      <td>5.036955e+05</td>\n",
       "      <td>11596.078371</td>\n",
       "      <td>23022</td>\n",
       "      <td>6</td>\n",
       "      <td>6</td>\n",
       "      <td>14571.407836</td>\n",
       "      <td>28929</td>\n",
       "      <td>POLYGON ((263120.425 6250224.762, 263094.858 6...</td>\n",
       "    </tr>\n",
       "    <tr>\n",
       "      <th>zone_6</th>\n",
       "      <td>zone_6</td>\n",
       "      <td>1.094647e+06</td>\n",
       "      <td>30870.138027</td>\n",
       "      <td>28201</td>\n",
       "      <td>7</td>\n",
       "      <td>7</td>\n",
       "      <td>14131.891845</td>\n",
       "      <td>12910</td>\n",
       "      <td>POLYGON ((263465.831 6248964.895, 263423.580 6...</td>\n",
       "    </tr>\n",
       "    <tr>\n",
       "      <th>zone_7</th>\n",
       "      <td>zone_7</td>\n",
       "      <td>1.885298e+05</td>\n",
       "      <td>6943.928575</td>\n",
       "      <td>36832</td>\n",
       "      <td>8</td>\n",
       "      <td>8</td>\n",
       "      <td>5278.268037</td>\n",
       "      <td>27997</td>\n",
       "      <td>POLYGON ((261110.485 6249382.468, 261043.816 6...</td>\n",
       "    </tr>\n",
       "    <tr>\n",
       "      <th>zone_8</th>\n",
       "      <td>zone_8</td>\n",
       "      <td>1.148070e+06</td>\n",
       "      <td>21761.670288</td>\n",
       "      <td>18955</td>\n",
       "      <td>9</td>\n",
       "      <td>9</td>\n",
       "      <td>31655.739111</td>\n",
       "      <td>27573</td>\n",
       "      <td>POLYGON ((261897.373 6247902.588, 261888.277 6...</td>\n",
       "    </tr>\n",
       "    <tr>\n",
       "      <th>zone_9</th>\n",
       "      <td>zone_9</td>\n",
       "      <td>1.180446e+06</td>\n",
       "      <td>14736.689933</td>\n",
       "      <td>12484</td>\n",
       "      <td>10</td>\n",
       "      <td>10</td>\n",
       "      <td>23486.156914</td>\n",
       "      <td>19896</td>\n",
       "      <td>POLYGON ((263266.910 6248313.993, 263256.296 6...</td>\n",
       "    </tr>\n",
       "  </tbody>\n",
       "</table>\n",
       "</div>"
      ],
      "text/plain": [
       "         index          area           emp  emp_dens  id  name           pop  \\\n",
       "zone_0  zone_0  7.573637e+05   8362.052747     11041   1     1    264.319936   \n",
       "zone_1  zone_1  1.057626e+06  55150.981545     52146   2     2  17338.725721   \n",
       "zone_2  zone_2  4.397285e+05  31273.053465     71119   3     3   4659.363525   \n",
       "zone_3  zone_3  5.628178e+05  31399.041132     55789   4     4  15915.361185   \n",
       "zone_4  zone_4  1.169330e+06  29889.237285     25561   5     5  34969.974971   \n",
       "zone_5  zone_5  5.036955e+05  11596.078371     23022   6     6  14571.407836   \n",
       "zone_6  zone_6  1.094647e+06  30870.138027     28201   7     7  14131.891845   \n",
       "zone_7  zone_7  1.885298e+05   6943.928575     36832   8     8   5278.268037   \n",
       "zone_8  zone_8  1.148070e+06  21761.670288     18955   9     9  31655.739111   \n",
       "zone_9  zone_9  1.180446e+06  14736.689933     12484  10    10  23486.156914   \n",
       "\n",
       "        pop_dens                                           geometry  \n",
       "zone_0       349  POLYGON ((261110.573 6250178.109, 261083.291 6...  \n",
       "zone_1     16394  POLYGON ((261479.311 6250888.653, 261432.309 6...  \n",
       "zone_2     10596  POLYGON ((260776.971 6252576.345, 260734.516 6...  \n",
       "zone_3     28278  POLYGON ((261959.195 6252781.617, 262007.699 6...  \n",
       "zone_4     29906  POLYGON ((263665.314 6250900.188, 263689.688 6...  \n",
       "zone_5     28929  POLYGON ((263120.425 6250224.762, 263094.858 6...  \n",
       "zone_6     12910  POLYGON ((263465.831 6248964.895, 263423.580 6...  \n",
       "zone_7     27997  POLYGON ((261110.485 6249382.468, 261043.816 6...  \n",
       "zone_8     27573  POLYGON ((261897.373 6247902.588, 261888.277 6...  \n",
       "zone_9     19896  POLYGON ((263266.910 6248313.993, 263256.296 6...  "
      ]
     },
     "execution_count": 5,
     "metadata": {},
     "output_type": "execute_result"
    }
   ],
   "source": [
    "sm.zones.head(10)"
   ]
  },
  {
   "cell_type": "markdown",
   "metadata": {},
   "source": [
    "# Generation\n",
    "- Production = Population\n",
    "- Attraction = Jobs"
   ]
  },
  {
   "cell_type": "code",
   "execution_count": 6,
   "metadata": {},
   "outputs": [],
   "source": [
    "sm.zones['emission'] =  sm.zones['pop'].astype(int) / 10 # peak hour generation\n",
    "sm.zones['attraction'] =  sm.zones['emp'].astype(int) / 10"
   ]
  },
  {
   "cell_type": "code",
   "execution_count": 7,
   "metadata": {},
   "outputs": [
    {
     "data": {
      "text/plain": [
       "215818.30000000005"
      ]
     },
     "execution_count": 7,
     "metadata": {},
     "output_type": "execute_result"
    }
   ],
   "source": [
    "sm.zones['emission'].sum()"
   ]
  },
  {
   "cell_type": "code",
   "execution_count": 8,
   "metadata": {},
   "outputs": [
    {
     "data": {
      "text/plain": [
       "164266.2"
      ]
     },
     "execution_count": 8,
     "metadata": {},
     "output_type": "execute_result"
    }
   ],
   "source": [
    "sm.zones['attraction'].sum()"
   ]
  },
  {
   "cell_type": "markdown",
   "metadata": {},
   "source": [
    "# Distribution"
   ]
  },
  {
   "cell_type": "markdown",
   "metadata": {
    "tags": [
     "instruction"
    ]
   },
   "source": [
    "## Test - default distribution"
   ]
  },
  {
   "cell_type": "code",
   "execution_count": 9,
   "metadata": {
    "tags": [
     "instruction"
    ]
   },
   "outputs": [],
   "source": [
    "sm_default = sm.copy()"
   ]
  },
  {
   "cell_type": "markdown",
   "metadata": {
    "tags": [
     "instruction"
    ]
   },
   "source": [
    "Default"
   ]
  },
  {
   "cell_type": "code",
   "execution_count": 10,
   "metadata": {
    "tags": [
     "instrution"
    ]
   },
   "outputs": [],
   "source": [
    "sm_default.step_distribution(power=2)"
   ]
  },
  {
   "cell_type": "markdown",
   "metadata": {
    "tags": [
     "instruction"
    ]
   },
   "source": [
    "1. Analyze the distribution of volumes with respect to zone to zone distance using an histogram plot.\n",
    "2. Run the distribution step with different values for `power` and analyze.\n",
    "\n",
    "For 1. you can obtain the zone to zone euclidean distance matrix with:  \n",
    "```\n",
    "from syspy.skims import skims\n",
    "euclidean = skims.euclidean(sm_default.zones, coordinates_unit=sm_default.coordinates_unit)\n",
    "```"
   ]
  },
  {
   "cell_type": "code",
   "execution_count": 11,
   "metadata": {
    "tags": [
     "solution"
    ]
   },
   "outputs": [],
   "source": [
    "from syspy.skims import skims\n",
    "euclidean = skims.euclidean(sm_default.zones, coordinates_unit=sm_default.coordinates_unit)"
   ]
  },
  {
   "cell_type": "code",
   "execution_count": 12,
   "metadata": {
    "tags": [
     "solution"
    ]
   },
   "outputs": [
    {
     "data": {
      "text/plain": [
       "<matplotlib.axes._subplots.AxesSubplot at 0x1f9ebd80288>"
      ]
     },
     "execution_count": 12,
     "metadata": {},
     "output_type": "execute_result"
    },
    {
     "data": {
      "image/png": "[encoded data removed]",
      "text/plain": [
       "<Figure size 432x288 with 1 Axes>"
      ]
     },
     "metadata": {
      "needs_background": "light"
     },
     "output_type": "display_data"
    }
   ],
   "source": [
    "od = pd.merge(sm_default.volumes, euclidean, on=['origin', 'destination'])\n",
    "import matplotlib.pyplot as plt\n",
    "od[['euclidean_distance']].plot(kind='hist', weights=od['volume'], bins=40, alpha=0.5)"
   ]
  },
  {
   "cell_type": "markdown",
   "metadata": {
    "tags": [
     "instruction"
    ]
   },
   "source": [
    "With a deterrence matrix  \n",
    "1. copy euclidean dataframe into deterrence dataframe\n",
    "2. create a `'deterrence'` column equals to `1/euclidean_distance**2`\n",
    "3. Plot deterrence versus distance (scatter plot)"
   ]
  },
  {
   "cell_type": "code",
   "execution_count": 13,
   "metadata": {
    "tags": [
     "solution"
    ]
   },
   "outputs": [],
   "source": [
    "deterrence = euclidean.copy()\n",
    "deterrence['euclidean_distance'].replace(0, 1e9, inplace=True)\n",
    "deterrence['deterrence'] = 1/deterrence['euclidean_distance']\n",
    "deterrence['deterrence'].replace(float('inf'), 1e9, inplace=True)"
   ]
  },
  {
   "cell_type": "code",
   "execution_count": 14,
   "metadata": {
    "tags": [
     "solution"
    ]
   },
   "outputs": [
    {
     "data": {
      "text/plain": [
       "(0, 0.001379710633088853)"
      ]
     },
     "execution_count": 14,
     "metadata": {},
     "output_type": "execute_result"
    },
    {
     "data": {
      "image/png": "[encoded data removed]",
      "text/plain": [
       "<Figure size 432x288 with 1 Axes>"
      ]
     },
     "metadata": {
      "needs_background": "light"
     },
     "output_type": "display_data"
    }
   ],
   "source": [
    "deterrence[deterrence['euclidean_distance']<1e6].plot('euclidean_distance', 'deterrence', kind='scatter')\n",
    "plt.ylim([0,deterrence['deterrence'].max()])"
   ]
  },
  {
   "cell_type": "code",
   "execution_count": 15,
   "metadata": {
    "tags": [
     "instruction"
    ]
   },
   "outputs": [],
   "source": [
    "deterrence = deterrence.set_index(['origin', 'destination'])['deterrence'].unstack()"
   ]
  },
  {
   "cell_type": "code",
   "execution_count": 16,
   "metadata": {
    "tags": [
     "instruction"
    ]
   },
   "outputs": [],
   "source": [
    "sm_default.step_distribution(deterrence_matrix=deterrence)"
   ]
  },
  {
   "cell_type": "code",
   "execution_count": 17,
   "metadata": {
    "tags": [
     "instruction"
    ]
   },
   "outputs": [
    {
     "data": {
      "text/plain": [
       "<matplotlib.axes._subplots.AxesSubplot at 0x1f9f0c7a348>"
      ]
     },
     "execution_count": 17,
     "metadata": {},
     "output_type": "execute_result"
    },
    {
     "data": {
      "image/png": "[encoded data removed]",
      "text/plain": [
       "<Figure size 432x288 with 1 Axes>"
      ]
     },
     "metadata": {
      "needs_background": "light"
     },
     "output_type": "display_data"
    }
   ],
   "source": [
    "od = pd.merge(sm_default.volumes, euclidean, on=['origin', 'destination'])\n",
    "import matplotlib.pyplot as plt\n",
    "od[['euclidean_distance']].plot(kind='hist', weights=od['volume'], bins=40, alpha=0.5)"
   ]
  },
  {
   "cell_type": "markdown",
   "metadata": {},
   "source": [
    "## car owners\n",
    "car owners distribution is based on car times"
   ]
  },
  {
   "cell_type": "code",
   "execution_count": 18,
   "metadata": {},
   "outputs": [],
   "source": [
    "motor_rate = 0.3\n",
    "car = sm.copy()\n",
    "car.zones['emission'] *= motor_rate"
   ]
  },
  {
   "cell_type": "markdown",
   "metadata": {
    "tags": [
     "instruction"
    ]
   },
   "source": [
    "Create a deterrence matrix based on zone to zone car duration"
   ]
  },
  {
   "cell_type": "code",
   "execution_count": 19,
   "metadata": {
    "tags": [
     "solution",
     "main"
    ]
   },
   "outputs": [],
   "source": [
    "deterrence_matrix = car.car_los[\n",
    "    ['origin', 'destination', 'time']\n",
    "].set_index(['origin','destination']).unstack() \n",
    "deterrence_matrix = deterrence_matrix.replace(0, 1e9)\n",
    "deterrence_matrix = 1/deterrence_matrix**2"
   ]
  },
  {
   "cell_type": "code",
   "execution_count": 20,
   "metadata": {},
   "outputs": [],
   "source": [
    "car.step_distribution(deterrence_matrix=deterrence_matrix)"
   ]
  },
  {
   "cell_type": "code",
   "execution_count": 21,
   "metadata": {
    "tags": [
     "instruction"
    ]
   },
   "outputs": [
    {
     "data": {
      "text/plain": [
       "<matplotlib.axes._subplots.AxesSubplot at 0x1f9f0d10ec8>"
      ]
     },
     "execution_count": 21,
     "metadata": {},
     "output_type": "execute_result"
    },
    {
     "data": {
      "image/png": "[encoded data removed]",
      "text/plain": [
       "<Figure size 432x288 with 1 Axes>"
      ]
     },
     "metadata": {
      "needs_background": "light"
     },
     "output_type": "display_data"
    }
   ],
   "source": [
    "od = pd.merge(car.volumes, car.car_los, on=['origin', 'destination'])\n",
    "import matplotlib.pyplot as plt\n",
    "od[['time']].plot(kind='hist', weights=od['volume'], bins=40, alpha=0.5)"
   ]
  },
  {
   "cell_type": "markdown",
   "metadata": {},
   "source": [
    "# PT captives\n",
    "Non-car owners distribution is based on pt times"
   ]
  },
  {
   "cell_type": "code",
   "execution_count": 22,
   "metadata": {},
   "outputs": [],
   "source": [
    "pt = sm.copy()\n",
    "pt.zones['emission'] *= (1-motor_rate)"
   ]
  },
  {
   "cell_type": "markdown",
   "metadata": {
    "tags": [
     "instruction"
    ]
   },
   "source": [
    "1. Create a deterrence matrix based on zone to zone PT duration\n",
    "2. Apply the distribution step with this matrix\n",
    "3. analyze with an histogram plot"
   ]
  },
  {
   "cell_type": "code",
   "execution_count": 23,
   "metadata": {
    "tags": [
     "solution",
     "main"
    ]
   },
   "outputs": [],
   "source": [
    "deterrence_matrix = pt.pt_los[\n",
    "    ['origin', 'destination', 'gtime']\n",
    "].set_index(['origin','destination']).unstack() \n",
    "deterrence_matrix = deterrence_matrix.replace(0, 1e9)\n",
    "deterrence_matrix = 1/deterrence_matrix**2"
   ]
  },
  {
   "cell_type": "code",
   "execution_count": 24,
   "metadata": {
    "tags": [
     "solution",
     "main"
    ]
   },
   "outputs": [],
   "source": [
    "pt.step_distribution(deterrence_matrix=deterrence_matrix)"
   ]
  },
  {
   "cell_type": "code",
   "execution_count": 25,
   "metadata": {
    "tags": [
     "solution"
    ]
   },
   "outputs": [
    {
     "data": {
      "text/plain": [
       "<matplotlib.axes._subplots.AxesSubplot at 0x1f9f4a49688>"
      ]
     },
     "execution_count": 25,
     "metadata": {},
     "output_type": "execute_result"
    },
    {
     "data": {
      "image/png": "[encoded data removed]",
      "text/plain": [
       "<Figure size 432x288 with 1 Axes>"
      ]
     },
     "metadata": {
      "needs_background": "light"
     },
     "output_type": "display_data"
    }
   ],
   "source": [
    "od = pd.merge(pt.volumes, pt.pt_los, on=['origin', 'destination'])\n",
    "import matplotlib.pyplot as plt\n",
    "od[['gtime']].plot(kind='hist', weights=od['volume'], bins=40, alpha=0.5)"
   ]
  },
  {
   "cell_type": "markdown",
   "metadata": {},
   "source": [
    "# merge matrices"
   ]
  },
  {
   "cell_type": "code",
   "execution_count": 26,
   "metadata": {
    "scrolled": true
   },
   "outputs": [],
   "source": [
    "sm.volumes = pd.merge(\n",
    "    car.volumes,\n",
    "    pt.volumes,\n",
    "    on=['origin', 'destination'],\n",
    "    suffixes=[ '_car_owner', '_pt_captive']\n",
    ").rename(columns={'volume_car_owner': 'car_owner', 'volume_pt_captive': 'pt_captive'})"
   ]
  },
  {
   "cell_type": "markdown",
   "metadata": {},
   "source": [
    "# to_zip"
   ]
  },
  {
   "cell_type": "code",
   "execution_count": 27,
   "metadata": {},
   "outputs": [
    {
     "name": "stderr",
     "output_type": "stream",
     "text": [
      "to_hdf(new file): 100%|███████████████████████████████████████████████████████████████| 39/39 [00:00<00:00, 211.63it/s]\n"
     ]
    }
   ],
   "source": [
    "sm.to_zip(\n",
    "    training_folder + 'model/{scen}/distribution.zip'.format(scen=scenario), \n",
    "    only_attributes=['volumes', 'epsg', 'coordinates_unit']\n",
    ")"
   ]
  },
  {
   "cell_type": "markdown",
   "metadata": {},
   "source": [
    "# monitoring"
   ]
  },
  {
   "cell_type": "code",
   "execution_count": 29,
   "metadata": {},
   "outputs": [
    {
     "data": {
      "text/plain": [
       "Text(0.5, 1.0, 'car owners distribution')"
      ]
     },
     "execution_count": 29,
     "metadata": {},
     "output_type": "execute_result"
    },
    {
     "data": {
      "image/png": "[encoded data removed]",
      "text/plain": [
       "<Figure size 720x360 with 2 Axes>"
      ]
     },
     "metadata": {
      "needs_background": "light"
     },
     "output_type": "display_data"
    }
   ],
   "source": [
    "od = pd.merge(sm.volumes, sm.pt_los, on=['origin', 'destination'])\n",
    "od = pd.merge(od, sm.car_los, on=['origin', 'destination'])\n",
    "\n",
    "import matplotlib.pyplot as plt\n",
    "fig, axes = plt.subplots(1, 2, figsize=[10, 5])\n",
    "plot = od[['gtime']].plot(kind='hist', weights=od['pt_captive'], bins=50, alpha=0.5, ax=axes[0])\n",
    "plot.set_title('PT captives distribution')\n",
    "\n",
    "plot = od[['time']].plot(kind='hist', weights=od['car_owner'], bins=50, alpha=0.5, ax=axes[1])\n",
    "plot.set_title('car owners distribution')"
   ]
  },
  {
   "cell_type": "markdown",
   "metadata": {},
   "source": [
    "# END"
   ]
  }
 ],
 "metadata": {
  "anaconda-cloud": {},
  "celltoolbar": "Tags",
  "kernelspec": {
   "display_name": "Python [conda env:quetzal_env]",
   "language": "python",
   "name": "conda-env-quetzal_env-py"
  },
  "language_info": {
   "codemirror_mode": {
    "name": "ipython",
    "version": 3
   },
   "file_extension": ".py",
   "mimetype": "text/x-python",
   "name": "python",
   "nbconvert_exporter": "python",
   "pygments_lexer": "ipython3",
   "version": "3.7.7"
  }
 },
 "nbformat": 4,
 "nbformat_minor": 2
}

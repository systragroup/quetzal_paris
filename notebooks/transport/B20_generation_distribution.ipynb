{
 "cells": [
  {
   "cell_type": "code",
   "execution_count": 1,
   "metadata": {},
   "outputs": [
    {
     "name": "stdout",
     "output_type": "stream",
     "text": [
      "SQLalchemy is not installed. No support for SQL output.\n"
     ]
    }
   ],
   "source": [
    "import sys\n",
    "sys.path.insert(0, r'../../../quetzal')\n",
    "\n",
    "from quetzal.model import stepmodel\n",
    "\n",
    "import numpy as np\n",
    "import pandas as pd\n",
    "from quetzal.io import display"
   ]
  },
  {
   "cell_type": "code",
   "execution_count": 2,
   "metadata": {},
   "outputs": [],
   "source": [
    "training_folder = '../../'"
   ]
  },
  {
   "cell_type": "code",
   "execution_count": 3,
   "metadata": {},
   "outputs": [
    {
     "name": "stderr",
     "output_type": "stream",
     "text": [
      "read_hdf: 100%|████████████████████████████████████████████████████████████████████████| 29/29 [00:01<00:00, 17.43it/s]\n"
     ]
    }
   ],
   "source": [
    "sm = stepmodel.read_zip(training_folder + 'model/transport/aon_pathfinder.zip')"
   ]
  },
  {
   "cell_type": "markdown",
   "metadata": {},
   "source": [
    "# generation\n",
    "- Production = Population\n",
    "- Attraction = Jobs"
   ]
  },
  {
   "cell_type": "code",
   "execution_count": 4,
   "metadata": {},
   "outputs": [
    {
     "data": {
      "text/plain": [
       "2158238.2271273527"
      ]
     },
     "execution_count": 4,
     "metadata": {},
     "output_type": "execute_result"
    }
   ],
   "source": [
    "sm.zones['emission'] =  sm.zones['pop'].astype(int) / 10 # peak hour generation\n",
    "sm.zones['attraction'] =  sm.zones['emp'].astype(int) / 10\n",
    "sm.zones['pop'].sum()"
   ]
  },
  {
   "cell_type": "markdown",
   "metadata": {},
   "source": [
    "# car owners\n",
    "car owners distribution is based on car times"
   ]
  },
  {
   "cell_type": "code",
   "execution_count": 7,
   "metadata": {},
   "outputs": [],
   "source": [
    "motor_rate = 0.3\n",
    "car = sm.copy()\n",
    "car.zones['emission'] *= motor_rate"
   ]
  },
  {
   "cell_type": "code",
   "execution_count": 8,
   "metadata": {},
   "outputs": [],
   "source": [
    "imp_matrix = car.car_los[\n",
    "    ['origin', 'destination', 'time']\n",
    "].set_index(['origin','destination']).unstack() \n",
    "imp_matrix = imp_matrix.replace(0, 120)\n",
    "\n",
    "car.step_distribution(impedance_matrix=imp_matrix)"
   ]
  },
  {
   "cell_type": "markdown",
   "metadata": {},
   "source": [
    "# PT captives\n",
    "car owners distribution is based on car times"
   ]
  },
  {
   "cell_type": "code",
   "execution_count": 9,
   "metadata": {},
   "outputs": [],
   "source": [
    "pt = sm.copy()\n",
    "pt.zones['emission'] *= (1-motor_rate)"
   ]
  },
  {
   "cell_type": "code",
   "execution_count": 10,
   "metadata": {},
   "outputs": [],
   "source": [
    "# Ici on prend comme fonction de coût le temps TC. Notez le .unstack() \n",
    "imp_matrix = pt.pt_los[\n",
    "    ['origin', 'destination', 'gtime']\n",
    "].set_index(['origin','destination']).unstack() \n",
    "imp_matrix = imp_matrix.replace(0, 120)"
   ]
  },
  {
   "cell_type": "code",
   "execution_count": 11,
   "metadata": {},
   "outputs": [],
   "source": [
    "pt.step_distribution(impedance_matrix=imp_matrix)"
   ]
  },
  {
   "cell_type": "markdown",
   "metadata": {},
   "source": [
    "# merge matrices"
   ]
  },
  {
   "cell_type": "code",
   "execution_count": 16,
   "metadata": {
    "scrolled": true
   },
   "outputs": [],
   "source": [
    "sm.volumes = pd.merge(\n",
    "    car.volumes,\n",
    "    pt.volumes,\n",
    "    on=['origin', 'destination'],\n",
    "    suffixes=[ '_car_owner', '_pt_captive']\n",
    ").rename(columns={'volume_car_owner': 'car_owner', 'volume_pt_captive': 'pt_captive'})"
   ]
  },
  {
   "cell_type": "code",
   "execution_count": 17,
   "metadata": {},
   "outputs": [],
   "source": [
    "od = pd.merge(sm.volumes, sm.pt_los, on=['origin', 'destination'])\n",
    "od = pd.merge(od, sm.car_los, on=['origin', 'destination'])"
   ]
  },
  {
   "cell_type": "markdown",
   "metadata": {},
   "source": [
    "# to_zip"
   ]
  },
  {
   "cell_type": "code",
   "execution_count": 21,
   "metadata": {},
   "outputs": [
    {
     "name": "stderr",
     "output_type": "stream",
     "text": [
      "to_hdf(new file): 100%|███████████████████████████████████████████████████████████████| 39/39 [00:00<00:00, 645.51it/s]\n"
     ]
    }
   ],
   "source": [
    "sm.to_zip(training_folder + 'model/base/distribution.zip', only_attributes=['volumes', 'epsg', 'coordinates_unit'])"
   ]
  },
  {
   "cell_type": "markdown",
   "metadata": {},
   "source": [
    "# monitoring"
   ]
  },
  {
   "cell_type": "code",
   "execution_count": 14,
   "metadata": {},
   "outputs": [
    {
     "data": {
      "text/plain": [
       "Text(0.5, 1.0, 'PT captives distribution')"
      ]
     },
     "execution_count": 14,
     "metadata": {},
     "output_type": "execute_result"
    },
    {
     "data": {
      "image/png": "[encoded data removed]",
      "text/plain": [
       "<Figure size 720x360 with 2 Axes>"
      ]
     },
     "metadata": {
      "needs_background": "light"
     },
     "output_type": "display_data"
    }
   ],
   "source": [
    "import matplotlib.pyplot as plt\n",
    "fig, axes = plt.subplots(1, 2, figsize=[10, 5])\n",
    "plot = od[['gtime']].plot(kind='hist', weights=od['volume_pt_captive'], bins=50, alpha=0.5, ax=axes[0])\n",
    "plot.set_title('car owners distribution')\n",
    "plot = od[['time']].plot(kind='hist', weights=od['volume_car_owner'], bins=50, alpha=0.5, ax=axes[1])\n",
    "plot.set_title('PT captives distribution')"
   ]
  },
  {
   "cell_type": "markdown",
   "metadata": {},
   "source": [
    "# END"
   ]
  }
 ],
 "metadata": {
  "kernelspec": {
   "display_name": "Python [conda env:quetzal_env]",
   "language": "python",
   "name": "conda-env-quetzal_env-py"
  },
  "language_info": {
   "codemirror_mode": {
    "name": "ipython",
    "version": 3
   },
   "file_extension": ".py",
   "mimetype": "text/x-python",
   "name": "python",
   "nbconvert_exporter": "python",
   "pygments_lexer": "ipython3",
   "version": "3.7.5"
  }
 },
 "nbformat": 4,
 "nbformat_minor": 2
}

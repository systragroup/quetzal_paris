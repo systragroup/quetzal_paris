{
 "cells": [
  {
   "cell_type": "code",
   "execution_count": 14,
   "metadata": {},
   "outputs": [],
   "source": [
    "from tqdm import tqdm"
   ]
  },
  {
   "cell_type": "code",
   "execution_count": 15,
   "metadata": {
    "scrolled": true
   },
   "outputs": [],
   "source": [
    "import pandas as pd\n",
    "parameter_frame = pd.read_excel(r'../../inputs/parameters.xlsx').set_index(['category','parameter'])\n",
    "scenario_list = list(parameter_frame.columns)"
   ]
  },
  {
   "cell_type": "code",
   "execution_count": 16,
   "metadata": {},
   "outputs": [],
   "source": [
    "pool = {}"
   ]
  },
  {
   "cell_type": "code",
   "execution_count": 17,
   "metadata": {},
   "outputs": [
    {
     "data": {
      "text/plain": [
       "['base', 'project']"
      ]
     },
     "execution_count": 17,
     "metadata": {},
     "output_type": "execute_result"
    }
   ],
   "source": [
    "scenario_list"
   ]
  },
  {
   "cell_type": "code",
   "execution_count": 18,
   "metadata": {
    "scrolled": true
   },
   "outputs": [
    {
     "name": "stderr",
     "output_type": "stream",
     "text": [
      "100%|████████████████████████████████████████████████████████████████████████████████████| 2/2 [00:00<00:00,  2.16it/s]\n"
     ]
    }
   ],
   "source": [
    "df_dict = pd.read_excel('../../model/base/stacks.xlsx', sheet_name=None)\n",
    "for key in df_dict.keys():\n",
    "    pool[key] = []\n",
    "for scenario in tqdm(scenario_list):\n",
    "    try:\n",
    "        df_dict = pd.read_excel(r'../../model/' + scenario + '/stacks.xlsx', sheet_name=None)\n",
    "        for key, value in df_dict.items():\n",
    "            value['scenario'] = scenario\n",
    "            col = [c for c in value.columns if 'scenario' not in c]\n",
    "            col.insert(-1, 'scenario')\n",
    "            value = value[col]\n",
    "            pool[key].append(value)\n",
    "    except FileNotFoundError: # the stacks have not been produced yet:\n",
    "        pass"
   ]
  },
  {
   "cell_type": "code",
   "execution_count": 19,
   "metadata": {},
   "outputs": [],
   "source": [
    "stacks = {k: pd.concat(v) for k, v in pool.items()}\n",
    "stacks['parameters'] = parameter_frame.reset_index()\n",
    "with pd.ExcelWriter(r'../../outputs/'+ 'stacks.xlsx') as writer:  # doctest: +SKIP\n",
    "    for name, stack in stacks.items():\n",
    "        stack.to_excel(writer, sheet_name=name, index=False)"
   ]
  }
 ],
 "metadata": {
  "kernelspec": {
   "display_name": "Python [conda env:quetzal_env]",
   "language": "python",
   "name": "conda-env-quetzal_env-py"
  },
  "language_info": {
   "codemirror_mode": {
    "name": "ipython",
    "version": 3
   },
   "file_extension": ".py",
   "mimetype": "text/x-python",
   "name": "python",
   "nbconvert_exporter": "python",
   "pygments_lexer": "ipython3",
   "version": "3.7.5"
  }
 },
 "nbformat": 4,
 "nbformat_minor": 2
}

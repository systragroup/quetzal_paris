{
 "cells": [
  {
   "cell_type": "code",
   "execution_count": 147,
   "metadata": {},
   "outputs": [],
   "source": [
    "import sys\n",
    "import json\n",
    "default = {'scenario': 'base', 'training_folder': '../..'} # Default execution parameters\n",
    "manual, argv = (True, default) if 'ipykernel' in sys.argv[0] else (False, dict(default, **json.loads(sys.argv[1])))\n",
    "\n",
    "sys.path.insert(0, r'../../quetzal') # Add path to quetzal\n",
    "from quetzal.io import excel\n",
    "import pandas as pd\n",
    "import numpy as np\n",
    "\n",
    "var = excel.read_var(file = '../inputs/parameters.xlsx', scenario = argv['scenario'])"
   ]
  },
  {
   "cell_type": "code",
   "execution_count": 39,
   "metadata": {},
   "outputs": [],
   "source": [
    "file = '../inputs/parameters.xlsx'\n",
    "default_scenario = 'base'\n",
    "period = None"
   ]
  },
  {
   "cell_type": "code",
   "execution_count": 98,
   "metadata": {},
   "outputs": [
    {
     "data": {
      "text/plain": [
       "[{'category': 'preparation_footpaths',\n",
       "  'param': [{'text': 'max_length',\n",
       "    'value': 3000.0,\n",
       "    'name': 'preparation_footpaths_max_length'},\n",
       "   {'text': 'speed', 'value': 3.0, 'name': 'preparation_footpaths_speed'},\n",
       "   {'text': 'n_clusters',\n",
       "    'value': 3000,\n",
       "    'name': 'preparation_footpaths_n_clusters'}]},\n",
       " {'category': 'preparation_ntlegs',\n",
       "  'param': [{'text': 'n_ntlegs',\n",
       "    'value': 5,\n",
       "    'name': 'preparation_ntlegs_n_ntlegs'},\n",
       "   {'text': 'max_ntleg_length',\n",
       "    'value': 5000.0,\n",
       "    'name': 'preparation_ntlegs_max_ntleg_length'},\n",
       "   {'text': 'long_leg_speed',\n",
       "    'value': 7.0,\n",
       "    'name': 'preparation_ntlegs_long_leg_speed'},\n",
       "   {'text': 'short_leg_speed',\n",
       "    'value': 3.0,\n",
       "    'name': 'preparation_ntlegs_short_leg_speed'},\n",
       "   {'text': 'threshold',\n",
       "    'value': 500.0,\n",
       "    'name': 'preparation_ntlegs_threshold'}]},\n",
       " {'category': 'preparation_logit',\n",
       "  'param': [{'text': 'time',\n",
       "    'value': -0.00055,\n",
       "    'name': 'preparation_logit_time'},\n",
       "   {'text': 'price', 'value': -1.0, 'name': 'preparation_logit_price'},\n",
       "   {'text': 'transfers',\n",
       "    'value': -0.25,\n",
       "    'name': 'preparation_logit_transfers'},\n",
       "   {'text': 'mode', 'value': 1.0, 'name': 'preparation_logit_mode'},\n",
       "   {'text': 'pt_mode', 'value': 0.5, 'name': 'preparation_logit_pt_mode'},\n",
       "   {'text': 'pt_path', 'value': 0.1, 'name': 'preparation_logit_pt_path'}]},\n",
       " {'category': 'car_owner',\n",
       "  'param': [{'text': 'walk', 'value': 0.0, 'name': 'car_owner_walk'},\n",
       "   {'text': 'bus', 'value': 12.0, 'name': 'car_owner_bus'},\n",
       "   {'text': 'subway', 'value': 1.0, 'name': 'car_owner_subway'},\n",
       "   {'text': 'rail', 'value': 4.5, 'name': 'car_owner_rail'},\n",
       "   {'text': 'car', 'value': 10.0, 'name': 'car_owner_car'}]},\n",
       " {'category': 'pt_captive',\n",
       "  'param': [{'text': 'walk', 'value': 0.0, 'name': 'pt_captive_walk'},\n",
       "   {'text': 'bus', 'value': 1.5, 'name': 'pt_captive_bus'},\n",
       "   {'text': 'subway', 'value': 1.5, 'name': 'pt_captive_subway'},\n",
       "   {'text': 'rail', 'value': 0.5, 'name': 'pt_captive_rail'},\n",
       "   {'text': 'car', 'value': 0.0, 'name': 'pt_captive_car'}]},\n",
       " {'category': 'analysis_mode_utility',\n",
       "  'param': {'text': 'how',\n",
       "   'value': 'max',\n",
       "   'name': 'analysis_mode_utility_how'}}]"
      ]
     },
     "execution_count": 98,
     "metadata": {},
     "output_type": "execute_result"
    }
   ],
   "source": [
    "var = excel.read_var(file = '../inputs/parameters.xlsx', scenario = argv['scenario']).drop(('general', 'parent'))\n",
    "\n",
    "\n",
    "var = var.to_frame().reset_index().set_index('category')\n",
    "var = var.rename(columns={'parameter': 'text', default_scenario: 'value'})\n",
    "var['name'] = var.index + '_' + var['text']\n",
    "\n",
    "\n",
    "def records(df):\n",
    "  if type(df) == pd.core.frame.DataFrame:\n",
    "    return df.to_dict('records')\n",
    "  elif type(df) == pd.core.frame.Series:\n",
    "    return df.to_dict()\n",
    "\n",
    "[{'category': cat, 'param': records(var.loc[cat])} for cat in var.index.unique()]"
   ]
  },
  {
   "cell_type": "code",
   "execution_count": 162,
   "metadata": {},
   "outputs": [],
   "source": [
    "var = excel.read_var(file = '../inputs/parameters.xlsx', scenario = argv['scenario']).drop(('general', 'parent')).to_frame()\n",
    "parameter_frame = pd.read_excel(file, sheet_name='parameters').dropna(axis=1, how='all')\n",
    "\n",
    "# types\n",
    "try:\n",
    "    types = parameter_frame.set_index(\n",
    "        ['category', 'parameter']\n",
    "    )['type'].dropna()\n",
    "    js_types_dict = {'float': 'Number', 'int': 'Number', 'bool': 'Boolean', 'str': 'String'}\n",
    "    var = var.join(types)\n",
    "    var['type'] = var['type'].apply(lambda x: js_types_dict.get(x, x))\n",
    "except KeyError:\n",
    "    var['type'] = np.nan\n",
    "\n",
    "# units\n",
    "try:\n",
    "    units = parameter_frame.set_index(\n",
    "        ['category', 'parameter']\n",
    "    )['unit'].dropna()\n",
    "    var = var.join(units)\n",
    "except KeyError:\n",
    "    var['unit'] = np.nan\n",
    "\n",
    "# hints\n",
    "try:\n",
    "    hints = parameter_frame.set_index(\n",
    "        ['category', 'parameter']\n",
    "    )['description'].dropna()\n",
    "    var = var.join(hints)\n",
    "except KeyError:\n",
    "    var['description'] = np.nan\n",
    "\n",
    "# rules\n",
    "try:\n",
    "    rules = parameter_frame.set_index(\n",
    "        ['category', 'parameter']\n",
    "    )['rules'].dropna()\n",
    "    var = var.join(rules)\n",
    "except KeyError:\n",
    "    var['rules'] = np.full((len(var), 1), ['required']).tolist()\n",
    "\n",
    "var = var.reset_index().set_index('category')\n",
    "var = var.rename(columns={'parameter': 'text', default_scenario: 'value', 'unit': 'units', 'description': 'hint'})\n",
    "var['name'] = var.index + '_' + var['text']\n",
    "var = var.where(pd.notnull(var), None)\n",
    "\n",
    "\n",
    "def records(df):\n",
    "  if type(df) == pd.core.frame.DataFrame:\n",
    "    return df.to_dict('records')\n",
    "  elif type(df) == pd.core.frame.Series:\n",
    "    return [df.to_dict()]\n",
    "\n",
    "js_params = [{'category': cat, 'params': records(var.loc[cat])} for cat in var.index.unique()]"
   ]
  },
  {
   "cell_type": "code",
   "execution_count": 163,
   "metadata": {},
   "outputs": [],
   "source": [
    "with open('params.json', 'w', encoding='utf-8-sig') as f:\n",
    "    json.dump(js_params, f, ensure_ascii=False, indent=2)"
   ]
  },
  {
   "cell_type": "code",
   "execution_count": null,
   "metadata": {},
   "outputs": [],
   "source": []
  }
 ],
 "metadata": {
  "kernelspec": {
   "display_name": "quetzal_env",
   "language": "python",
   "name": "python3"
  },
  "language_info": {
   "codemirror_mode": {
    "name": "ipython",
    "version": 3
   },
   "file_extension": ".py",
   "mimetype": "text/x-python",
   "name": "python",
   "nbconvert_exporter": "python",
   "pygments_lexer": "ipython3",
   "version": "3.8.16"
  },
  "orig_nbformat": 4
 },
 "nbformat": 4,
 "nbformat_minor": 2
}
